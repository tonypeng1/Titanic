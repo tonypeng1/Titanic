{
 "cells": [
  {
   "cell_type": "markdown",
   "metadata": {},
   "source": [
    "#### 1. Train data set is visualized in several ways using swarmplot in seaborn to provide guidelines for feature engineering followed by one-hot encoding. A total of 6 features are used:\n",
    "#### (1) Pclass and Sex are used without any modification,\n",
    "#### (2) Fare is binned into 4 groups with 'unknown' and by using bin edges 10.5 and 75,\n",
    "#### (3) SibSp and Parch are added together and binned to unkown, 0 (travel alone), 4 below, and 4 and above to form a new feature,\n",
    "#### (4) Persons with 'Master' in Name are identified and form a new feature,\n",
    "#### (5) Female in Pclass 3 with Fare > 24 is identified and forms a new feature, \n",
    "#### 2. Eight models with hyper-parameter tuning are constructed for predictions: logistic regression, random forest, gradient boosting, XGBoost, multinomial naive Bayes, k nearest neighbors, stack, and majority vote. The stack model uses all the first 6 models above as the 1st-level models and random forest as the 2nd-level model. \n",
    "#### 3. In summary, gradient boost and stack models have the highest mean cross-validation scores (both 0.842), followed by random forest and XGBoost (0.837 and 0.836, respectively), followed by logistic regression and k nearest neighbors (0.828 and 0.827, respectively), and multinomial naive Bayes has the lowest score of 0.780.\n",
    "#### However, random forest, together with stack, achieve the highest public scores of 0.799, followed by logistic regression, gradient boost, and XGBoost (all 0.794), followed by k nearest neighbors with 0.789, and multinomial naive Bayes has the lowest public score of 0.746. The majority vote also achieves the highest public score of 0.799.\n",
    "#### It is found that model performance (model's public score) may be highly dependent on the number of features chosen and the ways the features are enginnered."
   ]
  },
  {
   "cell_type": "code",
   "execution_count": 2,
   "metadata": {},
   "outputs": [],
   "source": [
    "import pandas as pd\n",
    "import numpy as np\n",
    "import matplotlib.pyplot as plt\n",
    "import seaborn as sns\n",
    "import operator\n",
    "from scipy.stats import uniform, norm\n",
    "%matplotlib inline"
   ]
  },
  {
   "cell_type": "code",
   "execution_count": 3,
   "metadata": {},
   "outputs": [],
   "source": [
    "from sklearn.metrics import classification_report, confusion_matrix\n",
    "from sklearn.preprocessing import OneHotEncoder\n",
    "from sklearn.model_selection import train_test_split, GridSearchCV, RandomizedSearchCV, \\\n",
    "cross_val_score, KFold, StratifiedKFold\n",
    "from sklearn.linear_model import LogisticRegression\n",
    "from sklearn.naive_bayes import MultinomialNB\n",
    "from sklearn.ensemble import RandomForestClassifier, GradientBoostingClassifier\n",
    "from sklearn.neighbors import KNeighborsClassifier\n",
    "import xgboost\n",
    "from xgboost import XGBClassifier\n",
    "import sklearn"
   ]
  },
  {
   "cell_type": "markdown",
   "metadata": {},
   "source": [
    "## Data visualization"
   ]
  },
  {
   "cell_type": "code",
   "execution_count": 6,
   "metadata": {},
   "outputs": [
    {
     "name": "stdout",
     "output_type": "stream",
     "text": [
      "<class 'pandas.core.frame.DataFrame'>\n",
      "RangeIndex: 891 entries, 0 to 890\n",
      "Data columns (total 12 columns):\n",
      "PassengerId    891 non-null int64\n",
      "Survived       891 non-null int64\n",
      "Pclass         891 non-null int64\n",
      "Name           891 non-null object\n",
      "Sex            891 non-null object\n",
      "Age            714 non-null float64\n",
      "SibSp          891 non-null int64\n",
      "Parch          891 non-null int64\n",
      "Ticket         891 non-null object\n",
      "Fare           891 non-null float64\n",
      "Cabin          204 non-null object\n",
      "Embarked       889 non-null object\n",
      "dtypes: float64(2), int64(5), object(5)\n",
      "memory usage: 83.6+ KB\n"
     ]
    }
   ],
   "source": [
    "data_train = pd.read_csv('train.csv')\n",
    "data_train.info()"
   ]
  },
  {
   "cell_type": "code",
   "execution_count": 7,
   "metadata": {},
   "outputs": [
    {
     "data": {
      "text/html": [
       "<div>\n",
       "<style scoped>\n",
       "    .dataframe tbody tr th:only-of-type {\n",
       "        vertical-align: middle;\n",
       "    }\n",
       "\n",
       "    .dataframe tbody tr th {\n",
       "        vertical-align: top;\n",
       "    }\n",
       "\n",
       "    .dataframe thead th {\n",
       "        text-align: right;\n",
       "    }\n",
       "</style>\n",
       "<table border=\"1\" class=\"dataframe\">\n",
       "  <thead>\n",
       "    <tr style=\"text-align: right;\">\n",
       "      <th></th>\n",
       "      <th>PassengerId</th>\n",
       "      <th>Survived</th>\n",
       "      <th>Pclass</th>\n",
       "      <th>Name</th>\n",
       "      <th>Sex</th>\n",
       "      <th>Age</th>\n",
       "      <th>SibSp</th>\n",
       "      <th>Parch</th>\n",
       "      <th>Ticket</th>\n",
       "      <th>Fare</th>\n",
       "      <th>Cabin</th>\n",
       "      <th>Embarked</th>\n",
       "    </tr>\n",
       "  </thead>\n",
       "  <tbody>\n",
       "    <tr>\n",
       "      <th>0</th>\n",
       "      <td>1</td>\n",
       "      <td>0</td>\n",
       "      <td>3</td>\n",
       "      <td>Braund, Mr. Owen Harris</td>\n",
       "      <td>male</td>\n",
       "      <td>22.0</td>\n",
       "      <td>1</td>\n",
       "      <td>0</td>\n",
       "      <td>A/5 21171</td>\n",
       "      <td>7.2500</td>\n",
       "      <td>NaN</td>\n",
       "      <td>S</td>\n",
       "    </tr>\n",
       "    <tr>\n",
       "      <th>1</th>\n",
       "      <td>2</td>\n",
       "      <td>1</td>\n",
       "      <td>1</td>\n",
       "      <td>Cumings, Mrs. John Bradley (Florence Briggs Th...</td>\n",
       "      <td>female</td>\n",
       "      <td>38.0</td>\n",
       "      <td>1</td>\n",
       "      <td>0</td>\n",
       "      <td>PC 17599</td>\n",
       "      <td>71.2833</td>\n",
       "      <td>C85</td>\n",
       "      <td>C</td>\n",
       "    </tr>\n",
       "    <tr>\n",
       "      <th>2</th>\n",
       "      <td>3</td>\n",
       "      <td>1</td>\n",
       "      <td>3</td>\n",
       "      <td>Heikkinen, Miss. Laina</td>\n",
       "      <td>female</td>\n",
       "      <td>26.0</td>\n",
       "      <td>0</td>\n",
       "      <td>0</td>\n",
       "      <td>STON/O2. 3101282</td>\n",
       "      <td>7.9250</td>\n",
       "      <td>NaN</td>\n",
       "      <td>S</td>\n",
       "    </tr>\n",
       "    <tr>\n",
       "      <th>3</th>\n",
       "      <td>4</td>\n",
       "      <td>1</td>\n",
       "      <td>1</td>\n",
       "      <td>Futrelle, Mrs. Jacques Heath (Lily May Peel)</td>\n",
       "      <td>female</td>\n",
       "      <td>35.0</td>\n",
       "      <td>1</td>\n",
       "      <td>0</td>\n",
       "      <td>113803</td>\n",
       "      <td>53.1000</td>\n",
       "      <td>C123</td>\n",
       "      <td>S</td>\n",
       "    </tr>\n",
       "    <tr>\n",
       "      <th>4</th>\n",
       "      <td>5</td>\n",
       "      <td>0</td>\n",
       "      <td>3</td>\n",
       "      <td>Allen, Mr. William Henry</td>\n",
       "      <td>male</td>\n",
       "      <td>35.0</td>\n",
       "      <td>0</td>\n",
       "      <td>0</td>\n",
       "      <td>373450</td>\n",
       "      <td>8.0500</td>\n",
       "      <td>NaN</td>\n",
       "      <td>S</td>\n",
       "    </tr>\n",
       "  </tbody>\n",
       "</table>\n",
       "</div>"
      ],
      "text/plain": [
       "   PassengerId  Survived  Pclass  \\\n",
       "0            1         0       3   \n",
       "1            2         1       1   \n",
       "2            3         1       3   \n",
       "3            4         1       1   \n",
       "4            5         0       3   \n",
       "\n",
       "                                                Name     Sex   Age  SibSp  \\\n",
       "0                            Braund, Mr. Owen Harris    male  22.0      1   \n",
       "1  Cumings, Mrs. John Bradley (Florence Briggs Th...  female  38.0      1   \n",
       "2                             Heikkinen, Miss. Laina  female  26.0      0   \n",
       "3       Futrelle, Mrs. Jacques Heath (Lily May Peel)  female  35.0      1   \n",
       "4                           Allen, Mr. William Henry    male  35.0      0   \n",
       "\n",
       "   Parch            Ticket     Fare Cabin Embarked  \n",
       "0      0         A/5 21171   7.2500   NaN        S  \n",
       "1      0          PC 17599  71.2833   C85        C  \n",
       "2      0  STON/O2. 3101282   7.9250   NaN        S  \n",
       "3      0            113803  53.1000  C123        S  \n",
       "4      0            373450   8.0500   NaN        S  "
      ]
     },
     "execution_count": 7,
     "metadata": {},
     "output_type": "execute_result"
    }
   ],
   "source": [
    "data_train.head()"
   ]
  },
  {
   "cell_type": "code",
   "execution_count": 8,
   "metadata": {},
   "outputs": [],
   "source": [
    "sns.set(style='darkgrid')\n",
    "colors = ['darkred', 'darkseagreen']"
   ]
  },
  {
   "cell_type": "markdown",
   "metadata": {},
   "source": [
    "### 1. Visualize the survival chance of persons with different fare"
   ]
  },
  {
   "cell_type": "code",
   "execution_count": 9,
   "metadata": {},
   "outputs": [
    {
     "data": {
      "text/html": [
       "<div>\n",
       "<style scoped>\n",
       "    .dataframe tbody tr th:only-of-type {\n",
       "        vertical-align: middle;\n",
       "    }\n",
       "\n",
       "    .dataframe tbody tr th {\n",
       "        vertical-align: top;\n",
       "    }\n",
       "\n",
       "    .dataframe thead th {\n",
       "        text-align: right;\n",
       "    }\n",
       "</style>\n",
       "<table border=\"1\" class=\"dataframe\">\n",
       "  <thead>\n",
       "    <tr style=\"text-align: right;\">\n",
       "      <th></th>\n",
       "      <th>PassengerId</th>\n",
       "      <th>Survived</th>\n",
       "      <th>Pclass</th>\n",
       "      <th>Name</th>\n",
       "      <th>Sex</th>\n",
       "      <th>Age</th>\n",
       "      <th>SibSp</th>\n",
       "      <th>Parch</th>\n",
       "      <th>Ticket</th>\n",
       "      <th>Fare</th>\n",
       "      <th>Cabin</th>\n",
       "      <th>Embarked</th>\n",
       "    </tr>\n",
       "  </thead>\n",
       "  <tbody>\n",
       "    <tr>\n",
       "      <th>258</th>\n",
       "      <td>259</td>\n",
       "      <td>1</td>\n",
       "      <td>1</td>\n",
       "      <td>Ward, Miss. Anna</td>\n",
       "      <td>female</td>\n",
       "      <td>35.0</td>\n",
       "      <td>0</td>\n",
       "      <td>0</td>\n",
       "      <td>PC 17755</td>\n",
       "      <td>512.3292</td>\n",
       "      <td>NaN</td>\n",
       "      <td>C</td>\n",
       "    </tr>\n",
       "    <tr>\n",
       "      <th>679</th>\n",
       "      <td>680</td>\n",
       "      <td>1</td>\n",
       "      <td>1</td>\n",
       "      <td>Cardeza, Mr. Thomas Drake Martinez</td>\n",
       "      <td>male</td>\n",
       "      <td>36.0</td>\n",
       "      <td>0</td>\n",
       "      <td>1</td>\n",
       "      <td>PC 17755</td>\n",
       "      <td>512.3292</td>\n",
       "      <td>B51 B53 B55</td>\n",
       "      <td>C</td>\n",
       "    </tr>\n",
       "    <tr>\n",
       "      <th>737</th>\n",
       "      <td>738</td>\n",
       "      <td>1</td>\n",
       "      <td>1</td>\n",
       "      <td>Lesurer, Mr. Gustave J</td>\n",
       "      <td>male</td>\n",
       "      <td>35.0</td>\n",
       "      <td>0</td>\n",
       "      <td>0</td>\n",
       "      <td>PC 17755</td>\n",
       "      <td>512.3292</td>\n",
       "      <td>B101</td>\n",
       "      <td>C</td>\n",
       "    </tr>\n",
       "  </tbody>\n",
       "</table>\n",
       "</div>"
      ],
      "text/plain": [
       "     PassengerId  Survived  Pclass                                Name  \\\n",
       "258          259         1       1                    Ward, Miss. Anna   \n",
       "679          680         1       1  Cardeza, Mr. Thomas Drake Martinez   \n",
       "737          738         1       1              Lesurer, Mr. Gustave J   \n",
       "\n",
       "        Sex   Age  SibSp  Parch    Ticket      Fare        Cabin Embarked  \n",
       "258  female  35.0      0      0  PC 17755  512.3292          NaN        C  \n",
       "679    male  36.0      0      1  PC 17755  512.3292  B51 B53 B55        C  \n",
       "737    male  35.0      0      0  PC 17755  512.3292         B101        C  "
      ]
     },
     "execution_count": 9,
     "metadata": {},
     "output_type": "execute_result"
    }
   ],
   "source": [
    "data_train[data_train['Fare'] > 300]"
   ]
  },
  {
   "cell_type": "code",
   "execution_count": 10,
   "metadata": {},
   "outputs": [
    {
     "data": {
      "text/plain": [
       "<matplotlib.axes._subplots.AxesSubplot at 0x1e613fc46a0>"
      ]
     },
     "execution_count": 10,
     "metadata": {},
     "output_type": "execute_result"
    },
    {
     "data": {
      "image/png": "[encoded data removed]",
      "text/plain": [
       "<matplotlib.figure.Figure at 0x1e613fb14e0>"
      ]
     },
     "metadata": {},
     "output_type": "display_data"
    }
   ],
   "source": [
    "fig, ax = plt.subplots(figsize=(17,12))\n",
    "ax.set_ylim(0, 300)\n",
    "ax.set_yticks(np.arange(0, 300, 10))\n",
    "sns.swarmplot(y=data_train['Fare'], x=[\"\"]*len(data_train), size=4, \n",
    "              hue=data_train['Survived'], palette=colors)"
   ]
  },
  {
   "cell_type": "markdown",
   "metadata": {},
   "source": [
    "#### The plot above shows that persons with fare above 75 had a relatively good chance of survival, and those with fare below about 10.5 the chance was quite bad, and those with fare in between seems to have a chance somewhere in the middle. "
   ]
  },
  {
   "cell_type": "markdown",
   "metadata": {},
   "source": [
    "### 2. Add 'SibSp' and 'Parch' together and visualize the chance of survival"
   ]
  },
  {
   "cell_type": "code",
   "execution_count": 11,
   "metadata": {},
   "outputs": [
    {
     "data": {
      "text/plain": [
       "SibSp_Parch  Survived\n",
       "0            0           374\n",
       "             1           163\n",
       "1            1            89\n",
       "             0            72\n",
       "2            1            59\n",
       "             0            43\n",
       "3            1            21\n",
       "             0             8\n",
       "4            0            12\n",
       "             1             3\n",
       "5            0            19\n",
       "             1             3\n",
       "6            0             8\n",
       "             1             4\n",
       "7            0             6\n",
       "10           0             7\n",
       "Name: Survived, dtype: int64"
      ]
     },
     "execution_count": 11,
     "metadata": {},
     "output_type": "execute_result"
    }
   ],
   "source": [
    "df_try = data_train.copy()\n",
    "df_try['SibSp_Parch'] = df_try['SibSp'] + df_try['Parch']\n",
    "df_try.groupby('SibSp_Parch')['Survived'].value_counts()"
   ]
  },
  {
   "cell_type": "code",
   "execution_count": 12,
   "metadata": {},
   "outputs": [
    {
     "data": {
      "text/plain": [
       "<matplotlib.axes._subplots.AxesSubplot at 0x1e61433d0b8>"
      ]
     },
     "execution_count": 12,
     "metadata": {},
     "output_type": "execute_result"
    },
    {
     "data": {
      "image/png": "[encoded data removed]",
      "text/plain": [
       "<matplotlib.figure.Figure at 0x1e613fb1ef0>"
      ]
     },
     "metadata": {},
     "output_type": "display_data"
    }
   ],
   "source": [
    "fig, ax = plt.subplots(figsize=(17, 7))\n",
    "sns.swarmplot(y=df_try['SibSp_Parch'], x=[\"\"]*len(df_try), size=4, hue=df_try['Survived'], \n",
    "              palette=colors)"
   ]
  },
  {
   "cell_type": "markdown",
   "metadata": {},
   "source": [
    "#### The plot above shows that persons with 4 relatives or above had a relatively small chance of survival, and the same is true (to a lesser extent) with persons who traveled alone with 0 relatives. In contrast, persons with 1 to 3 relatives had a better chance of survival.   "
   ]
  },
  {
   "cell_type": "markdown",
   "metadata": {},
   "source": [
    "### 3. Visualize chance of survival in plots combining sex, age, and Pclass"
   ]
  },
  {
   "cell_type": "code",
   "execution_count": 13,
   "metadata": {},
   "outputs": [
    {
     "data": {
      "text/plain": [
       "<seaborn.axisgrid.FacetGrid at 0x1e6143440b8>"
      ]
     },
     "execution_count": 13,
     "metadata": {},
     "output_type": "execute_result"
    },
    {
     "data": {
      "image/png": "[encoded data removed]",
      "text/plain": [
       "<matplotlib.figure.Figure at 0x1e6143445f8>"
      ]
     },
     "metadata": {},
     "output_type": "display_data"
    }
   ],
   "source": [
    "g1 = sns.FacetGrid(data_train, col='Pclass', hue='Survived', palette=colors, size=5, aspect=1)\n",
    "g1 = g1.map(sns.swarmplot, 'Sex', 'Age', order=['male', 'female'], size=5)\n",
    "g1.add_legend()"
   ]
  },
  {
   "cell_type": "markdown",
   "metadata": {},
   "source": [
    "#### It can be seen from the plot above that male with age less than about 12 years old had a better chance of survival compared to male older than this age. We will later create a new feature to reflect this."
   ]
  },
  {
   "cell_type": "code",
   "execution_count": 21,
   "metadata": {},
   "outputs": [
    {
     "ename": "NameError",
     "evalue": "name 'data_train' is not defined",
     "output_type": "error",
     "traceback": [
      "\u001b[1;31m---------------------------------------------------------------------------\u001b[0m",
      "\u001b[1;31mNameError\u001b[0m                                 Traceback (most recent call last)",
      "\u001b[1;32m<ipython-input-21-f636b48d1c78>\u001b[0m in \u001b[0;36m<module>\u001b[1;34m()\u001b[0m\n\u001b[1;32m----> 1\u001b[1;33m \u001b[0mmask_master\u001b[0m \u001b[1;33m=\u001b[0m \u001b[0mpd\u001b[0m\u001b[1;33m.\u001b[0m\u001b[0mSeries\u001b[0m\u001b[1;33m(\u001b[0m\u001b[1;34m'Master'\u001b[0m \u001b[1;32min\u001b[0m \u001b[0mi\u001b[0m \u001b[1;32mfor\u001b[0m \u001b[0mi\u001b[0m \u001b[1;32min\u001b[0m \u001b[0mdata_train\u001b[0m\u001b[1;33m[\u001b[0m\u001b[1;34m'Name'\u001b[0m\u001b[1;33m]\u001b[0m\u001b[1;33m)\u001b[0m\u001b[1;33m\u001b[0m\u001b[0m\n\u001b[0m\u001b[0;32m      2\u001b[0m \u001b[0mdata_train\u001b[0m\u001b[1;33m[\u001b[0m\u001b[0mmask_master\u001b[0m\u001b[1;33m]\u001b[0m\u001b[1;33m.\u001b[0m\u001b[0msort_values\u001b[0m\u001b[1;33m(\u001b[0m\u001b[1;34m'Age'\u001b[0m\u001b[1;33m,\u001b[0m \u001b[0mascending\u001b[0m\u001b[1;33m=\u001b[0m\u001b[1;32mFalse\u001b[0m\u001b[1;33m)\u001b[0m\u001b[1;33m.\u001b[0m\u001b[0mhead\u001b[0m\u001b[1;33m(\u001b[0m\u001b[1;36m10\u001b[0m\u001b[1;33m)\u001b[0m\u001b[1;33m\u001b[0m\u001b[0m\n",
      "\u001b[1;31mNameError\u001b[0m: name 'data_train' is not defined"
     ]
    }
   ],
   "source": [
    "mask_master = pd.Series('Master' in i for i in data_train['Name'])\n",
    "data_train[mask_master].sort_values('Age', ascending=False).head(10)"
   ]
  },
  {
   "cell_type": "markdown",
   "metadata": {},
   "source": [
    "#### From the table above it can be seen that if a person has 'Master' in 'Name' then this person is a male with age less than or equal to 12 years old."
   ]
  },
  {
   "cell_type": "code",
   "execution_count": 13,
   "metadata": {},
   "outputs": [
    {
     "data": {
      "text/plain": [
       "<matplotlib.axes._subplots.AxesSubplot at 0x175d00bee48>"
      ]
     },
     "execution_count": 13,
     "metadata": {},
     "output_type": "execute_result"
    },
    {
     "data": {
      "image/png": "[encoded data removed]",
      "text/plain": [
       "<matplotlib.figure.Figure at 0x175cff8bcf8>"
      ]
     },
     "metadata": {},
     "output_type": "display_data"
    }
   ],
   "source": [
    "fig, ax = plt.subplots(figsize=(17, 5))\n",
    "sns.swarmplot(x='Sex', y='Fare', data=data_train[data_train['Pclass']==3], size=4, \n",
    "              hue='Survived', palette=colors)"
   ]
  },
  {
   "cell_type": "markdown",
   "metadata": {},
   "source": [
    "#### It can be seen from the plot above that female in Pclass 3 with fare greater than about 24 almost all did not make it. We will also later create a new feature to reflect this."
   ]
  },
  {
   "cell_type": "markdown",
   "metadata": {},
   "source": [
    "## Data cleaning and preprocessing"
   ]
  },
  {
   "cell_type": "code",
   "execution_count": 14,
   "metadata": {},
   "outputs": [
    {
     "data": {
      "text/html": [
       "<div>\n",
       "<style scoped>\n",
       "    .dataframe tbody tr th:only-of-type {\n",
       "        vertical-align: middle;\n",
       "    }\n",
       "\n",
       "    .dataframe tbody tr th {\n",
       "        vertical-align: top;\n",
       "    }\n",
       "\n",
       "    .dataframe thead th {\n",
       "        text-align: right;\n",
       "    }\n",
       "</style>\n",
       "<table border=\"1\" class=\"dataframe\">\n",
       "  <thead>\n",
       "    <tr style=\"text-align: right;\">\n",
       "      <th></th>\n",
       "      <th>PassengerId</th>\n",
       "      <th>Pclass</th>\n",
       "      <th>Name</th>\n",
       "      <th>Sex</th>\n",
       "      <th>Age</th>\n",
       "      <th>SibSp</th>\n",
       "      <th>Parch</th>\n",
       "      <th>Ticket</th>\n",
       "      <th>Fare</th>\n",
       "      <th>Cabin</th>\n",
       "      <th>Embarked</th>\n",
       "    </tr>\n",
       "  </thead>\n",
       "  <tbody>\n",
       "    <tr>\n",
       "      <th>0</th>\n",
       "      <td>1</td>\n",
       "      <td>3</td>\n",
       "      <td>Braund, Mr. Owen Harris</td>\n",
       "      <td>male</td>\n",
       "      <td>22.0</td>\n",
       "      <td>1</td>\n",
       "      <td>0</td>\n",
       "      <td>A/5 21171</td>\n",
       "      <td>7.2500</td>\n",
       "      <td>NaN</td>\n",
       "      <td>S</td>\n",
       "    </tr>\n",
       "    <tr>\n",
       "      <th>1</th>\n",
       "      <td>2</td>\n",
       "      <td>1</td>\n",
       "      <td>Cumings, Mrs. John Bradley (Florence Briggs Th...</td>\n",
       "      <td>female</td>\n",
       "      <td>38.0</td>\n",
       "      <td>1</td>\n",
       "      <td>0</td>\n",
       "      <td>PC 17599</td>\n",
       "      <td>71.2833</td>\n",
       "      <td>C85</td>\n",
       "      <td>C</td>\n",
       "    </tr>\n",
       "    <tr>\n",
       "      <th>2</th>\n",
       "      <td>3</td>\n",
       "      <td>3</td>\n",
       "      <td>Heikkinen, Miss. Laina</td>\n",
       "      <td>female</td>\n",
       "      <td>26.0</td>\n",
       "      <td>0</td>\n",
       "      <td>0</td>\n",
       "      <td>STON/O2. 3101282</td>\n",
       "      <td>7.9250</td>\n",
       "      <td>NaN</td>\n",
       "      <td>S</td>\n",
       "    </tr>\n",
       "    <tr>\n",
       "      <th>3</th>\n",
       "      <td>4</td>\n",
       "      <td>1</td>\n",
       "      <td>Futrelle, Mrs. Jacques Heath (Lily May Peel)</td>\n",
       "      <td>female</td>\n",
       "      <td>35.0</td>\n",
       "      <td>1</td>\n",
       "      <td>0</td>\n",
       "      <td>113803</td>\n",
       "      <td>53.1000</td>\n",
       "      <td>C123</td>\n",
       "      <td>S</td>\n",
       "    </tr>\n",
       "    <tr>\n",
       "      <th>4</th>\n",
       "      <td>5</td>\n",
       "      <td>3</td>\n",
       "      <td>Allen, Mr. William Henry</td>\n",
       "      <td>male</td>\n",
       "      <td>35.0</td>\n",
       "      <td>0</td>\n",
       "      <td>0</td>\n",
       "      <td>373450</td>\n",
       "      <td>8.0500</td>\n",
       "      <td>NaN</td>\n",
       "      <td>S</td>\n",
       "    </tr>\n",
       "  </tbody>\n",
       "</table>\n",
       "</div>"
      ],
      "text/plain": [
       "   PassengerId  Pclass                                               Name  \\\n",
       "0            1       3                            Braund, Mr. Owen Harris   \n",
       "1            2       1  Cumings, Mrs. John Bradley (Florence Briggs Th...   \n",
       "2            3       3                             Heikkinen, Miss. Laina   \n",
       "3            4       1       Futrelle, Mrs. Jacques Heath (Lily May Peel)   \n",
       "4            5       3                           Allen, Mr. William Henry   \n",
       "\n",
       "      Sex   Age  SibSp  Parch            Ticket     Fare Cabin Embarked  \n",
       "0    male  22.0      1      0         A/5 21171   7.2500   NaN        S  \n",
       "1  female  38.0      1      0          PC 17599  71.2833   C85        C  \n",
       "2  female  26.0      0      0  STON/O2. 3101282   7.9250   NaN        S  \n",
       "3  female  35.0      1      0            113803  53.1000  C123        S  \n",
       "4    male  35.0      0      0            373450   8.0500   NaN        S  "
      ]
     },
     "execution_count": 14,
     "metadata": {},
     "output_type": "execute_result"
    }
   ],
   "source": [
    "y = data_train['Survived']\n",
    "X = data_train.drop('Survived', axis=1)\n",
    "X.head()"
   ]
  },
  {
   "cell_type": "code",
   "execution_count": 15,
   "metadata": {},
   "outputs": [],
   "source": [
    "def combine_Sib_Par(df):\n",
    "    \"\"\"Sum the two columns SibSp and Parch together.\"\"\"\n",
    "    df['SibSp_Parch'] = df['SibSp'] + df['Parch']\n",
    "\n",
    "def add_name_master_feature(df):\n",
    "    \"\"\"Create a new feature: if Master in Name, then Yes, otherwise, No.\"\"\"\n",
    "    mask_master = pd.Series('Master' in i for i in df['Name'])\n",
    "    df1 = df['Name'].mask(mask_master, 'Yes')\n",
    "    df['Name_Master'] = df1.where(mask_master, 'No')    \n",
    "    \n",
    "def add_female_pclass_3_high_fare_feature(df):\n",
    "    \"\"\"Create a new feature: if female, in Pclass 3, and Fare > 24, Yes, otherwise, No.\"\"\"\n",
    "    df_temp = df[((df['Pclass']==3) & (df['Sex']=='female')) & (df['Fare']>24.)]\n",
    "    mask = df.index.isin(df_temp.index)\n",
    "    df['Fem_Hfare_Pcl3'] = pd.Series(range(df.shape[0])).mask(mask, 'Yes')\n",
    "    df['Fem_Hfare_Pcl3'] = df['Fem_Hfare_Pcl3'].where(mask, 'No')\n",
    "\n",
    "def drop_feature(df):\n",
    "    df.drop(['PassengerId', 'Name', 'Age', 'SibSp', 'Parch', 'Ticket', 'Cabin', 'Embarked'], \\\n",
    "            axis=1, inplace=True)\n",
    "    \n",
    "def fill_feature(df):\n",
    "    \"\"\"Fill all NaN values.\"\"\"\n",
    "    df['Pclass'] = df['Pclass'].fillna(-1)\n",
    "    df['Sex'] = df['Sex'].fillna('Unknown')\n",
    "    df['SibSp_Parch'] = df['SibSp_Parch'].fillna(-1)\n",
    "    df['Fare'] = df['Fare'].fillna(-0.5)\n",
    "\n",
    "def bin_fare_and_SibSpParch(df):\n",
    "    \"\"\"Bin Fare and SibSp_Parch based on previous visualization results.\"\"\"\n",
    "    bins = (-1, 0, 10.5, 75, 1500)\n",
    "    group_names = ['Unknown', '10.5_below', '10.5_to_75', '75_above']\n",
    "    df['Fare'] = pd.cut(df['Fare'], bins, labels=group_names, right=False)\n",
    "    \n",
    "    bins = (-1, -0.1, 0.1, 4, 50)\n",
    "    group_names = ['Unknown', '0', '4_below', '4_above']\n",
    "    df['SibSp_Parch'] = pd.cut(df['SibSp_Parch'], bins, labels=group_names, right=False)\n",
    "\n",
    "def data_transform(df):\n",
    "    combine_Sib_Par(df)\n",
    "    add_name_master_feature(df)\n",
    "    add_female_pclass_3_high_fare_feature(df)\n",
    "    drop_feature(df)\n",
    "    fill_feature(df)\n",
    "    bin_fare_and_SibSpParch(df)"
   ]
  },
  {
   "cell_type": "code",
   "execution_count": 16,
   "metadata": {},
   "outputs": [],
   "source": [
    "data_transform(X)"
   ]
  },
  {
   "cell_type": "code",
   "execution_count": 17,
   "metadata": {},
   "outputs": [
    {
     "data": {
      "text/html": [
       "<div>\n",
       "<style scoped>\n",
       "    .dataframe tbody tr th:only-of-type {\n",
       "        vertical-align: middle;\n",
       "    }\n",
       "\n",
       "    .dataframe tbody tr th {\n",
       "        vertical-align: top;\n",
       "    }\n",
       "\n",
       "    .dataframe thead th {\n",
       "        text-align: right;\n",
       "    }\n",
       "</style>\n",
       "<table border=\"1\" class=\"dataframe\">\n",
       "  <thead>\n",
       "    <tr style=\"text-align: right;\">\n",
       "      <th></th>\n",
       "      <th>Pclass</th>\n",
       "      <th>Sex</th>\n",
       "      <th>Fare</th>\n",
       "      <th>SibSp_Parch</th>\n",
       "      <th>Name_Master</th>\n",
       "      <th>Fem_Hfare_Pcl3</th>\n",
       "    </tr>\n",
       "  </thead>\n",
       "  <tbody>\n",
       "    <tr>\n",
       "      <th>0</th>\n",
       "      <td>3</td>\n",
       "      <td>male</td>\n",
       "      <td>10.5_below</td>\n",
       "      <td>4_below</td>\n",
       "      <td>No</td>\n",
       "      <td>No</td>\n",
       "    </tr>\n",
       "    <tr>\n",
       "      <th>1</th>\n",
       "      <td>1</td>\n",
       "      <td>female</td>\n",
       "      <td>10.5_to_75</td>\n",
       "      <td>4_below</td>\n",
       "      <td>No</td>\n",
       "      <td>No</td>\n",
       "    </tr>\n",
       "    <tr>\n",
       "      <th>2</th>\n",
       "      <td>3</td>\n",
       "      <td>female</td>\n",
       "      <td>10.5_below</td>\n",
       "      <td>0</td>\n",
       "      <td>No</td>\n",
       "      <td>No</td>\n",
       "    </tr>\n",
       "    <tr>\n",
       "      <th>3</th>\n",
       "      <td>1</td>\n",
       "      <td>female</td>\n",
       "      <td>10.5_to_75</td>\n",
       "      <td>4_below</td>\n",
       "      <td>No</td>\n",
       "      <td>No</td>\n",
       "    </tr>\n",
       "    <tr>\n",
       "      <th>4</th>\n",
       "      <td>3</td>\n",
       "      <td>male</td>\n",
       "      <td>10.5_below</td>\n",
       "      <td>0</td>\n",
       "      <td>No</td>\n",
       "      <td>No</td>\n",
       "    </tr>\n",
       "    <tr>\n",
       "      <th>5</th>\n",
       "      <td>3</td>\n",
       "      <td>male</td>\n",
       "      <td>10.5_below</td>\n",
       "      <td>0</td>\n",
       "      <td>No</td>\n",
       "      <td>No</td>\n",
       "    </tr>\n",
       "    <tr>\n",
       "      <th>6</th>\n",
       "      <td>1</td>\n",
       "      <td>male</td>\n",
       "      <td>10.5_to_75</td>\n",
       "      <td>0</td>\n",
       "      <td>No</td>\n",
       "      <td>No</td>\n",
       "    </tr>\n",
       "    <tr>\n",
       "      <th>7</th>\n",
       "      <td>3</td>\n",
       "      <td>male</td>\n",
       "      <td>10.5_to_75</td>\n",
       "      <td>4_above</td>\n",
       "      <td>Yes</td>\n",
       "      <td>No</td>\n",
       "    </tr>\n",
       "    <tr>\n",
       "      <th>8</th>\n",
       "      <td>3</td>\n",
       "      <td>female</td>\n",
       "      <td>10.5_to_75</td>\n",
       "      <td>4_below</td>\n",
       "      <td>No</td>\n",
       "      <td>No</td>\n",
       "    </tr>\n",
       "    <tr>\n",
       "      <th>9</th>\n",
       "      <td>2</td>\n",
       "      <td>female</td>\n",
       "      <td>10.5_to_75</td>\n",
       "      <td>4_below</td>\n",
       "      <td>No</td>\n",
       "      <td>No</td>\n",
       "    </tr>\n",
       "  </tbody>\n",
       "</table>\n",
       "</div>"
      ],
      "text/plain": [
       "   Pclass     Sex        Fare SibSp_Parch Name_Master Fem_Hfare_Pcl3\n",
       "0       3    male  10.5_below     4_below          No             No\n",
       "1       1  female  10.5_to_75     4_below          No             No\n",
       "2       3  female  10.5_below           0          No             No\n",
       "3       1  female  10.5_to_75     4_below          No             No\n",
       "4       3    male  10.5_below           0          No             No\n",
       "5       3    male  10.5_below           0          No             No\n",
       "6       1    male  10.5_to_75           0          No             No\n",
       "7       3    male  10.5_to_75     4_above         Yes             No\n",
       "8       3  female  10.5_to_75     4_below          No             No\n",
       "9       2  female  10.5_to_75     4_below          No             No"
      ]
     },
     "execution_count": 17,
     "metadata": {},
     "output_type": "execute_result"
    }
   ],
   "source": [
    "X.head(10)"
   ]
  },
  {
   "cell_type": "code",
   "execution_count": 18,
   "metadata": {},
   "outputs": [
    {
     "name": "stdout",
     "output_type": "stream",
     "text": [
      "<class 'pandas.core.frame.DataFrame'>\n",
      "RangeIndex: 891 entries, 0 to 890\n",
      "Data columns (total 6 columns):\n",
      "Pclass            891 non-null int64\n",
      "Sex               891 non-null object\n",
      "Fare              891 non-null category\n",
      "SibSp_Parch       891 non-null category\n",
      "Name_Master       891 non-null object\n",
      "Fem_Hfare_Pcl3    891 non-null object\n",
      "dtypes: category(2), int64(1), object(3)\n",
      "memory usage: 30.0+ KB\n"
     ]
    }
   ],
   "source": [
    "X.info()"
   ]
  },
  {
   "cell_type": "code",
   "execution_count": 19,
   "metadata": {},
   "outputs": [
    {
     "data": {
      "text/plain": [
       "[array([0., 0., 1., 0., 1., 1., 0., 0., 0., 0., 1., 1., 0., 1., 0.]),\n",
       " array([1., 0., 0., 1., 0., 0., 1., 0., 0., 0., 1., 1., 0., 1., 0.]),\n",
       " array([0., 0., 1., 1., 0., 1., 0., 0., 1., 0., 0., 1., 0., 1., 0.]),\n",
       " array([1., 0., 0., 1., 0., 0., 1., 0., 0., 0., 1., 1., 0., 1., 0.]),\n",
       " array([0., 0., 1., 0., 1., 1., 0., 0., 1., 0., 0., 1., 0., 1., 0.])]"
      ]
     },
     "execution_count": 19,
     "metadata": {},
     "output_type": "execute_result"
    }
   ],
   "source": [
    "ohe = OneHotEncoder(handle_unknown='ignore')\n",
    "X_1 = ohe.fit_transform(X).toarray()\n",
    "list(X_1)[:5] "
   ]
  },
  {
   "cell_type": "code",
   "execution_count": 20,
   "metadata": {},
   "outputs": [
    {
     "data": {
      "text/plain": [
       "[array([1, 2, 3], dtype=int64),\n",
       " array(['female', 'male'], dtype=object),\n",
       " array(['10.5_below', '10.5_to_75', '75_above'], dtype=object),\n",
       " array(['0', '4_above', '4_below'], dtype=object),\n",
       " array(['No', 'Yes'], dtype=object),\n",
       " array(['No', 'Yes'], dtype=object)]"
      ]
     },
     "execution_count": 20,
     "metadata": {},
     "output_type": "execute_result"
    }
   ],
   "source": [
    "ohe.categories_"
   ]
  },
  {
   "cell_type": "code",
   "execution_count": 21,
   "metadata": {},
   "outputs": [
    {
     "data": {
      "text/plain": [
       "array(['Pclass_1', 'Pclass_2', 'Pclass_3', 'Sex_female', 'Sex_male',\n",
       "       'Fare_10.5_below', 'Fare_10.5_to_75', 'Fare_75_above',\n",
       "       'SibSp_Parch_0', 'SibSp_Parch_4_above', 'SibSp_Parch_4_below',\n",
       "       'Name_Master_No', 'Name_Master_Yes', 'Fem_Hfare_Pcl3_No',\n",
       "       'Fem_Hfare_Pcl3_Yes'], dtype=object)"
      ]
     },
     "execution_count": 21,
     "metadata": {},
     "output_type": "execute_result"
    }
   ],
   "source": [
    "x_ax = ohe.get_feature_names(['Pclass', 'Sex', 'Fare', 'SibSp_Parch', 'Name_Master', \n",
    "                              'Fem_Hfare_Pcl3'])\n",
    "x_ax"
   ]
  },
  {
   "cell_type": "code",
   "execution_count": 22,
   "metadata": {},
   "outputs": [
    {
     "data": {
      "text/html": [
       "<div>\n",
       "<style scoped>\n",
       "    .dataframe tbody tr th:only-of-type {\n",
       "        vertical-align: middle;\n",
       "    }\n",
       "\n",
       "    .dataframe tbody tr th {\n",
       "        vertical-align: top;\n",
       "    }\n",
       "\n",
       "    .dataframe thead th {\n",
       "        text-align: right;\n",
       "    }\n",
       "</style>\n",
       "<table border=\"1\" class=\"dataframe\">\n",
       "  <thead>\n",
       "    <tr style=\"text-align: right;\">\n",
       "      <th></th>\n",
       "      <th>Pclass_1</th>\n",
       "      <th>Pclass_2</th>\n",
       "      <th>Pclass_3</th>\n",
       "      <th>Sex_female</th>\n",
       "      <th>Sex_male</th>\n",
       "      <th>Fare_10.5_below</th>\n",
       "      <th>Fare_10.5_to_75</th>\n",
       "      <th>Fare_75_above</th>\n",
       "      <th>SibSp_Parch_0</th>\n",
       "      <th>SibSp_Parch_4_above</th>\n",
       "      <th>SibSp_Parch_4_below</th>\n",
       "      <th>Name_Master_No</th>\n",
       "      <th>Name_Master_Yes</th>\n",
       "      <th>Fem_Hfare_Pcl3_No</th>\n",
       "      <th>Fem_Hfare_Pcl3_Yes</th>\n",
       "    </tr>\n",
       "  </thead>\n",
       "  <tbody>\n",
       "    <tr>\n",
       "      <th>0</th>\n",
       "      <td>0.0</td>\n",
       "      <td>0.0</td>\n",
       "      <td>1.0</td>\n",
       "      <td>0.0</td>\n",
       "      <td>1.0</td>\n",
       "      <td>1.0</td>\n",
       "      <td>0.0</td>\n",
       "      <td>0.0</td>\n",
       "      <td>0.0</td>\n",
       "      <td>0.0</td>\n",
       "      <td>1.0</td>\n",
       "      <td>1.0</td>\n",
       "      <td>0.0</td>\n",
       "      <td>1.0</td>\n",
       "      <td>0.0</td>\n",
       "    </tr>\n",
       "    <tr>\n",
       "      <th>1</th>\n",
       "      <td>1.0</td>\n",
       "      <td>0.0</td>\n",
       "      <td>0.0</td>\n",
       "      <td>1.0</td>\n",
       "      <td>0.0</td>\n",
       "      <td>0.0</td>\n",
       "      <td>1.0</td>\n",
       "      <td>0.0</td>\n",
       "      <td>0.0</td>\n",
       "      <td>0.0</td>\n",
       "      <td>1.0</td>\n",
       "      <td>1.0</td>\n",
       "      <td>0.0</td>\n",
       "      <td>1.0</td>\n",
       "      <td>0.0</td>\n",
       "    </tr>\n",
       "    <tr>\n",
       "      <th>2</th>\n",
       "      <td>0.0</td>\n",
       "      <td>0.0</td>\n",
       "      <td>1.0</td>\n",
       "      <td>1.0</td>\n",
       "      <td>0.0</td>\n",
       "      <td>1.0</td>\n",
       "      <td>0.0</td>\n",
       "      <td>0.0</td>\n",
       "      <td>1.0</td>\n",
       "      <td>0.0</td>\n",
       "      <td>0.0</td>\n",
       "      <td>1.0</td>\n",
       "      <td>0.0</td>\n",
       "      <td>1.0</td>\n",
       "      <td>0.0</td>\n",
       "    </tr>\n",
       "    <tr>\n",
       "      <th>3</th>\n",
       "      <td>1.0</td>\n",
       "      <td>0.0</td>\n",
       "      <td>0.0</td>\n",
       "      <td>1.0</td>\n",
       "      <td>0.0</td>\n",
       "      <td>0.0</td>\n",
       "      <td>1.0</td>\n",
       "      <td>0.0</td>\n",
       "      <td>0.0</td>\n",
       "      <td>0.0</td>\n",
       "      <td>1.0</td>\n",
       "      <td>1.0</td>\n",
       "      <td>0.0</td>\n",
       "      <td>1.0</td>\n",
       "      <td>0.0</td>\n",
       "    </tr>\n",
       "    <tr>\n",
       "      <th>4</th>\n",
       "      <td>0.0</td>\n",
       "      <td>0.0</td>\n",
       "      <td>1.0</td>\n",
       "      <td>0.0</td>\n",
       "      <td>1.0</td>\n",
       "      <td>1.0</td>\n",
       "      <td>0.0</td>\n",
       "      <td>0.0</td>\n",
       "      <td>1.0</td>\n",
       "      <td>0.0</td>\n",
       "      <td>0.0</td>\n",
       "      <td>1.0</td>\n",
       "      <td>0.0</td>\n",
       "      <td>1.0</td>\n",
       "      <td>0.0</td>\n",
       "    </tr>\n",
       "  </tbody>\n",
       "</table>\n",
       "</div>"
      ],
      "text/plain": [
       "   Pclass_1  Pclass_2  Pclass_3  Sex_female  Sex_male  Fare_10.5_below  \\\n",
       "0       0.0       0.0       1.0         0.0       1.0              1.0   \n",
       "1       1.0       0.0       0.0         1.0       0.0              0.0   \n",
       "2       0.0       0.0       1.0         1.0       0.0              1.0   \n",
       "3       1.0       0.0       0.0         1.0       0.0              0.0   \n",
       "4       0.0       0.0       1.0         0.0       1.0              1.0   \n",
       "\n",
       "   Fare_10.5_to_75  Fare_75_above  SibSp_Parch_0  SibSp_Parch_4_above  \\\n",
       "0              0.0            0.0            0.0                  0.0   \n",
       "1              1.0            0.0            0.0                  0.0   \n",
       "2              0.0            0.0            1.0                  0.0   \n",
       "3              1.0            0.0            0.0                  0.0   \n",
       "4              0.0            0.0            1.0                  0.0   \n",
       "\n",
       "   SibSp_Parch_4_below  Name_Master_No  Name_Master_Yes  Fem_Hfare_Pcl3_No  \\\n",
       "0                  1.0             1.0              0.0                1.0   \n",
       "1                  1.0             1.0              0.0                1.0   \n",
       "2                  0.0             1.0              0.0                1.0   \n",
       "3                  1.0             1.0              0.0                1.0   \n",
       "4                  0.0             1.0              0.0                1.0   \n",
       "\n",
       "   Fem_Hfare_Pcl3_Yes  \n",
       "0                 0.0  \n",
       "1                 0.0  \n",
       "2                 0.0  \n",
       "3                 0.0  \n",
       "4                 0.0  "
      ]
     },
     "execution_count": 22,
     "metadata": {},
     "output_type": "execute_result"
    }
   ],
   "source": [
    "# Create a DataFrame for correlation plot\n",
    "X_1_frame = pd.DataFrame(X_1, columns=x_ax)\n",
    "X_1_frame.head()"
   ]
  },
  {
   "cell_type": "code",
   "execution_count": 23,
   "metadata": {},
   "outputs": [
    {
     "data": {
      "image/png": "[encoded data removed]",
      "text/plain": [
       "<matplotlib.figure.Figure at 0x175d0119860>"
      ]
     },
     "metadata": {},
     "output_type": "display_data"
    }
   ],
   "source": [
    "plt.figure(figsize=(12, 12))\n",
    "plt.title('Corelation Matrix', size=8)\n",
    "sns.heatmap(X_1_frame.corr(),linewidths=0.1,vmax=1.0, square=True, cmap=plt.cm.RdBu, \n",
    "            linecolor='white', annot=True)\n",
    "plt.show()"
   ]
  },
  {
   "cell_type": "markdown",
   "metadata": {},
   "source": [
    "## Data training and parameter tuning"
   ]
  },
  {
   "cell_type": "code",
   "execution_count": 24,
   "metadata": {},
   "outputs": [],
   "source": [
    "# define a cv splitter\n",
    "cv_splitter = StratifiedKFold(n_splits=5, random_state=42)"
   ]
  },
  {
   "cell_type": "markdown",
   "metadata": {},
   "source": [
    "### 1. First Model: Logistic Regressionfrom \n"
   ]
  },
  {
   "cell_type": "code",
   "execution_count": null,
   "metadata": {},
   "outputs": [],
   "source": []
  },
  {
   "cell_type": "code",
   "execution_count": 25,
   "metadata": {},
   "outputs": [
    {
     "data": {
      "text/plain": [
       "GridSearchCV(cv=StratifiedKFold(n_splits=5, random_state=42, shuffle=False),\n",
       "             error_score='raise-deprecating',\n",
       "             estimator=LogisticRegression(C=1.0, class_weight=None, dual=False,\n",
       "                                          fit_intercept=True,\n",
       "                                          intercept_scaling=1, l1_ratio=None,\n",
       "                                          max_iter=100, multi_class='warn',\n",
       "                                          n_jobs=None, penalty='l2',\n",
       "                                          random_state=42, solver='liblinear',\n",
       "                                          tol=0.0001, verbose=0,\n",
       "                                          warm_start=Fal...\n",
       "                               0.019135880487692297, 0.020511104188433972,\n",
       "                               0.020513382630874495, 0.021930485556643686,\n",
       "                               0.02310201887845293, 0.023270677083837798,\n",
       "                               0.023426581058204037, 0.02465844721448737,\n",
       "                               0.024970737145052716, 0.025081156860452324,\n",
       "                               0.026587543983272694, 0.03292759134423616, ...],\n",
       "                         'class_weight': ['balanced', None]},\n",
       "             pre_dispatch='2*n_jobs', refit=True, return_train_score=False,\n",
       "             scoring=None, verbose=0)"
      ]
     },
     "execution_count": 25,
     "metadata": {},
     "output_type": "execute_result"
    }
   ],
   "source": [
    "logis = LogisticRegression(solver='liblinear', random_state=42)\n",
    "C_param = sorted(10**np.random.uniform(-2, 0, size=100))  # log-uniform distrbution from 0.01 to 1\n",
    "# Since if there are multiple parameter combinations rank first, GridSearchCV will choose the\n",
    "# first encountered one as the best result, sort the array so the smallest possible C can be \n",
    "# picked. \n",
    "parameter_grid = {\n",
    "                'C': C_param,\n",
    "                'class_weight': ['balanced', None]\n",
    "                }\n",
    "grid_logis = GridSearchCV(logis, parameter_grid, cv=cv_splitter, refit=True)\n",
    "grid_logis.fit(X_1, y)"
   ]
  },
  {
   "cell_type": "code",
   "execution_count": 26,
   "metadata": {},
   "outputs": [
    {
     "data": {
      "text/plain": [
       "{'C': 0.33233042062267915, 'class_weight': None}"
      ]
     },
     "execution_count": 26,
     "metadata": {},
     "output_type": "execute_result"
    }
   ],
   "source": [
    "logis_best_param = grid_logis.best_params_  \n",
    "logis_best_param\n",
    "# best parameter values to be used in the stack model"
   ]
  },
  {
   "cell_type": "code",
   "execution_count": 27,
   "metadata": {},
   "outputs": [
    {
     "data": {
      "text/html": [
       "<div>\n",
       "<style scoped>\n",
       "    .dataframe tbody tr th:only-of-type {\n",
       "        vertical-align: middle;\n",
       "    }\n",
       "\n",
       "    .dataframe tbody tr th {\n",
       "        vertical-align: top;\n",
       "    }\n",
       "\n",
       "    .dataframe thead th {\n",
       "        text-align: right;\n",
       "    }\n",
       "</style>\n",
       "<table border=\"1\" class=\"dataframe\">\n",
       "  <thead>\n",
       "    <tr style=\"text-align: right;\">\n",
       "      <th></th>\n",
       "      <th>param_C</th>\n",
       "      <th>param_class_weight</th>\n",
       "      <th>params</th>\n",
       "      <th>split0_test_score</th>\n",
       "      <th>split1_test_score</th>\n",
       "      <th>split2_test_score</th>\n",
       "      <th>split3_test_score</th>\n",
       "      <th>split4_test_score</th>\n",
       "      <th>mean_test_score</th>\n",
       "      <th>std_test_score</th>\n",
       "      <th>rank_test_score</th>\n",
       "    </tr>\n",
       "  </thead>\n",
       "  <tbody>\n",
       "    <tr>\n",
       "      <th>199</th>\n",
       "      <td>0.941399</td>\n",
       "      <td>None</td>\n",
       "      <td>{'C': 0.9413993046829942, 'class_weight': None}</td>\n",
       "      <td>0.821229</td>\n",
       "      <td>0.826816</td>\n",
       "      <td>0.825843</td>\n",
       "      <td>0.803371</td>\n",
       "      <td>0.864407</td>\n",
       "      <td>0.828283</td>\n",
       "      <td>0.019870</td>\n",
       "      <td>1</td>\n",
       "    </tr>\n",
       "    <tr>\n",
       "      <th>165</th>\n",
       "      <td>0.402155</td>\n",
       "      <td>None</td>\n",
       "      <td>{'C': 0.40215545266902863, 'class_weight': None}</td>\n",
       "      <td>0.821229</td>\n",
       "      <td>0.826816</td>\n",
       "      <td>0.825843</td>\n",
       "      <td>0.803371</td>\n",
       "      <td>0.864407</td>\n",
       "      <td>0.828283</td>\n",
       "      <td>0.019870</td>\n",
       "      <td>1</td>\n",
       "    </tr>\n",
       "    <tr>\n",
       "      <th>183</th>\n",
       "      <td>0.658629</td>\n",
       "      <td>None</td>\n",
       "      <td>{'C': 0.6586289317583107, 'class_weight': None}</td>\n",
       "      <td>0.821229</td>\n",
       "      <td>0.826816</td>\n",
       "      <td>0.825843</td>\n",
       "      <td>0.803371</td>\n",
       "      <td>0.864407</td>\n",
       "      <td>0.828283</td>\n",
       "      <td>0.019870</td>\n",
       "      <td>1</td>\n",
       "    </tr>\n",
       "    <tr>\n",
       "      <th>163</th>\n",
       "      <td>0.371836</td>\n",
       "      <td>None</td>\n",
       "      <td>{'C': 0.37183641805732065, 'class_weight': None}</td>\n",
       "      <td>0.821229</td>\n",
       "      <td>0.826816</td>\n",
       "      <td>0.825843</td>\n",
       "      <td>0.803371</td>\n",
       "      <td>0.864407</td>\n",
       "      <td>0.828283</td>\n",
       "      <td>0.019870</td>\n",
       "      <td>1</td>\n",
       "    </tr>\n",
       "    <tr>\n",
       "      <th>185</th>\n",
       "      <td>0.697828</td>\n",
       "      <td>None</td>\n",
       "      <td>{'C': 0.6978281265126032, 'class_weight': None}</td>\n",
       "      <td>0.821229</td>\n",
       "      <td>0.826816</td>\n",
       "      <td>0.825843</td>\n",
       "      <td>0.803371</td>\n",
       "      <td>0.864407</td>\n",
       "      <td>0.828283</td>\n",
       "      <td>0.019870</td>\n",
       "      <td>1</td>\n",
       "    </tr>\n",
       "    <tr>\n",
       "      <th>187</th>\n",
       "      <td>0.756829</td>\n",
       "      <td>None</td>\n",
       "      <td>{'C': 0.7568292060167616, 'class_weight': None}</td>\n",
       "      <td>0.821229</td>\n",
       "      <td>0.826816</td>\n",
       "      <td>0.825843</td>\n",
       "      <td>0.803371</td>\n",
       "      <td>0.864407</td>\n",
       "      <td>0.828283</td>\n",
       "      <td>0.019870</td>\n",
       "      <td>1</td>\n",
       "    </tr>\n",
       "    <tr>\n",
       "      <th>159</th>\n",
       "      <td>0.35034</td>\n",
       "      <td>None</td>\n",
       "      <td>{'C': 0.35033984911586863, 'class_weight': None}</td>\n",
       "      <td>0.821229</td>\n",
       "      <td>0.826816</td>\n",
       "      <td>0.825843</td>\n",
       "      <td>0.803371</td>\n",
       "      <td>0.864407</td>\n",
       "      <td>0.828283</td>\n",
       "      <td>0.019870</td>\n",
       "      <td>1</td>\n",
       "    </tr>\n",
       "    <tr>\n",
       "      <th>189</th>\n",
       "      <td>0.790262</td>\n",
       "      <td>None</td>\n",
       "      <td>{'C': 0.7902619549708225, 'class_weight': None}</td>\n",
       "      <td>0.821229</td>\n",
       "      <td>0.826816</td>\n",
       "      <td>0.825843</td>\n",
       "      <td>0.803371</td>\n",
       "      <td>0.864407</td>\n",
       "      <td>0.828283</td>\n",
       "      <td>0.019870</td>\n",
       "      <td>1</td>\n",
       "    </tr>\n",
       "    <tr>\n",
       "      <th>161</th>\n",
       "      <td>0.35503</td>\n",
       "      <td>None</td>\n",
       "      <td>{'C': 0.3550304858128306, 'class_weight': None}</td>\n",
       "      <td>0.821229</td>\n",
       "      <td>0.826816</td>\n",
       "      <td>0.825843</td>\n",
       "      <td>0.803371</td>\n",
       "      <td>0.864407</td>\n",
       "      <td>0.828283</td>\n",
       "      <td>0.019870</td>\n",
       "      <td>1</td>\n",
       "    </tr>\n",
       "    <tr>\n",
       "      <th>191</th>\n",
       "      <td>0.796945</td>\n",
       "      <td>None</td>\n",
       "      <td>{'C': 0.7969454818643928, 'class_weight': None}</td>\n",
       "      <td>0.821229</td>\n",
       "      <td>0.826816</td>\n",
       "      <td>0.825843</td>\n",
       "      <td>0.803371</td>\n",
       "      <td>0.864407</td>\n",
       "      <td>0.828283</td>\n",
       "      <td>0.019870</td>\n",
       "      <td>1</td>\n",
       "    </tr>\n",
       "    <tr>\n",
       "      <th>155</th>\n",
       "      <td>0.348285</td>\n",
       "      <td>None</td>\n",
       "      <td>{'C': 0.3482846706526883, 'class_weight': None}</td>\n",
       "      <td>0.821229</td>\n",
       "      <td>0.826816</td>\n",
       "      <td>0.825843</td>\n",
       "      <td>0.803371</td>\n",
       "      <td>0.864407</td>\n",
       "      <td>0.828283</td>\n",
       "      <td>0.019870</td>\n",
       "      <td>1</td>\n",
       "    </tr>\n",
       "    <tr>\n",
       "      <th>193</th>\n",
       "      <td>0.853619</td>\n",
       "      <td>None</td>\n",
       "      <td>{'C': 0.8536189862866825, 'class_weight': None}</td>\n",
       "      <td>0.821229</td>\n",
       "      <td>0.826816</td>\n",
       "      <td>0.825843</td>\n",
       "      <td>0.803371</td>\n",
       "      <td>0.864407</td>\n",
       "      <td>0.828283</td>\n",
       "      <td>0.019870</td>\n",
       "      <td>1</td>\n",
       "    </tr>\n",
       "    <tr>\n",
       "      <th>153</th>\n",
       "      <td>0.33233</td>\n",
       "      <td>None</td>\n",
       "      <td>{'C': 0.33233042062267915, 'class_weight': None}</td>\n",
       "      <td>0.821229</td>\n",
       "      <td>0.826816</td>\n",
       "      <td>0.825843</td>\n",
       "      <td>0.803371</td>\n",
       "      <td>0.864407</td>\n",
       "      <td>0.828283</td>\n",
       "      <td>0.019870</td>\n",
       "      <td>1</td>\n",
       "    </tr>\n",
       "    <tr>\n",
       "      <th>195</th>\n",
       "      <td>0.869299</td>\n",
       "      <td>None</td>\n",
       "      <td>{'C': 0.8692991511139547, 'class_weight': None}</td>\n",
       "      <td>0.821229</td>\n",
       "      <td>0.826816</td>\n",
       "      <td>0.825843</td>\n",
       "      <td>0.803371</td>\n",
       "      <td>0.864407</td>\n",
       "      <td>0.828283</td>\n",
       "      <td>0.019870</td>\n",
       "      <td>1</td>\n",
       "    </tr>\n",
       "    <tr>\n",
       "      <th>197</th>\n",
       "      <td>0.870602</td>\n",
       "      <td>None</td>\n",
       "      <td>{'C': 0.870602087830485, 'class_weight': None}</td>\n",
       "      <td>0.821229</td>\n",
       "      <td>0.826816</td>\n",
       "      <td>0.825843</td>\n",
       "      <td>0.803371</td>\n",
       "      <td>0.864407</td>\n",
       "      <td>0.828283</td>\n",
       "      <td>0.019870</td>\n",
       "      <td>1</td>\n",
       "    </tr>\n",
       "    <tr>\n",
       "      <th>157</th>\n",
       "      <td>0.348771</td>\n",
       "      <td>None</td>\n",
       "      <td>{'C': 0.34877126245459295, 'class_weight': None}</td>\n",
       "      <td>0.821229</td>\n",
       "      <td>0.826816</td>\n",
       "      <td>0.825843</td>\n",
       "      <td>0.803371</td>\n",
       "      <td>0.864407</td>\n",
       "      <td>0.828283</td>\n",
       "      <td>0.019870</td>\n",
       "      <td>1</td>\n",
       "    </tr>\n",
       "    <tr>\n",
       "      <th>175</th>\n",
       "      <td>0.532362</td>\n",
       "      <td>None</td>\n",
       "      <td>{'C': 0.5323617594751499, 'class_weight': None}</td>\n",
       "      <td>0.821229</td>\n",
       "      <td>0.826816</td>\n",
       "      <td>0.825843</td>\n",
       "      <td>0.803371</td>\n",
       "      <td>0.858757</td>\n",
       "      <td>0.827160</td>\n",
       "      <td>0.017856</td>\n",
       "      <td>17</td>\n",
       "    </tr>\n",
       "    <tr>\n",
       "      <th>181</th>\n",
       "      <td>0.616105</td>\n",
       "      <td>None</td>\n",
       "      <td>{'C': 0.6161049539380964, 'class_weight': None}</td>\n",
       "      <td>0.821229</td>\n",
       "      <td>0.826816</td>\n",
       "      <td>0.825843</td>\n",
       "      <td>0.803371</td>\n",
       "      <td>0.858757</td>\n",
       "      <td>0.827160</td>\n",
       "      <td>0.017856</td>\n",
       "      <td>17</td>\n",
       "    </tr>\n",
       "    <tr>\n",
       "      <th>167</th>\n",
       "      <td>0.413804</td>\n",
       "      <td>None</td>\n",
       "      <td>{'C': 0.41380401125610133, 'class_weight': None}</td>\n",
       "      <td>0.821229</td>\n",
       "      <td>0.826816</td>\n",
       "      <td>0.825843</td>\n",
       "      <td>0.803371</td>\n",
       "      <td>0.858757</td>\n",
       "      <td>0.827160</td>\n",
       "      <td>0.017856</td>\n",
       "      <td>17</td>\n",
       "    </tr>\n",
       "    <tr>\n",
       "      <th>179</th>\n",
       "      <td>0.594875</td>\n",
       "      <td>None</td>\n",
       "      <td>{'C': 0.5948746813219772, 'class_weight': None}</td>\n",
       "      <td>0.821229</td>\n",
       "      <td>0.826816</td>\n",
       "      <td>0.825843</td>\n",
       "      <td>0.803371</td>\n",
       "      <td>0.858757</td>\n",
       "      <td>0.827160</td>\n",
       "      <td>0.017856</td>\n",
       "      <td>17</td>\n",
       "    </tr>\n",
       "    <tr>\n",
       "      <th>169</th>\n",
       "      <td>0.427487</td>\n",
       "      <td>None</td>\n",
       "      <td>{'C': 0.42748694552952143, 'class_weight': None}</td>\n",
       "      <td>0.821229</td>\n",
       "      <td>0.826816</td>\n",
       "      <td>0.825843</td>\n",
       "      <td>0.803371</td>\n",
       "      <td>0.858757</td>\n",
       "      <td>0.827160</td>\n",
       "      <td>0.017856</td>\n",
       "      <td>17</td>\n",
       "    </tr>\n",
       "    <tr>\n",
       "      <th>177</th>\n",
       "      <td>0.539948</td>\n",
       "      <td>None</td>\n",
       "      <td>{'C': 0.5399484409787432, 'class_weight': None}</td>\n",
       "      <td>0.821229</td>\n",
       "      <td>0.826816</td>\n",
       "      <td>0.825843</td>\n",
       "      <td>0.803371</td>\n",
       "      <td>0.858757</td>\n",
       "      <td>0.827160</td>\n",
       "      <td>0.017856</td>\n",
       "      <td>17</td>\n",
       "    </tr>\n",
       "    <tr>\n",
       "      <th>171</th>\n",
       "      <td>0.454438</td>\n",
       "      <td>None</td>\n",
       "      <td>{'C': 0.4544383960336015, 'class_weight': None}</td>\n",
       "      <td>0.821229</td>\n",
       "      <td>0.826816</td>\n",
       "      <td>0.825843</td>\n",
       "      <td>0.803371</td>\n",
       "      <td>0.858757</td>\n",
       "      <td>0.827160</td>\n",
       "      <td>0.017856</td>\n",
       "      <td>17</td>\n",
       "    </tr>\n",
       "    <tr>\n",
       "      <th>173</th>\n",
       "      <td>0.462259</td>\n",
       "      <td>None</td>\n",
       "      <td>{'C': 0.4622589001020828, 'class_weight': None}</td>\n",
       "      <td>0.821229</td>\n",
       "      <td>0.826816</td>\n",
       "      <td>0.825843</td>\n",
       "      <td>0.803371</td>\n",
       "      <td>0.858757</td>\n",
       "      <td>0.827160</td>\n",
       "      <td>0.017856</td>\n",
       "      <td>17</td>\n",
       "    </tr>\n",
       "    <tr>\n",
       "      <th>137</th>\n",
       "      <td>0.211371</td>\n",
       "      <td>None</td>\n",
       "      <td>{'C': 0.21137059440645722, 'class_weight': None}</td>\n",
       "      <td>0.821229</td>\n",
       "      <td>0.826816</td>\n",
       "      <td>0.831461</td>\n",
       "      <td>0.803371</td>\n",
       "      <td>0.841808</td>\n",
       "      <td>0.824916</td>\n",
       "      <td>0.012706</td>\n",
       "      <td>25</td>\n",
       "    </tr>\n",
       "    <tr>\n",
       "      <th>139</th>\n",
       "      <td>0.233596</td>\n",
       "      <td>None</td>\n",
       "      <td>{'C': 0.2335963502626159, 'class_weight': None}</td>\n",
       "      <td>0.821229</td>\n",
       "      <td>0.826816</td>\n",
       "      <td>0.831461</td>\n",
       "      <td>0.803371</td>\n",
       "      <td>0.841808</td>\n",
       "      <td>0.824916</td>\n",
       "      <td>0.012706</td>\n",
       "      <td>25</td>\n",
       "    </tr>\n",
       "    <tr>\n",
       "      <th>151</th>\n",
       "      <td>0.291064</td>\n",
       "      <td>None</td>\n",
       "      <td>{'C': 0.2910635913133069, 'class_weight': None}</td>\n",
       "      <td>0.821229</td>\n",
       "      <td>0.826816</td>\n",
       "      <td>0.825843</td>\n",
       "      <td>0.803371</td>\n",
       "      <td>0.841808</td>\n",
       "      <td>0.823793</td>\n",
       "      <td>0.012320</td>\n",
       "      <td>27</td>\n",
       "    </tr>\n",
       "    <tr>\n",
       "      <th>133</th>\n",
       "      <td>0.17644</td>\n",
       "      <td>None</td>\n",
       "      <td>{'C': 0.1764396768338154, 'class_weight': None}</td>\n",
       "      <td>0.821229</td>\n",
       "      <td>0.821229</td>\n",
       "      <td>0.831461</td>\n",
       "      <td>0.803371</td>\n",
       "      <td>0.841808</td>\n",
       "      <td>0.823793</td>\n",
       "      <td>0.012735</td>\n",
       "      <td>27</td>\n",
       "    </tr>\n",
       "    <tr>\n",
       "      <th>141</th>\n",
       "      <td>0.259248</td>\n",
       "      <td>None</td>\n",
       "      <td>{'C': 0.25924756604751586, 'class_weight': None}</td>\n",
       "      <td>0.821229</td>\n",
       "      <td>0.826816</td>\n",
       "      <td>0.825843</td>\n",
       "      <td>0.803371</td>\n",
       "      <td>0.841808</td>\n",
       "      <td>0.823793</td>\n",
       "      <td>0.012320</td>\n",
       "      <td>27</td>\n",
       "    </tr>\n",
       "    <tr>\n",
       "      <th>143</th>\n",
       "      <td>0.260702</td>\n",
       "      <td>None</td>\n",
       "      <td>{'C': 0.2607024758370766, 'class_weight': None}</td>\n",
       "      <td>0.821229</td>\n",
       "      <td>0.826816</td>\n",
       "      <td>0.825843</td>\n",
       "      <td>0.803371</td>\n",
       "      <td>0.841808</td>\n",
       "      <td>0.823793</td>\n",
       "      <td>0.012320</td>\n",
       "      <td>27</td>\n",
       "    </tr>\n",
       "    <tr>\n",
       "      <th>...</th>\n",
       "      <td>...</td>\n",
       "      <td>...</td>\n",
       "      <td>...</td>\n",
       "      <td>...</td>\n",
       "      <td>...</td>\n",
       "      <td>...</td>\n",
       "      <td>...</td>\n",
       "      <td>...</td>\n",
       "      <td>...</td>\n",
       "      <td>...</td>\n",
       "      <td>...</td>\n",
       "    </tr>\n",
       "    <tr>\n",
       "      <th>47</th>\n",
       "      <td>0.0232707</td>\n",
       "      <td>None</td>\n",
       "      <td>{'C': 0.023270677083837798, 'class_weight': None}</td>\n",
       "      <td>0.737430</td>\n",
       "      <td>0.810056</td>\n",
       "      <td>0.825843</td>\n",
       "      <td>0.775281</td>\n",
       "      <td>0.807910</td>\n",
       "      <td>0.791246</td>\n",
       "      <td>0.031593</td>\n",
       "      <td>165</td>\n",
       "    </tr>\n",
       "    <tr>\n",
       "      <th>13</th>\n",
       "      <td>0.0130667</td>\n",
       "      <td>None</td>\n",
       "      <td>{'C': 0.013066739238053278, 'class_weight': None}</td>\n",
       "      <td>0.737430</td>\n",
       "      <td>0.810056</td>\n",
       "      <td>0.825843</td>\n",
       "      <td>0.780899</td>\n",
       "      <td>0.802260</td>\n",
       "      <td>0.791246</td>\n",
       "      <td>0.030619</td>\n",
       "      <td>165</td>\n",
       "    </tr>\n",
       "    <tr>\n",
       "      <th>15</th>\n",
       "      <td>0.0134004</td>\n",
       "      <td>None</td>\n",
       "      <td>{'C': 0.013400367243354798, 'class_weight': None}</td>\n",
       "      <td>0.737430</td>\n",
       "      <td>0.810056</td>\n",
       "      <td>0.825843</td>\n",
       "      <td>0.780899</td>\n",
       "      <td>0.802260</td>\n",
       "      <td>0.791246</td>\n",
       "      <td>0.030619</td>\n",
       "      <td>165</td>\n",
       "    </tr>\n",
       "    <tr>\n",
       "      <th>37</th>\n",
       "      <td>0.0191359</td>\n",
       "      <td>None</td>\n",
       "      <td>{'C': 0.019135880487692297, 'class_weight': None}</td>\n",
       "      <td>0.737430</td>\n",
       "      <td>0.810056</td>\n",
       "      <td>0.825843</td>\n",
       "      <td>0.775281</td>\n",
       "      <td>0.807910</td>\n",
       "      <td>0.791246</td>\n",
       "      <td>0.031593</td>\n",
       "      <td>165</td>\n",
       "    </tr>\n",
       "    <tr>\n",
       "      <th>19</th>\n",
       "      <td>0.0140634</td>\n",
       "      <td>None</td>\n",
       "      <td>{'C': 0.01406336677771817, 'class_weight': None}</td>\n",
       "      <td>0.737430</td>\n",
       "      <td>0.810056</td>\n",
       "      <td>0.825843</td>\n",
       "      <td>0.780899</td>\n",
       "      <td>0.802260</td>\n",
       "      <td>0.791246</td>\n",
       "      <td>0.030619</td>\n",
       "      <td>165</td>\n",
       "    </tr>\n",
       "    <tr>\n",
       "      <th>21</th>\n",
       "      <td>0.0140962</td>\n",
       "      <td>None</td>\n",
       "      <td>{'C': 0.014096175149815862, 'class_weight': None}</td>\n",
       "      <td>0.737430</td>\n",
       "      <td>0.810056</td>\n",
       "      <td>0.825843</td>\n",
       "      <td>0.780899</td>\n",
       "      <td>0.802260</td>\n",
       "      <td>0.791246</td>\n",
       "      <td>0.030619</td>\n",
       "      <td>165</td>\n",
       "    </tr>\n",
       "    <tr>\n",
       "      <th>17</th>\n",
       "      <td>0.0134928</td>\n",
       "      <td>None</td>\n",
       "      <td>{'C': 0.013492834268013246, 'class_weight': None}</td>\n",
       "      <td>0.737430</td>\n",
       "      <td>0.810056</td>\n",
       "      <td>0.825843</td>\n",
       "      <td>0.780899</td>\n",
       "      <td>0.802260</td>\n",
       "      <td>0.791246</td>\n",
       "      <td>0.030619</td>\n",
       "      <td>165</td>\n",
       "    </tr>\n",
       "    <tr>\n",
       "      <th>46</th>\n",
       "      <td>0.0232707</td>\n",
       "      <td>balanced</td>\n",
       "      <td>{'C': 0.023270677083837798, 'class_weight': 'b...</td>\n",
       "      <td>0.776536</td>\n",
       "      <td>0.804469</td>\n",
       "      <td>0.803371</td>\n",
       "      <td>0.769663</td>\n",
       "      <td>0.802260</td>\n",
       "      <td>0.791246</td>\n",
       "      <td>0.015004</td>\n",
       "      <td>165</td>\n",
       "    </tr>\n",
       "    <tr>\n",
       "      <th>39</th>\n",
       "      <td>0.0205111</td>\n",
       "      <td>None</td>\n",
       "      <td>{'C': 0.020511104188433972, 'class_weight': None}</td>\n",
       "      <td>0.737430</td>\n",
       "      <td>0.810056</td>\n",
       "      <td>0.825843</td>\n",
       "      <td>0.775281</td>\n",
       "      <td>0.807910</td>\n",
       "      <td>0.791246</td>\n",
       "      <td>0.031593</td>\n",
       "      <td>165</td>\n",
       "    </tr>\n",
       "    <tr>\n",
       "      <th>41</th>\n",
       "      <td>0.0205134</td>\n",
       "      <td>None</td>\n",
       "      <td>{'C': 0.020513382630874495, 'class_weight': None}</td>\n",
       "      <td>0.737430</td>\n",
       "      <td>0.810056</td>\n",
       "      <td>0.825843</td>\n",
       "      <td>0.775281</td>\n",
       "      <td>0.807910</td>\n",
       "      <td>0.791246</td>\n",
       "      <td>0.031593</td>\n",
       "      <td>165</td>\n",
       "    </tr>\n",
       "    <tr>\n",
       "      <th>45</th>\n",
       "      <td>0.023102</td>\n",
       "      <td>None</td>\n",
       "      <td>{'C': 0.02310201887845293, 'class_weight': None}</td>\n",
       "      <td>0.737430</td>\n",
       "      <td>0.810056</td>\n",
       "      <td>0.825843</td>\n",
       "      <td>0.775281</td>\n",
       "      <td>0.807910</td>\n",
       "      <td>0.791246</td>\n",
       "      <td>0.031593</td>\n",
       "      <td>165</td>\n",
       "    </tr>\n",
       "    <tr>\n",
       "      <th>42</th>\n",
       "      <td>0.0219305</td>\n",
       "      <td>balanced</td>\n",
       "      <td>{'C': 0.021930485556643686, 'class_weight': 'b...</td>\n",
       "      <td>0.776536</td>\n",
       "      <td>0.804469</td>\n",
       "      <td>0.803371</td>\n",
       "      <td>0.769663</td>\n",
       "      <td>0.802260</td>\n",
       "      <td>0.791246</td>\n",
       "      <td>0.015004</td>\n",
       "      <td>165</td>\n",
       "    </tr>\n",
       "    <tr>\n",
       "      <th>44</th>\n",
       "      <td>0.023102</td>\n",
       "      <td>balanced</td>\n",
       "      <td>{'C': 0.02310201887845293, 'class_weight': 'ba...</td>\n",
       "      <td>0.776536</td>\n",
       "      <td>0.804469</td>\n",
       "      <td>0.803371</td>\n",
       "      <td>0.769663</td>\n",
       "      <td>0.802260</td>\n",
       "      <td>0.791246</td>\n",
       "      <td>0.015004</td>\n",
       "      <td>165</td>\n",
       "    </tr>\n",
       "    <tr>\n",
       "      <th>43</th>\n",
       "      <td>0.0219305</td>\n",
       "      <td>None</td>\n",
       "      <td>{'C': 0.021930485556643686, 'class_weight': None}</td>\n",
       "      <td>0.737430</td>\n",
       "      <td>0.810056</td>\n",
       "      <td>0.825843</td>\n",
       "      <td>0.775281</td>\n",
       "      <td>0.807910</td>\n",
       "      <td>0.791246</td>\n",
       "      <td>0.031593</td>\n",
       "      <td>165</td>\n",
       "    </tr>\n",
       "    <tr>\n",
       "      <th>28</th>\n",
       "      <td>0.0170505</td>\n",
       "      <td>balanced</td>\n",
       "      <td>{'C': 0.01705053926026929, 'class_weight': 'ba...</td>\n",
       "      <td>0.765363</td>\n",
       "      <td>0.804469</td>\n",
       "      <td>0.803371</td>\n",
       "      <td>0.780899</td>\n",
       "      <td>0.802260</td>\n",
       "      <td>0.791246</td>\n",
       "      <td>0.015639</td>\n",
       "      <td>165</td>\n",
       "    </tr>\n",
       "    <tr>\n",
       "      <th>4</th>\n",
       "      <td>0.0112419</td>\n",
       "      <td>balanced</td>\n",
       "      <td>{'C': 0.011241862095793058, 'class_weight': 'b...</td>\n",
       "      <td>0.765363</td>\n",
       "      <td>0.798883</td>\n",
       "      <td>0.803371</td>\n",
       "      <td>0.780899</td>\n",
       "      <td>0.802260</td>\n",
       "      <td>0.790123</td>\n",
       "      <td>0.014829</td>\n",
       "      <td>186</td>\n",
       "    </tr>\n",
       "    <tr>\n",
       "      <th>6</th>\n",
       "      <td>0.0117159</td>\n",
       "      <td>balanced</td>\n",
       "      <td>{'C': 0.011715937392307058, 'class_weight': 'b...</td>\n",
       "      <td>0.765363</td>\n",
       "      <td>0.798883</td>\n",
       "      <td>0.803371</td>\n",
       "      <td>0.780899</td>\n",
       "      <td>0.802260</td>\n",
       "      <td>0.790123</td>\n",
       "      <td>0.014829</td>\n",
       "      <td>186</td>\n",
       "    </tr>\n",
       "    <tr>\n",
       "      <th>8</th>\n",
       "      <td>0.0123156</td>\n",
       "      <td>balanced</td>\n",
       "      <td>{'C': 0.012315571723666019, 'class_weight': 'b...</td>\n",
       "      <td>0.765363</td>\n",
       "      <td>0.798883</td>\n",
       "      <td>0.803371</td>\n",
       "      <td>0.780899</td>\n",
       "      <td>0.802260</td>\n",
       "      <td>0.790123</td>\n",
       "      <td>0.014829</td>\n",
       "      <td>186</td>\n",
       "    </tr>\n",
       "    <tr>\n",
       "      <th>10</th>\n",
       "      <td>0.0123851</td>\n",
       "      <td>balanced</td>\n",
       "      <td>{'C': 0.012385137298860928, 'class_weight': 'b...</td>\n",
       "      <td>0.765363</td>\n",
       "      <td>0.798883</td>\n",
       "      <td>0.803371</td>\n",
       "      <td>0.780899</td>\n",
       "      <td>0.802260</td>\n",
       "      <td>0.790123</td>\n",
       "      <td>0.014829</td>\n",
       "      <td>186</td>\n",
       "    </tr>\n",
       "    <tr>\n",
       "      <th>12</th>\n",
       "      <td>0.0130667</td>\n",
       "      <td>balanced</td>\n",
       "      <td>{'C': 0.013066739238053278, 'class_weight': 'b...</td>\n",
       "      <td>0.765363</td>\n",
       "      <td>0.798883</td>\n",
       "      <td>0.803371</td>\n",
       "      <td>0.780899</td>\n",
       "      <td>0.802260</td>\n",
       "      <td>0.790123</td>\n",
       "      <td>0.014829</td>\n",
       "      <td>186</td>\n",
       "    </tr>\n",
       "    <tr>\n",
       "      <th>14</th>\n",
       "      <td>0.0134004</td>\n",
       "      <td>balanced</td>\n",
       "      <td>{'C': 0.013400367243354798, 'class_weight': 'b...</td>\n",
       "      <td>0.765363</td>\n",
       "      <td>0.798883</td>\n",
       "      <td>0.803371</td>\n",
       "      <td>0.780899</td>\n",
       "      <td>0.802260</td>\n",
       "      <td>0.790123</td>\n",
       "      <td>0.014829</td>\n",
       "      <td>186</td>\n",
       "    </tr>\n",
       "    <tr>\n",
       "      <th>26</th>\n",
       "      <td>0.0164355</td>\n",
       "      <td>balanced</td>\n",
       "      <td>{'C': 0.016435497475111322, 'class_weight': 'b...</td>\n",
       "      <td>0.765363</td>\n",
       "      <td>0.798883</td>\n",
       "      <td>0.803371</td>\n",
       "      <td>0.780899</td>\n",
       "      <td>0.802260</td>\n",
       "      <td>0.790123</td>\n",
       "      <td>0.014829</td>\n",
       "      <td>186</td>\n",
       "    </tr>\n",
       "    <tr>\n",
       "      <th>16</th>\n",
       "      <td>0.0134928</td>\n",
       "      <td>balanced</td>\n",
       "      <td>{'C': 0.013492834268013246, 'class_weight': 'b...</td>\n",
       "      <td>0.765363</td>\n",
       "      <td>0.798883</td>\n",
       "      <td>0.803371</td>\n",
       "      <td>0.780899</td>\n",
       "      <td>0.802260</td>\n",
       "      <td>0.790123</td>\n",
       "      <td>0.014829</td>\n",
       "      <td>186</td>\n",
       "    </tr>\n",
       "    <tr>\n",
       "      <th>18</th>\n",
       "      <td>0.0140634</td>\n",
       "      <td>balanced</td>\n",
       "      <td>{'C': 0.01406336677771817, 'class_weight': 'ba...</td>\n",
       "      <td>0.765363</td>\n",
       "      <td>0.798883</td>\n",
       "      <td>0.803371</td>\n",
       "      <td>0.780899</td>\n",
       "      <td>0.802260</td>\n",
       "      <td>0.790123</td>\n",
       "      <td>0.014829</td>\n",
       "      <td>186</td>\n",
       "    </tr>\n",
       "    <tr>\n",
       "      <th>24</th>\n",
       "      <td>0.0156799</td>\n",
       "      <td>balanced</td>\n",
       "      <td>{'C': 0.015679933916723007, 'class_weight': 'b...</td>\n",
       "      <td>0.765363</td>\n",
       "      <td>0.798883</td>\n",
       "      <td>0.803371</td>\n",
       "      <td>0.780899</td>\n",
       "      <td>0.802260</td>\n",
       "      <td>0.790123</td>\n",
       "      <td>0.014829</td>\n",
       "      <td>186</td>\n",
       "    </tr>\n",
       "    <tr>\n",
       "      <th>20</th>\n",
       "      <td>0.0140962</td>\n",
       "      <td>balanced</td>\n",
       "      <td>{'C': 0.014096175149815862, 'class_weight': 'b...</td>\n",
       "      <td>0.765363</td>\n",
       "      <td>0.798883</td>\n",
       "      <td>0.803371</td>\n",
       "      <td>0.780899</td>\n",
       "      <td>0.802260</td>\n",
       "      <td>0.790123</td>\n",
       "      <td>0.014829</td>\n",
       "      <td>186</td>\n",
       "    </tr>\n",
       "    <tr>\n",
       "      <th>22</th>\n",
       "      <td>0.0150309</td>\n",
       "      <td>balanced</td>\n",
       "      <td>{'C': 0.015030900645056817, 'class_weight': 'b...</td>\n",
       "      <td>0.765363</td>\n",
       "      <td>0.798883</td>\n",
       "      <td>0.803371</td>\n",
       "      <td>0.780899</td>\n",
       "      <td>0.802260</td>\n",
       "      <td>0.790123</td>\n",
       "      <td>0.014829</td>\n",
       "      <td>186</td>\n",
       "    </tr>\n",
       "    <tr>\n",
       "      <th>30</th>\n",
       "      <td>0.0173456</td>\n",
       "      <td>balanced</td>\n",
       "      <td>{'C': 0.01734556664236093, 'class_weight': 'ba...</td>\n",
       "      <td>0.765363</td>\n",
       "      <td>0.804469</td>\n",
       "      <td>0.803371</td>\n",
       "      <td>0.769663</td>\n",
       "      <td>0.802260</td>\n",
       "      <td>0.789001</td>\n",
       "      <td>0.017641</td>\n",
       "      <td>198</td>\n",
       "    </tr>\n",
       "    <tr>\n",
       "      <th>2</th>\n",
       "      <td>0.0109943</td>\n",
       "      <td>balanced</td>\n",
       "      <td>{'C': 0.010994335574766197, 'class_weight': 'b...</td>\n",
       "      <td>0.759777</td>\n",
       "      <td>0.798883</td>\n",
       "      <td>0.803371</td>\n",
       "      <td>0.780899</td>\n",
       "      <td>0.802260</td>\n",
       "      <td>0.789001</td>\n",
       "      <td>0.016748</td>\n",
       "      <td>198</td>\n",
       "    </tr>\n",
       "    <tr>\n",
       "      <th>0</th>\n",
       "      <td>0.0102576</td>\n",
       "      <td>balanced</td>\n",
       "      <td>{'C': 0.010257563974185648, 'class_weight': 'b...</td>\n",
       "      <td>0.754190</td>\n",
       "      <td>0.798883</td>\n",
       "      <td>0.803371</td>\n",
       "      <td>0.780899</td>\n",
       "      <td>0.802260</td>\n",
       "      <td>0.787879</td>\n",
       "      <td>0.018738</td>\n",
       "      <td>200</td>\n",
       "    </tr>\n",
       "  </tbody>\n",
       "</table>\n",
       "<p>200 rows × 11 columns</p>\n",
       "</div>"
      ],
      "text/plain": [
       "       param_C param_class_weight  \\\n",
       "199   0.941399               None   \n",
       "165   0.402155               None   \n",
       "183   0.658629               None   \n",
       "163   0.371836               None   \n",
       "185   0.697828               None   \n",
       "187   0.756829               None   \n",
       "159    0.35034               None   \n",
       "189   0.790262               None   \n",
       "161    0.35503               None   \n",
       "191   0.796945               None   \n",
       "155   0.348285               None   \n",
       "193   0.853619               None   \n",
       "153    0.33233               None   \n",
       "195   0.869299               None   \n",
       "197   0.870602               None   \n",
       "157   0.348771               None   \n",
       "175   0.532362               None   \n",
       "181   0.616105               None   \n",
       "167   0.413804               None   \n",
       "179   0.594875               None   \n",
       "169   0.427487               None   \n",
       "177   0.539948               None   \n",
       "171   0.454438               None   \n",
       "173   0.462259               None   \n",
       "137   0.211371               None   \n",
       "139   0.233596               None   \n",
       "151   0.291064               None   \n",
       "133    0.17644               None   \n",
       "141   0.259248               None   \n",
       "143   0.260702               None   \n",
       "..         ...                ...   \n",
       "47   0.0232707               None   \n",
       "13   0.0130667               None   \n",
       "15   0.0134004               None   \n",
       "37   0.0191359               None   \n",
       "19   0.0140634               None   \n",
       "21   0.0140962               None   \n",
       "17   0.0134928               None   \n",
       "46   0.0232707           balanced   \n",
       "39   0.0205111               None   \n",
       "41   0.0205134               None   \n",
       "45    0.023102               None   \n",
       "42   0.0219305           balanced   \n",
       "44    0.023102           balanced   \n",
       "43   0.0219305               None   \n",
       "28   0.0170505           balanced   \n",
       "4    0.0112419           balanced   \n",
       "6    0.0117159           balanced   \n",
       "8    0.0123156           balanced   \n",
       "10   0.0123851           balanced   \n",
       "12   0.0130667           balanced   \n",
       "14   0.0134004           balanced   \n",
       "26   0.0164355           balanced   \n",
       "16   0.0134928           balanced   \n",
       "18   0.0140634           balanced   \n",
       "24   0.0156799           balanced   \n",
       "20   0.0140962           balanced   \n",
       "22   0.0150309           balanced   \n",
       "30   0.0173456           balanced   \n",
       "2    0.0109943           balanced   \n",
       "0    0.0102576           balanced   \n",
       "\n",
       "                                                params  split0_test_score  \\\n",
       "199    {'C': 0.9413993046829942, 'class_weight': None}           0.821229   \n",
       "165   {'C': 0.40215545266902863, 'class_weight': None}           0.821229   \n",
       "183    {'C': 0.6586289317583107, 'class_weight': None}           0.821229   \n",
       "163   {'C': 0.37183641805732065, 'class_weight': None}           0.821229   \n",
       "185    {'C': 0.6978281265126032, 'class_weight': None}           0.821229   \n",
       "187    {'C': 0.7568292060167616, 'class_weight': None}           0.821229   \n",
       "159   {'C': 0.35033984911586863, 'class_weight': None}           0.821229   \n",
       "189    {'C': 0.7902619549708225, 'class_weight': None}           0.821229   \n",
       "161    {'C': 0.3550304858128306, 'class_weight': None}           0.821229   \n",
       "191    {'C': 0.7969454818643928, 'class_weight': None}           0.821229   \n",
       "155    {'C': 0.3482846706526883, 'class_weight': None}           0.821229   \n",
       "193    {'C': 0.8536189862866825, 'class_weight': None}           0.821229   \n",
       "153   {'C': 0.33233042062267915, 'class_weight': None}           0.821229   \n",
       "195    {'C': 0.8692991511139547, 'class_weight': None}           0.821229   \n",
       "197     {'C': 0.870602087830485, 'class_weight': None}           0.821229   \n",
       "157   {'C': 0.34877126245459295, 'class_weight': None}           0.821229   \n",
       "175    {'C': 0.5323617594751499, 'class_weight': None}           0.821229   \n",
       "181    {'C': 0.6161049539380964, 'class_weight': None}           0.821229   \n",
       "167   {'C': 0.41380401125610133, 'class_weight': None}           0.821229   \n",
       "179    {'C': 0.5948746813219772, 'class_weight': None}           0.821229   \n",
       "169   {'C': 0.42748694552952143, 'class_weight': None}           0.821229   \n",
       "177    {'C': 0.5399484409787432, 'class_weight': None}           0.821229   \n",
       "171    {'C': 0.4544383960336015, 'class_weight': None}           0.821229   \n",
       "173    {'C': 0.4622589001020828, 'class_weight': None}           0.821229   \n",
       "137   {'C': 0.21137059440645722, 'class_weight': None}           0.821229   \n",
       "139    {'C': 0.2335963502626159, 'class_weight': None}           0.821229   \n",
       "151    {'C': 0.2910635913133069, 'class_weight': None}           0.821229   \n",
       "133    {'C': 0.1764396768338154, 'class_weight': None}           0.821229   \n",
       "141   {'C': 0.25924756604751586, 'class_weight': None}           0.821229   \n",
       "143    {'C': 0.2607024758370766, 'class_weight': None}           0.821229   \n",
       "..                                                 ...                ...   \n",
       "47   {'C': 0.023270677083837798, 'class_weight': None}           0.737430   \n",
       "13   {'C': 0.013066739238053278, 'class_weight': None}           0.737430   \n",
       "15   {'C': 0.013400367243354798, 'class_weight': None}           0.737430   \n",
       "37   {'C': 0.019135880487692297, 'class_weight': None}           0.737430   \n",
       "19    {'C': 0.01406336677771817, 'class_weight': None}           0.737430   \n",
       "21   {'C': 0.014096175149815862, 'class_weight': None}           0.737430   \n",
       "17   {'C': 0.013492834268013246, 'class_weight': None}           0.737430   \n",
       "46   {'C': 0.023270677083837798, 'class_weight': 'b...           0.776536   \n",
       "39   {'C': 0.020511104188433972, 'class_weight': None}           0.737430   \n",
       "41   {'C': 0.020513382630874495, 'class_weight': None}           0.737430   \n",
       "45    {'C': 0.02310201887845293, 'class_weight': None}           0.737430   \n",
       "42   {'C': 0.021930485556643686, 'class_weight': 'b...           0.776536   \n",
       "44   {'C': 0.02310201887845293, 'class_weight': 'ba...           0.776536   \n",
       "43   {'C': 0.021930485556643686, 'class_weight': None}           0.737430   \n",
       "28   {'C': 0.01705053926026929, 'class_weight': 'ba...           0.765363   \n",
       "4    {'C': 0.011241862095793058, 'class_weight': 'b...           0.765363   \n",
       "6    {'C': 0.011715937392307058, 'class_weight': 'b...           0.765363   \n",
       "8    {'C': 0.012315571723666019, 'class_weight': 'b...           0.765363   \n",
       "10   {'C': 0.012385137298860928, 'class_weight': 'b...           0.765363   \n",
       "12   {'C': 0.013066739238053278, 'class_weight': 'b...           0.765363   \n",
       "14   {'C': 0.013400367243354798, 'class_weight': 'b...           0.765363   \n",
       "26   {'C': 0.016435497475111322, 'class_weight': 'b...           0.765363   \n",
       "16   {'C': 0.013492834268013246, 'class_weight': 'b...           0.765363   \n",
       "18   {'C': 0.01406336677771817, 'class_weight': 'ba...           0.765363   \n",
       "24   {'C': 0.015679933916723007, 'class_weight': 'b...           0.765363   \n",
       "20   {'C': 0.014096175149815862, 'class_weight': 'b...           0.765363   \n",
       "22   {'C': 0.015030900645056817, 'class_weight': 'b...           0.765363   \n",
       "30   {'C': 0.01734556664236093, 'class_weight': 'ba...           0.765363   \n",
       "2    {'C': 0.010994335574766197, 'class_weight': 'b...           0.759777   \n",
       "0    {'C': 0.010257563974185648, 'class_weight': 'b...           0.754190   \n",
       "\n",
       "     split1_test_score  split2_test_score  split3_test_score  \\\n",
       "199           0.826816           0.825843           0.803371   \n",
       "165           0.826816           0.825843           0.803371   \n",
       "183           0.826816           0.825843           0.803371   \n",
       "163           0.826816           0.825843           0.803371   \n",
       "185           0.826816           0.825843           0.803371   \n",
       "187           0.826816           0.825843           0.803371   \n",
       "159           0.826816           0.825843           0.803371   \n",
       "189           0.826816           0.825843           0.803371   \n",
       "161           0.826816           0.825843           0.803371   \n",
       "191           0.826816           0.825843           0.803371   \n",
       "155           0.826816           0.825843           0.803371   \n",
       "193           0.826816           0.825843           0.803371   \n",
       "153           0.826816           0.825843           0.803371   \n",
       "195           0.826816           0.825843           0.803371   \n",
       "197           0.826816           0.825843           0.803371   \n",
       "157           0.826816           0.825843           0.803371   \n",
       "175           0.826816           0.825843           0.803371   \n",
       "181           0.826816           0.825843           0.803371   \n",
       "167           0.826816           0.825843           0.803371   \n",
       "179           0.826816           0.825843           0.803371   \n",
       "169           0.826816           0.825843           0.803371   \n",
       "177           0.826816           0.825843           0.803371   \n",
       "171           0.826816           0.825843           0.803371   \n",
       "173           0.826816           0.825843           0.803371   \n",
       "137           0.826816           0.831461           0.803371   \n",
       "139           0.826816           0.831461           0.803371   \n",
       "151           0.826816           0.825843           0.803371   \n",
       "133           0.821229           0.831461           0.803371   \n",
       "141           0.826816           0.825843           0.803371   \n",
       "143           0.826816           0.825843           0.803371   \n",
       "..                 ...                ...                ...   \n",
       "47            0.810056           0.825843           0.775281   \n",
       "13            0.810056           0.825843           0.780899   \n",
       "15            0.810056           0.825843           0.780899   \n",
       "37            0.810056           0.825843           0.775281   \n",
       "19            0.810056           0.825843           0.780899   \n",
       "21            0.810056           0.825843           0.780899   \n",
       "17            0.810056           0.825843           0.780899   \n",
       "46            0.804469           0.803371           0.769663   \n",
       "39            0.810056           0.825843           0.775281   \n",
       "41            0.810056           0.825843           0.775281   \n",
       "45            0.810056           0.825843           0.775281   \n",
       "42            0.804469           0.803371           0.769663   \n",
       "44            0.804469           0.803371           0.769663   \n",
       "43            0.810056           0.825843           0.775281   \n",
       "28            0.804469           0.803371           0.780899   \n",
       "4             0.798883           0.803371           0.780899   \n",
       "6             0.798883           0.803371           0.780899   \n",
       "8             0.798883           0.803371           0.780899   \n",
       "10            0.798883           0.803371           0.780899   \n",
       "12            0.798883           0.803371           0.780899   \n",
       "14            0.798883           0.803371           0.780899   \n",
       "26            0.798883           0.803371           0.780899   \n",
       "16            0.798883           0.803371           0.780899   \n",
       "18            0.798883           0.803371           0.780899   \n",
       "24            0.798883           0.803371           0.780899   \n",
       "20            0.798883           0.803371           0.780899   \n",
       "22            0.798883           0.803371           0.780899   \n",
       "30            0.804469           0.803371           0.769663   \n",
       "2             0.798883           0.803371           0.780899   \n",
       "0             0.798883           0.803371           0.780899   \n",
       "\n",
       "     split4_test_score  mean_test_score  std_test_score  rank_test_score  \n",
       "199           0.864407         0.828283        0.019870                1  \n",
       "165           0.864407         0.828283        0.019870                1  \n",
       "183           0.864407         0.828283        0.019870                1  \n",
       "163           0.864407         0.828283        0.019870                1  \n",
       "185           0.864407         0.828283        0.019870                1  \n",
       "187           0.864407         0.828283        0.019870                1  \n",
       "159           0.864407         0.828283        0.019870                1  \n",
       "189           0.864407         0.828283        0.019870                1  \n",
       "161           0.864407         0.828283        0.019870                1  \n",
       "191           0.864407         0.828283        0.019870                1  \n",
       "155           0.864407         0.828283        0.019870                1  \n",
       "193           0.864407         0.828283        0.019870                1  \n",
       "153           0.864407         0.828283        0.019870                1  \n",
       "195           0.864407         0.828283        0.019870                1  \n",
       "197           0.864407         0.828283        0.019870                1  \n",
       "157           0.864407         0.828283        0.019870                1  \n",
       "175           0.858757         0.827160        0.017856               17  \n",
       "181           0.858757         0.827160        0.017856               17  \n",
       "167           0.858757         0.827160        0.017856               17  \n",
       "179           0.858757         0.827160        0.017856               17  \n",
       "169           0.858757         0.827160        0.017856               17  \n",
       "177           0.858757         0.827160        0.017856               17  \n",
       "171           0.858757         0.827160        0.017856               17  \n",
       "173           0.858757         0.827160        0.017856               17  \n",
       "137           0.841808         0.824916        0.012706               25  \n",
       "139           0.841808         0.824916        0.012706               25  \n",
       "151           0.841808         0.823793        0.012320               27  \n",
       "133           0.841808         0.823793        0.012735               27  \n",
       "141           0.841808         0.823793        0.012320               27  \n",
       "143           0.841808         0.823793        0.012320               27  \n",
       "..                 ...              ...             ...              ...  \n",
       "47            0.807910         0.791246        0.031593              165  \n",
       "13            0.802260         0.791246        0.030619              165  \n",
       "15            0.802260         0.791246        0.030619              165  \n",
       "37            0.807910         0.791246        0.031593              165  \n",
       "19            0.802260         0.791246        0.030619              165  \n",
       "21            0.802260         0.791246        0.030619              165  \n",
       "17            0.802260         0.791246        0.030619              165  \n",
       "46            0.802260         0.791246        0.015004              165  \n",
       "39            0.807910         0.791246        0.031593              165  \n",
       "41            0.807910         0.791246        0.031593              165  \n",
       "45            0.807910         0.791246        0.031593              165  \n",
       "42            0.802260         0.791246        0.015004              165  \n",
       "44            0.802260         0.791246        0.015004              165  \n",
       "43            0.807910         0.791246        0.031593              165  \n",
       "28            0.802260         0.791246        0.015639              165  \n",
       "4             0.802260         0.790123        0.014829              186  \n",
       "6             0.802260         0.790123        0.014829              186  \n",
       "8             0.802260         0.790123        0.014829              186  \n",
       "10            0.802260         0.790123        0.014829              186  \n",
       "12            0.802260         0.790123        0.014829              186  \n",
       "14            0.802260         0.790123        0.014829              186  \n",
       "26            0.802260         0.790123        0.014829              186  \n",
       "16            0.802260         0.790123        0.014829              186  \n",
       "18            0.802260         0.790123        0.014829              186  \n",
       "24            0.802260         0.790123        0.014829              186  \n",
       "20            0.802260         0.790123        0.014829              186  \n",
       "22            0.802260         0.790123        0.014829              186  \n",
       "30            0.802260         0.789001        0.017641              198  \n",
       "2             0.802260         0.789001        0.016748              198  \n",
       "0             0.802260         0.787879        0.018738              200  \n",
       "\n",
       "[200 rows x 11 columns]"
      ]
     },
     "execution_count": 27,
     "metadata": {},
     "output_type": "execute_result"
    }
   ],
   "source": [
    "results = pd.DataFrame(grid_logis.cv_results_)\n",
    "results.iloc[:,4:].sort_values('rank_test_score')"
   ]
  },
  {
   "cell_type": "code",
   "execution_count": 28,
   "metadata": {},
   "outputs": [
    {
     "data": {
      "text/plain": [
       "array(['Pclass_1', 'Pclass_2', 'Pclass_3', 'Sex_female', 'Sex_male',\n",
       "       'Fare_10.5_below', 'Fare_10.5_to_75', 'Fare_75_above',\n",
       "       'SibSp_Parch_0', 'SibSp_Parch_4_above', 'SibSp_Parch_4_below',\n",
       "       'Name_Master_No', 'Name_Master_Yes', 'Fem_Hfare_Pcl3_No',\n",
       "       'Fem_Hfare_Pcl3_Yes'], dtype=object)"
      ]
     },
     "execution_count": 28,
     "metadata": {},
     "output_type": "execute_result"
    }
   ],
   "source": [
    "x_ax = ohe.get_feature_names(['Pclass', 'Sex', 'Fare', 'SibSp_Parch', 'Name_Master', \n",
    "                              'Fem_Hfare_Pcl3'])\n",
    "x_ax"
   ]
  },
  {
   "cell_type": "code",
   "execution_count": 29,
   "metadata": {},
   "outputs": [
    {
     "data": {
      "text/plain": [
       "<bound method _AxesBase.grid of <matplotlib.axes._subplots.AxesSubplot object at 0x00000175D0155198>>"
      ]
     },
     "execution_count": 29,
     "metadata": {},
     "output_type": "execute_result"
    },
    {
     "data": {
      "image/png": "[encoded data removed]",
      "text/plain": [
       "<matplotlib.figure.Figure at 0x175d1eadba8>"
      ]
     },
     "metadata": {},
     "output_type": "display_data"
    }
   ],
   "source": [
    "fig, ax = plt.subplots(figsize=(30,8))\n",
    "ax.bar(x_ax, grid_logis.best_estimator_.coef_[0])\n",
    "ax.grid"
   ]
  },
  {
   "cell_type": "code",
   "execution_count": 30,
   "metadata": {},
   "outputs": [
    {
     "name": "stdout",
     "output_type": "stream",
     "text": [
      "[0.82122905 0.82681564 0.8258427  0.80337079 0.86440678]\n",
      "Mean (logis): 0.828332991108903\n",
      "SD (logis): 0.019916825888839272\n"
     ]
    }
   ],
   "source": [
    "scores_logis = cross_val_score(grid_logis.best_estimator_, X_1, y, cv=cv_splitter, n_jobs=-1)\n",
    "print(scores_logis)\n",
    "print('Mean (logis): '+str(scores_logis.mean()))\n",
    "print('SD (logis): '+str(scores_logis.std()))"
   ]
  },
  {
   "cell_type": "markdown",
   "metadata": {},
   "source": [
    "### 2. Second Model: Random Forest"
   ]
  },
  {
   "cell_type": "code",
   "execution_count": 31,
   "metadata": {},
   "outputs": [
    {
     "data": {
      "text/plain": [
       "array([4, 3, 5, 6, 3, 3, 7, 5, 2, 4, 2, 2, 4, 1, 1, 2, 1, 4, 2, 1, 6, 3,\n",
       "       4, 1, 2, 4, 1, 4, 2, 3, 2, 7, 3, 1, 5, 1, 4, 1, 1, 4, 5, 4, 3, 3,\n",
       "       1, 2, 2, 5, 4, 1, 4, 3, 2, 5, 5, 5, 2, 3, 4, 5, 2, 3, 1, 1, 5, 6,\n",
       "       3, 5, 4, 2, 4, 6, 3, 7, 1, 5, 4, 3, 4, 1, 3, 4, 6, 2, 2, 2, 5, 4,\n",
       "       2, 4, 4, 5, 2, 3, 3, 1, 4, 4, 3, 3, 1, 3, 3, 2, 3, 4, 7, 4, 4, 3,\n",
       "       1, 3, 3, 8, 3, 4, 3, 1, 6, 5, 5, 2, 6, 1, 5, 8, 1, 2, 4, 2, 1, 4,\n",
       "       1, 4, 2, 6, 2, 3, 5, 1, 4, 6, 1, 4, 4, 5, 1, 1, 4, 4, 4, 4, 2, 4,\n",
       "       4, 2, 7, 4, 1, 5, 1, 5, 6, 2, 5, 4, 5, 7, 3, 2, 2, 2, 3, 4, 4, 5,\n",
       "       3, 6, 3, 9, 5, 2, 1, 4, 3, 5, 4, 3, 2, 1, 2, 5, 4, 1, 4, 4, 2, 4,\n",
       "       3, 1])"
      ]
     },
     "execution_count": 31,
     "metadata": {},
     "output_type": "execute_result"
    }
   ],
   "source": [
    "# set max_features normal distribution sample array\n",
    "num_feature = X_1.shape[1]\n",
    "max_feature = norm.rvs(np.sqrt(num_feature), 2, size=200, random_state=42).astype(int)\n",
    "max_feature[max_feature <= 0] = 1\n",
    "max_feature[max_feature > num_feature] = num_feature\n",
    "max_feature"
   ]
  },
  {
   "cell_type": "code",
   "execution_count": 32,
   "metadata": {},
   "outputs": [
    {
     "data": {
      "text/plain": [
       "array([4, 3, 5, 7, 3, 3, 7, 5, 3, 5, 3, 3, 4, 2, 2, 2, 2, 4, 2, 2, 6, 3,\n",
       "       4, 2, 2, 4, 2, 4, 2, 3, 2, 7, 3, 2, 5, 2, 4, 2, 2, 4, 5, 4, 3, 3,\n",
       "       2, 2, 3, 6, 4, 2, 4, 3, 2, 5, 6, 5, 2, 3, 4, 5, 3, 3, 2, 2, 5, 6,\n",
       "       3, 6, 4, 2, 4, 7, 3, 7, 2, 5, 4, 3, 4, 2, 3, 4, 6, 2, 2, 2, 5, 4,\n",
       "       2, 5, 4, 5, 2, 3, 3, 2, 4, 4, 4, 3, 2, 3, 3, 2, 3, 4, 7, 4, 4, 3,\n",
       "       2, 3, 4, 8, 3, 4, 3, 2, 6, 5, 5, 2, 6, 2, 5, 8, 2, 2, 4, 2, 2, 4,\n",
       "       2, 4, 2, 7, 2, 3, 5, 2, 4, 6, 2, 4, 4, 5, 2, 2, 5, 4, 4, 4, 2, 4,\n",
       "       4, 2, 7, 4, 2, 5, 2, 5, 6, 2, 5, 4, 5, 7, 3, 2, 2, 2, 3, 4, 4, 5,\n",
       "       4, 6, 3, 9, 5, 2, 2, 4, 3, 5, 4, 3, 2, 2, 3, 5, 4, 2, 4, 4, 2, 4,\n",
       "       4, 2])"
      ]
     },
     "execution_count": 32,
     "metadata": {},
     "output_type": "execute_result"
    }
   ],
   "source": [
    "# set min_samples_split normal distribution sample array\n",
    "min_sample_split = norm.rvs(4, 2, size=200, random_state=42).astype(int)\n",
    "min_sample_split[min_sample_split <= 1] = 2\n",
    "min_sample_split"
   ]
  },
  {
   "cell_type": "code",
   "execution_count": 33,
   "metadata": {},
   "outputs": [
    {
     "data": {
      "text/plain": [
       "RandomizedSearchCV(cv=StratifiedKFold(n_splits=5, random_state=42, shuffle=False),\n",
       "                   error_score='raise-deprecating',\n",
       "                   estimator=RandomForestClassifier(bootstrap=True,\n",
       "                                                    class_weight=None,\n",
       "                                                    criterion='gini',\n",
       "                                                    max_depth=None,\n",
       "                                                    max_features='auto',\n",
       "                                                    max_leaf_nodes=None,\n",
       "                                                    min_impurity_decrease=0.0,\n",
       "                                                    min_impurity_split=None,\n",
       "                                                    min_samples_leaf=1,\n",
       "                                                    min_samples_split=2,\n",
       "                                                    min_weight_...\n",
       "       440, 445, 450, 455, 460, 465, 470, 475, 480, 485, 490, 495, 500,\n",
       "       505, 510, 515, 520, 525, 530, 535, 540, 545, 550, 555, 560, 565,\n",
       "       570, 575, 580, 585, 590, 595, 600, 605, 610, 615, 620, 625, 630,\n",
       "       635, 640, 645, 650, 655, 660, 665, 670, 675, 680, 685, 690, 695,\n",
       "       700, 705, 710, 715, 720, 725, 730, 735, 740, 745, 750, 755, 760,\n",
       "       765, 770, 775, 780, 785, 790, 795])},\n",
       "                   pre_dispatch='2*n_jobs', random_state=42, refit=True,\n",
       "                   return_train_score=False, scoring=None, verbose=0)"
      ]
     },
     "execution_count": 33,
     "metadata": {},
     "output_type": "execute_result"
    }
   ],
   "source": [
    "rf = RandomForestClassifier(random_state=42)\n",
    "parameter_grid = {\n",
    "                 'n_estimators': np.arange(50, 800, step=5),\n",
    "                 'max_features': max_feature,\n",
    "                 'min_samples_split': min_sample_split,\n",
    "                 'min_samples_leaf': np.arange(1, 5, 1),\n",
    "                 'bootstrap': [True, False]\n",
    "                 }\n",
    "grid_random = RandomizedSearchCV(rf, parameter_grid, n_iter=100, cv= cv_splitter, \n",
    "                                 random_state=42, refit=True, n_jobs=-1)\n",
    "grid_random.fit(X_1, y)"
   ]
  },
  {
   "cell_type": "code",
   "execution_count": 34,
   "metadata": {},
   "outputs": [
    {
     "data": {
      "text/plain": [
       "{'bootstrap': False,\n",
       " 'max_features': 3,\n",
       " 'min_samples_leaf': 1,\n",
       " 'min_samples_split': 4,\n",
       " 'n_estimators': 655}"
      ]
     },
     "execution_count": 34,
     "metadata": {},
     "output_type": "execute_result"
    }
   ],
   "source": [
    "random_forest_best_param = grid_random.best_params_  \n",
    "random_forest_best_param\n",
    "# best parameter values to be used in the stack model"
   ]
  },
  {
   "cell_type": "code",
   "execution_count": 35,
   "metadata": {},
   "outputs": [
    {
     "data": {
      "text/plain": [
       "5"
      ]
     },
     "execution_count": 35,
     "metadata": {},
     "output_type": "execute_result"
    }
   ],
   "source": [
    "grid_random.n_splits_"
   ]
  },
  {
   "cell_type": "code",
   "execution_count": 36,
   "metadata": {},
   "outputs": [
    {
     "data": {
      "text/plain": [
       "<bound method BaseEstimator.get_params of RandomForestClassifier(bootstrap=False, class_weight=None, criterion='gini',\n",
       "                       max_depth=None, max_features=3, max_leaf_nodes=None,\n",
       "                       min_impurity_decrease=0.0, min_impurity_split=None,\n",
       "                       min_samples_leaf=1, min_samples_split=4,\n",
       "                       min_weight_fraction_leaf=0.0, n_estimators=655,\n",
       "                       n_jobs=None, oob_score=False, random_state=42, verbose=0,\n",
       "                       warm_start=False)>"
      ]
     },
     "execution_count": 36,
     "metadata": {},
     "output_type": "execute_result"
    }
   ],
   "source": [
    "grid_random.best_estimator_.get_params"
   ]
  },
  {
   "cell_type": "code",
   "execution_count": 37,
   "metadata": {},
   "outputs": [
    {
     "data": {
      "text/plain": [
       "<bound method _AxesBase.grid of <matplotlib.axes._subplots.AxesSubplot object at 0x00000175D1AEB630>>"
      ]
     },
     "execution_count": 37,
     "metadata": {},
     "output_type": "execute_result"
    },
    {
     "data": {
      "image/png": "[encoded data removed]",
      "text/plain": [
       "<matplotlib.figure.Figure at 0x175d1ed11d0>"
      ]
     },
     "metadata": {},
     "output_type": "display_data"
    }
   ],
   "source": [
    "fig, ax = plt.subplots(figsize=(35,8))\n",
    "ax.bar(x_ax, grid_random.best_estimator_.feature_importances_)\n",
    "ax.grid"
   ]
  },
  {
   "cell_type": "code",
   "execution_count": 38,
   "metadata": {},
   "outputs": [
    {
     "name": "stdout",
     "output_type": "stream",
     "text": [
      "[0.83240223 0.83798883 0.83707865 0.80898876 0.8700565 ]\n",
      "Mean (random): 0.8373029948715984\n",
      "SD (random): 0.019488590131932125\n"
     ]
    }
   ],
   "source": [
    "scores_random = cross_val_score(grid_random.best_estimator_, X_1, y, cv=cv_splitter, n_jobs=-1)\n",
    "print(scores_random)\n",
    "print('Mean (random): '+str(scores_random.mean()))\n",
    "print('SD (random): '+str(scores_random.std()))"
   ]
  },
  {
   "cell_type": "markdown",
   "metadata": {},
   "source": [
    "### 3. Third Model: Gradient Boosting"
   ]
  },
  {
   "cell_type": "markdown",
   "metadata": {},
   "source": [
    "#### 1. Tune learning_rate and n_estimators"
   ]
  },
  {
   "cell_type": "code",
   "execution_count": 39,
   "metadata": {},
   "outputs": [
    {
     "data": {
      "text/plain": [
       "GridSearchCV(cv=StratifiedKFold(n_splits=5, random_state=42, shuffle=False),\n",
       "             error_score='raise-deprecating',\n",
       "             estimator=GradientBoostingClassifier(criterion='friedman_mse',\n",
       "                                                  init=None, learning_rate=0.1,\n",
       "                                                  loss='deviance', max_depth=3,\n",
       "                                                  max_features='sqrt',\n",
       "                                                  max_leaf_nodes=None,\n",
       "                                                  min_impurity_decrease=0.0,\n",
       "                                                  min_impurity_split=None,\n",
       "                                                  min_samples_leaf=1,\n",
       "                                                  min_samples_split...\n",
       "                                                  n_estimators=100,\n",
       "                                                  n_iter_no_change=None,\n",
       "                                                  presort='auto',\n",
       "                                                  random_state=42,\n",
       "                                                  subsample=0.8, tol=0.0001,\n",
       "                                                  validation_fraction=0.1,\n",
       "                                                  verbose=0, warm_start=False),\n",
       "             iid='warn', n_jobs=-1,\n",
       "             param_grid={'learning_rate': array([0.001 , 0.0015, 0.002 , 0.0025]),\n",
       "                         'n_estimators': array([1000, 1500, 2000, 2500])},\n",
       "             pre_dispatch='2*n_jobs', refit=True, return_train_score=False,\n",
       "             scoring=None, verbose=0)"
      ]
     },
     "execution_count": 39,
     "metadata": {},
     "output_type": "execute_result"
    }
   ],
   "source": [
    "gb = GradientBoostingClassifier(\n",
    "                                learning_rate=0.1, \n",
    "                                n_estimators=100, \n",
    "                                max_features='sqrt',\n",
    "                                subsample=0.8, \n",
    "                                random_state=42\n",
    "                                )\n",
    "parameter_grid = {\n",
    "                    'learning_rate': np.arange(0.001, 0.003, 0.0005),\n",
    "                    'n_estimators': np.arange(1000, 3000, 500)\n",
    "                    }\n",
    "grid_gradient = GridSearchCV(gb, parameter_grid, cv=cv_splitter, n_jobs=-1)\n",
    "grid_gradient.fit(X_1, y)"
   ]
  },
  {
   "cell_type": "code",
   "execution_count": 40,
   "metadata": {},
   "outputs": [
    {
     "data": {
      "text/plain": [
       "{'learning_rate': 0.002, 'n_estimators': 2500}"
      ]
     },
     "execution_count": 40,
     "metadata": {},
     "output_type": "execute_result"
    }
   ],
   "source": [
    "gradient_best_param = grid_gradient.best_params_\n",
    "gradient_best_param\n",
    "# best parameter values to be used in the stack model"
   ]
  },
  {
   "cell_type": "code",
   "execution_count": 41,
   "metadata": {},
   "outputs": [
    {
     "data": {
      "text/plain": [
       "GradientBoostingClassifier(criterion='friedman_mse', init=None,\n",
       "                           learning_rate=0.002, loss='deviance', max_depth=3,\n",
       "                           max_features='sqrt', max_leaf_nodes=None,\n",
       "                           min_impurity_decrease=0.0, min_impurity_split=None,\n",
       "                           min_samples_leaf=1, min_samples_split=2,\n",
       "                           min_weight_fraction_leaf=0.0, n_estimators=2500,\n",
       "                           n_iter_no_change=None, presort='auto',\n",
       "                           random_state=42, subsample=0.8, tol=0.0001,\n",
       "                           validation_fraction=0.1, verbose=0,\n",
       "                           warm_start=False)"
      ]
     },
     "execution_count": 41,
     "metadata": {},
     "output_type": "execute_result"
    }
   ],
   "source": [
    "# update gb with the optimal parameters\n",
    "gb.set_params(**gradient_best_param)"
   ]
  },
  {
   "cell_type": "markdown",
   "metadata": {},
   "source": [
    "#### 2. Tune max_depth and min_sample_split"
   ]
  },
  {
   "cell_type": "code",
   "execution_count": 42,
   "metadata": {},
   "outputs": [
    {
     "data": {
      "text/plain": [
       "GridSearchCV(cv=StratifiedKFold(n_splits=5, random_state=42, shuffle=False),\n",
       "             error_score='raise-deprecating',\n",
       "             estimator=GradientBoostingClassifier(criterion='friedman_mse',\n",
       "                                                  init=None,\n",
       "                                                  learning_rate=0.002,\n",
       "                                                  loss='deviance', max_depth=3,\n",
       "                                                  max_features='sqrt',\n",
       "                                                  max_leaf_nodes=None,\n",
       "                                                  min_impurity_decrease=0.0,\n",
       "                                                  min_impurity_split=None,\n",
       "                                                  min_samples_leaf=1,\n",
       "                                                  min_samples_spl...\n",
       "                                                  min_weight_fraction_leaf=0.0,\n",
       "                                                  n_estimators=2500,\n",
       "                                                  n_iter_no_change=None,\n",
       "                                                  presort='auto',\n",
       "                                                  random_state=42,\n",
       "                                                  subsample=0.8, tol=0.0001,\n",
       "                                                  validation_fraction=0.1,\n",
       "                                                  verbose=0, warm_start=False),\n",
       "             iid='warn', n_jobs=-1,\n",
       "             param_grid={'max_depth': array([1, 2, 3, 4]),\n",
       "                         'min_samples_split': array([2, 3, 4, 5])},\n",
       "             pre_dispatch='2*n_jobs', refit=True, return_train_score=False,\n",
       "             scoring=None, verbose=0)"
      ]
     },
     "execution_count": 42,
     "metadata": {},
     "output_type": "execute_result"
    }
   ],
   "source": [
    "parameter_grid = {\n",
    "                    'max_depth': np.arange(1, 5),\n",
    "                    'min_samples_split': np.arange(2, 6, 1)\n",
    "                    }\n",
    "grid_gradient = GridSearchCV(gb, parameter_grid, cv=cv_splitter, n_jobs=-1)\n",
    "grid_gradient.fit(X_1, y)"
   ]
  },
  {
   "cell_type": "code",
   "execution_count": 43,
   "metadata": {},
   "outputs": [
    {
     "data": {
      "text/plain": [
       "{'max_depth': 3, 'min_samples_split': 2}"
      ]
     },
     "execution_count": 43,
     "metadata": {},
     "output_type": "execute_result"
    }
   ],
   "source": [
    "grid_gradient.best_params_"
   ]
  },
  {
   "cell_type": "code",
   "execution_count": 44,
   "metadata": {},
   "outputs": [
    {
     "data": {
      "text/plain": [
       "{'learning_rate': 0.002,\n",
       " 'max_depth': 3,\n",
       " 'min_samples_split': 2,\n",
       " 'n_estimators': 2500}"
      ]
     },
     "execution_count": 44,
     "metadata": {},
     "output_type": "execute_result"
    }
   ],
   "source": [
    "gradient_best_param.update(grid_gradient.best_params_)\n",
    "gradient_best_param\n",
    "# update best parameter values to be used in the stack model"
   ]
  },
  {
   "cell_type": "code",
   "execution_count": 45,
   "metadata": {},
   "outputs": [
    {
     "data": {
      "text/plain": [
       "GradientBoostingClassifier(criterion='friedman_mse', init=None,\n",
       "                           learning_rate=0.002, loss='deviance', max_depth=3,\n",
       "                           max_features='sqrt', max_leaf_nodes=None,\n",
       "                           min_impurity_decrease=0.0, min_impurity_split=None,\n",
       "                           min_samples_leaf=1, min_samples_split=2,\n",
       "                           min_weight_fraction_leaf=0.0, n_estimators=2500,\n",
       "                           n_iter_no_change=None, presort='auto',\n",
       "                           random_state=42, subsample=0.8, tol=0.0001,\n",
       "                           validation_fraction=0.1, verbose=0,\n",
       "                           warm_start=False)"
      ]
     },
     "execution_count": 45,
     "metadata": {},
     "output_type": "execute_result"
    }
   ],
   "source": [
    "# update gb with the optimal parameters\n",
    "gb.set_params(**gradient_best_param)"
   ]
  },
  {
   "cell_type": "markdown",
   "metadata": {},
   "source": [
    "#### 3. Tune max_features and subsample"
   ]
  },
  {
   "cell_type": "code",
   "execution_count": 46,
   "metadata": {},
   "outputs": [
    {
     "data": {
      "text/plain": [
       "GridSearchCV(cv=StratifiedKFold(n_splits=5, random_state=42, shuffle=False),\n",
       "             error_score='raise-deprecating',\n",
       "             estimator=GradientBoostingClassifier(criterion='friedman_mse',\n",
       "                                                  init=None,\n",
       "                                                  learning_rate=0.002,\n",
       "                                                  loss='deviance', max_depth=3,\n",
       "                                                  max_features='sqrt',\n",
       "                                                  max_leaf_nodes=None,\n",
       "                                                  min_impurity_decrease=0.0,\n",
       "                                                  min_impurity_split=None,\n",
       "                                                  min_samples_leaf=1,\n",
       "                                                  min_samples_spl...\n",
       "                                                  min_weight_fraction_leaf=0.0,\n",
       "                                                  n_estimators=2500,\n",
       "                                                  n_iter_no_change=None,\n",
       "                                                  presort='auto',\n",
       "                                                  random_state=42,\n",
       "                                                  subsample=0.8, tol=0.0001,\n",
       "                                                  validation_fraction=0.1,\n",
       "                                                  verbose=0, warm_start=False),\n",
       "             iid='warn', n_jobs=-1,\n",
       "             param_grid={'max_features': array([2, 3, 4, 5]),\n",
       "                         'subsample': array([0.4, 0.5, 0.6, 0.7])},\n",
       "             pre_dispatch='2*n_jobs', refit=True, return_train_score=False,\n",
       "             scoring=None, verbose=0)"
      ]
     },
     "execution_count": 46,
     "metadata": {},
     "output_type": "execute_result"
    }
   ],
   "source": [
    "parameter_grid = {\n",
    "                    'max_features': np.arange(2, 6),\n",
    "                    'subsample': np.arange(0.4, 0.8, step=0.1)\n",
    "                    }\n",
    "grid_gradient = GridSearchCV(gb, parameter_grid, cv=cv_splitter, n_jobs=-1)\n",
    "grid_gradient.fit(X_1, y)"
   ]
  },
  {
   "cell_type": "code",
   "execution_count": 47,
   "metadata": {},
   "outputs": [
    {
     "data": {
      "text/plain": [
       "{'max_features': 3, 'subsample': 0.6}"
      ]
     },
     "execution_count": 47,
     "metadata": {},
     "output_type": "execute_result"
    }
   ],
   "source": [
    "grid_gradient.best_params_"
   ]
  },
  {
   "cell_type": "code",
   "execution_count": 48,
   "metadata": {},
   "outputs": [
    {
     "data": {
      "text/plain": [
       "{'learning_rate': 0.002,\n",
       " 'max_depth': 3,\n",
       " 'max_features': 3,\n",
       " 'min_samples_split': 2,\n",
       " 'n_estimators': 2500,\n",
       " 'subsample': 0.6}"
      ]
     },
     "execution_count": 48,
     "metadata": {},
     "output_type": "execute_result"
    }
   ],
   "source": [
    "gradient_best_param.update(grid_gradient.best_params_)\n",
    "gradient_best_param\n",
    "# update best parameter values to be used in the stack model"
   ]
  },
  {
   "cell_type": "code",
   "execution_count": 49,
   "metadata": {},
   "outputs": [
    {
     "data": {
      "text/plain": [
       "GradientBoostingClassifier(criterion='friedman_mse', init=None,\n",
       "                           learning_rate=0.002, loss='deviance', max_depth=3,\n",
       "                           max_features=3, max_leaf_nodes=None,\n",
       "                           min_impurity_decrease=0.0, min_impurity_split=None,\n",
       "                           min_samples_leaf=1, min_samples_split=2,\n",
       "                           min_weight_fraction_leaf=0.0, n_estimators=2500,\n",
       "                           n_iter_no_change=None, presort='auto',\n",
       "                           random_state=42, subsample=0.6, tol=0.0001,\n",
       "                           validation_fraction=0.1, verbose=0,\n",
       "                           warm_start=False)"
      ]
     },
     "execution_count": 49,
     "metadata": {},
     "output_type": "execute_result"
    }
   ],
   "source": [
    "grid_gradient.best_estimator_"
   ]
  },
  {
   "cell_type": "code",
   "execution_count": 50,
   "metadata": {},
   "outputs": [
    {
     "data": {
      "text/plain": [
       "<bound method _AxesBase.grid of <matplotlib.axes._subplots.AxesSubplot object at 0x00000175D1C79A90>>"
      ]
     },
     "execution_count": 50,
     "metadata": {},
     "output_type": "execute_result"
    },
    {
     "data": {
      "image/png": "[encoded data removed]",
      "text/plain": [
       "<matplotlib.figure.Figure at 0x175c5884208>"
      ]
     },
     "metadata": {},
     "output_type": "display_data"
    }
   ],
   "source": [
    "fig, ax = plt.subplots(figsize=(35,8))\n",
    "ax.bar(x_ax, grid_gradient.best_estimator_.feature_importances_)\n",
    "ax.grid"
   ]
  },
  {
   "cell_type": "code",
   "execution_count": 51,
   "metadata": {},
   "outputs": [
    {
     "name": "stdout",
     "output_type": "stream",
     "text": [
      "[0.8547486  0.83798883 0.83707865 0.80898876 0.8700565 ]\n",
      "Mean (gradient): 0.8417722686146151\n",
      "SD (gradient): 0.020393555315705667\n"
     ]
    }
   ],
   "source": [
    "scores_gradient = cross_val_score(grid_gradient.best_estimator_, X_1, y, cv=cv_splitter, n_jobs=-1)\n",
    "print(scores_gradient)\n",
    "print('Mean (gradient): '+str(scores_gradient.mean()))\n",
    "print('SD (gradient): '+str(scores_gradient.std()))"
   ]
  },
  {
   "cell_type": "markdown",
   "metadata": {},
   "source": [
    "### 4. Fourth Model: XGBoost"
   ]
  },
  {
   "cell_type": "markdown",
   "metadata": {},
   "source": [
    "#### (The tuning steps can be found in the article by Aarshay Jain at https://www.analyticsvidhya.com/blog/2016/03/complete-guide-parameter-tuning-xgboost-with-codes-python/)"
   ]
  },
  {
   "cell_type": "markdown",
   "metadata": {},
   "source": [
    "#### 1. Fix learning rate at 0.01 and find the optimal number of trees (n_estimators) "
   ]
  },
  {
   "cell_type": "code",
   "execution_count": 52,
   "metadata": {},
   "outputs": [],
   "source": [
    "xgtrain = xgboost.DMatrix(X_1, label=y.values)"
   ]
  },
  {
   "cell_type": "code",
   "execution_count": 53,
   "metadata": {},
   "outputs": [],
   "source": [
    "xgb = XGBClassifier(\n",
    "                     learning_rate =0.01,\n",
    "                     n_estimators=1000,\n",
    "                     max_depth=5,\n",
    "                     min_child_weight=1,\n",
    "                     gamma=0,\n",
    "                     subsample=0.8,\n",
    "                     colsample_bytree=0.8,\n",
    "                     n_jobs=-1,\n",
    "                     random_state=42\n",
    "                    )"
   ]
  },
  {
   "cell_type": "code",
   "execution_count": 54,
   "metadata": {},
   "outputs": [
    {
     "data": {
      "text/plain": [
       "{'base_score': 0.5,\n",
       " 'booster': 'gbtree',\n",
       " 'colsample_bylevel': 1,\n",
       " 'colsample_bynode': 1,\n",
       " 'colsample_bytree': 0.8,\n",
       " 'gamma': 0,\n",
       " 'learning_rate': 0.01,\n",
       " 'max_delta_step': 0,\n",
       " 'max_depth': 5,\n",
       " 'min_child_weight': 1,\n",
       " 'missing': None,\n",
       " 'n_estimators': 1000,\n",
       " 'objective': 'binary:logistic',\n",
       " 'reg_alpha': 0,\n",
       " 'reg_lambda': 1,\n",
       " 'scale_pos_weight': 1,\n",
       " 'seed': 42,\n",
       " 'subsample': 0.8,\n",
       " 'verbosity': 1}"
      ]
     },
     "execution_count": 54,
     "metadata": {},
     "output_type": "execute_result"
    }
   ],
   "source": [
    "xgb_param = xgb.get_xgb_params()\n",
    "xgb_param"
   ]
  },
  {
   "cell_type": "code",
   "execution_count": 55,
   "metadata": {},
   "outputs": [],
   "source": [
    "cvresult = xgboost.cv(xgb_param, xgtrain, \n",
    "                  num_boost_round=xgb.get_params()['n_estimators'], \n",
    "                  nfold=5,\n",
    "                  metrics='auc', \n",
    "                  early_stopping_rounds=50,\n",
    "                  seed=42\n",
    "                  )"
   ]
  },
  {
   "cell_type": "code",
   "execution_count": 56,
   "metadata": {},
   "outputs": [
    {
     "data": {
      "text/html": [
       "<div>\n",
       "<style scoped>\n",
       "    .dataframe tbody tr th:only-of-type {\n",
       "        vertical-align: middle;\n",
       "    }\n",
       "\n",
       "    .dataframe tbody tr th {\n",
       "        vertical-align: top;\n",
       "    }\n",
       "\n",
       "    .dataframe thead th {\n",
       "        text-align: right;\n",
       "    }\n",
       "</style>\n",
       "<table border=\"1\" class=\"dataframe\">\n",
       "  <thead>\n",
       "    <tr style=\"text-align: right;\">\n",
       "      <th></th>\n",
       "      <th>train-auc-mean</th>\n",
       "      <th>train-auc-std</th>\n",
       "      <th>test-auc-mean</th>\n",
       "      <th>test-auc-std</th>\n",
       "    </tr>\n",
       "  </thead>\n",
       "  <tbody>\n",
       "    <tr>\n",
       "      <th>0</th>\n",
       "      <td>0.873888</td>\n",
       "      <td>0.010391</td>\n",
       "      <td>0.855611</td>\n",
       "      <td>0.034021</td>\n",
       "    </tr>\n",
       "    <tr>\n",
       "      <th>1</th>\n",
       "      <td>0.878771</td>\n",
       "      <td>0.005563</td>\n",
       "      <td>0.869908</td>\n",
       "      <td>0.025996</td>\n",
       "    </tr>\n",
       "    <tr>\n",
       "      <th>2</th>\n",
       "      <td>0.879495</td>\n",
       "      <td>0.005604</td>\n",
       "      <td>0.869561</td>\n",
       "      <td>0.025799</td>\n",
       "    </tr>\n",
       "    <tr>\n",
       "      <th>3</th>\n",
       "      <td>0.879627</td>\n",
       "      <td>0.005452</td>\n",
       "      <td>0.869534</td>\n",
       "      <td>0.025404</td>\n",
       "    </tr>\n",
       "    <tr>\n",
       "      <th>4</th>\n",
       "      <td>0.880877</td>\n",
       "      <td>0.005169</td>\n",
       "      <td>0.866409</td>\n",
       "      <td>0.024275</td>\n",
       "    </tr>\n",
       "  </tbody>\n",
       "</table>\n",
       "</div>"
      ],
      "text/plain": [
       "   train-auc-mean  train-auc-std  test-auc-mean  test-auc-std\n",
       "0        0.873888       0.010391       0.855611      0.034021\n",
       "1        0.878771       0.005563       0.869908      0.025996\n",
       "2        0.879495       0.005604       0.869561      0.025799\n",
       "3        0.879627       0.005452       0.869534      0.025404\n",
       "4        0.880877       0.005169       0.866409      0.024275"
      ]
     },
     "execution_count": 56,
     "metadata": {},
     "output_type": "execute_result"
    }
   ],
   "source": [
    "cvresult.head()"
   ]
  },
  {
   "cell_type": "code",
   "execution_count": 57,
   "metadata": {},
   "outputs": [
    {
     "data": {
      "text/plain": [
       "(12, 4)"
      ]
     },
     "execution_count": 57,
     "metadata": {},
     "output_type": "execute_result"
    }
   ],
   "source": [
    "cvresult.shape"
   ]
  },
  {
   "cell_type": "code",
   "execution_count": 58,
   "metadata": {},
   "outputs": [
    {
     "data": {
      "text/plain": [
       "{'n_estimators': 12}"
      ]
     },
     "execution_count": 58,
     "metadata": {},
     "output_type": "execute_result"
    }
   ],
   "source": [
    "xgb_best_param = {'n_estimators': cvresult.shape[0]}\n",
    "xgb_best_param\n",
    "# best n_estimators value to be used in the stack model"
   ]
  },
  {
   "cell_type": "code",
   "execution_count": 59,
   "metadata": {},
   "outputs": [
    {
     "data": {
      "text/plain": [
       "XGBClassifier(base_score=0.5, booster='gbtree', colsample_bylevel=1,\n",
       "              colsample_bynode=1, colsample_bytree=0.8, gamma=0,\n",
       "              learning_rate=0.01, max_delta_step=0, max_depth=5,\n",
       "              min_child_weight=1, missing=None, n_estimators=12, n_jobs=-1,\n",
       "              nthread=None, objective='binary:logistic', random_state=42,\n",
       "              reg_alpha=0, reg_lambda=1, scale_pos_weight=1, seed=None,\n",
       "              silent=None, subsample=0.8, verbosity=1)"
      ]
     },
     "execution_count": 59,
     "metadata": {},
     "output_type": "execute_result"
    }
   ],
   "source": [
    "# update xgb with the optimal n_estimators\n",
    "xgb.set_params(**xgb_best_param)"
   ]
  },
  {
   "cell_type": "markdown",
   "metadata": {},
   "source": [
    "#### 2. Tune max_depth and min_child_weight"
   ]
  },
  {
   "cell_type": "code",
   "execution_count": 60,
   "metadata": {},
   "outputs": [
    {
     "data": {
      "text/plain": [
       "GridSearchCV(cv=StratifiedKFold(n_splits=5, random_state=42, shuffle=False),\n",
       "             error_score='raise-deprecating',\n",
       "             estimator=XGBClassifier(base_score=0.5, booster='gbtree',\n",
       "                                     colsample_bylevel=1, colsample_bynode=1,\n",
       "                                     colsample_bytree=0.8, gamma=0,\n",
       "                                     learning_rate=0.01, max_delta_step=0,\n",
       "                                     max_depth=5, min_child_weight=1,\n",
       "                                     missing=None, n_estimators=12, n_jobs=-1,\n",
       "                                     nthread=None, objective='binary:logistic',\n",
       "                                     random_state=42, reg_alpha=0, reg_lambda=1,\n",
       "                                     scale_pos_weight=1, seed=None, silent=None,\n",
       "                                     subsample=0.8, verbosity=1),\n",
       "             iid='warn', n_jobs=-1,\n",
       "             param_grid={'max_depth': array([2, 3]),\n",
       "                         'min_child_weight': array([1, 2, 3])},\n",
       "             pre_dispatch='2*n_jobs', refit=True, return_train_score=False,\n",
       "             scoring=None, verbose=0)"
      ]
     },
     "execution_count": 60,
     "metadata": {},
     "output_type": "execute_result"
    }
   ],
   "source": [
    "parameter_grid = {\n",
    "                    'max_depth': np.arange(2, 4),\n",
    "                    'min_child_weight': np.arange(1, 4)\n",
    "                 }\n",
    "grid_xgb = GridSearchCV(xgb, parameter_grid, cv=cv_splitter, n_jobs=-1)\n",
    "grid_xgb.fit(X_1, y)"
   ]
  },
  {
   "cell_type": "code",
   "execution_count": 61,
   "metadata": {},
   "outputs": [
    {
     "data": {
      "text/plain": [
       "{'max_depth': 3, 'min_child_weight': 1}"
      ]
     },
     "execution_count": 61,
     "metadata": {},
     "output_type": "execute_result"
    }
   ],
   "source": [
    "grid_xgb.best_params_"
   ]
  },
  {
   "cell_type": "code",
   "execution_count": 62,
   "metadata": {},
   "outputs": [
    {
     "data": {
      "text/plain": [
       "{'max_depth': 3, 'min_child_weight': 1, 'n_estimators': 12}"
      ]
     },
     "execution_count": 62,
     "metadata": {},
     "output_type": "execute_result"
    }
   ],
   "source": [
    "xgb_best_param.update(grid_xgb.best_params_)\n",
    "xgb_best_param\n",
    "# best parameter values to be used in the stack model"
   ]
  },
  {
   "cell_type": "code",
   "execution_count": 63,
   "metadata": {},
   "outputs": [
    {
     "data": {
      "text/plain": [
       "XGBClassifier(base_score=0.5, booster='gbtree', colsample_bylevel=1,\n",
       "              colsample_bynode=1, colsample_bytree=0.8, gamma=0,\n",
       "              learning_rate=0.01, max_delta_step=0, max_depth=3,\n",
       "              min_child_weight=1, missing=None, n_estimators=12, n_jobs=-1,\n",
       "              nthread=None, objective='binary:logistic', random_state=42,\n",
       "              reg_alpha=0, reg_lambda=1, scale_pos_weight=1, seed=None,\n",
       "              silent=None, subsample=0.8, verbosity=1)"
      ]
     },
     "execution_count": 63,
     "metadata": {},
     "output_type": "execute_result"
    }
   ],
   "source": [
    "xgb.set_params(**xgb_best_param)\n",
    "# update xgb parameters"
   ]
  },
  {
   "cell_type": "markdown",
   "metadata": {},
   "source": [
    "#### 3. Tune gamma"
   ]
  },
  {
   "cell_type": "code",
   "execution_count": 20,
   "metadata": {},
   "outputs": [
    {
     "data": {
      "text/plain": [
       "array([0.05148264, 0.02787952, 0.31355684, 0.00426901, 0.38146994,\n",
       "       0.00751314, 0.28618042, 0.05583692, 0.09626797, 0.00408049])"
      ]
     },
     "execution_count": 20,
     "metadata": {},
     "output_type": "execute_result"
    }
   ],
   "source": [
    "10**np.random.uniform(-3, 0, size=10)  # log-uniform distrbution from 0.001 to 1"
   ]
  },
  {
   "cell_type": "code",
   "execution_count": 65,
   "metadata": {},
   "outputs": [
    {
     "data": {
      "text/plain": [
       "GridSearchCV(cv=StratifiedKFold(n_splits=5, random_state=42, shuffle=False),\n",
       "             error_score='raise-deprecating',\n",
       "             estimator=XGBClassifier(base_score=0.5, booster='gbtree',\n",
       "                                     colsample_bylevel=1, colsample_bynode=1,\n",
       "                                     colsample_bytree=0.8, gamma=0,\n",
       "                                     learning_rate=0.01, max_delta_step=0,\n",
       "                                     max_depth=3, min_child_weight=1,\n",
       "                                     missing=None, n_estimators=12, n_jobs=-1,\n",
       "                                     nthread=None, o...\n",
       "                                     random_state=42, reg_alpha=0, reg_lambda=1,\n",
       "                                     scale_pos_weight=1, seed=None, silent=None,\n",
       "                                     subsample=0.8, verbosity=1),\n",
       "             iid='warn', n_jobs=-1,\n",
       "             param_grid={'gamma': array([0.00991963, 0.00457822, 0.07368577, 0.00103531, 0.00282271,\n",
       "       0.00537915, 0.00945409, 0.05030777, 0.00149891, 0.04090061])},\n",
       "             pre_dispatch='2*n_jobs', refit=True, return_train_score=False,\n",
       "             scoring=None, verbose=0)"
      ]
     },
     "execution_count": 65,
     "metadata": {},
     "output_type": "execute_result"
    }
   ],
   "source": [
    "parameter_grid = {\n",
    "                    'gamma': 10**np.random.uniform(-3, 0, size=10)\n",
    "                 }\n",
    "grid_xgb = GridSearchCV(xgb, parameter_grid, cv=cv_splitter, n_jobs=-1)\n",
    "grid_xgb.fit(X_1, y)"
   ]
  },
  {
   "cell_type": "code",
   "execution_count": 66,
   "metadata": {},
   "outputs": [
    {
     "data": {
      "text/plain": [
       "{'gamma': 0.009919628225944364}"
      ]
     },
     "execution_count": 66,
     "metadata": {},
     "output_type": "execute_result"
    }
   ],
   "source": [
    "grid_xgb.best_params_"
   ]
  },
  {
   "cell_type": "code",
   "execution_count": 67,
   "metadata": {},
   "outputs": [
    {
     "data": {
      "text/html": [
       "<div>\n",
       "<style scoped>\n",
       "    .dataframe tbody tr th:only-of-type {\n",
       "        vertical-align: middle;\n",
       "    }\n",
       "\n",
       "    .dataframe tbody tr th {\n",
       "        vertical-align: top;\n",
       "    }\n",
       "\n",
       "    .dataframe thead th {\n",
       "        text-align: right;\n",
       "    }\n",
       "</style>\n",
       "<table border=\"1\" class=\"dataframe\">\n",
       "  <thead>\n",
       "    <tr style=\"text-align: right;\">\n",
       "      <th></th>\n",
       "      <th>param_gamma</th>\n",
       "      <th>params</th>\n",
       "      <th>split0_test_score</th>\n",
       "      <th>split1_test_score</th>\n",
       "      <th>split2_test_score</th>\n",
       "      <th>split3_test_score</th>\n",
       "      <th>split4_test_score</th>\n",
       "      <th>mean_test_score</th>\n",
       "      <th>std_test_score</th>\n",
       "      <th>rank_test_score</th>\n",
       "    </tr>\n",
       "  </thead>\n",
       "  <tbody>\n",
       "    <tr>\n",
       "      <th>0</th>\n",
       "      <td>0.00991963</td>\n",
       "      <td>{'gamma': 0.009919628225944364}</td>\n",
       "      <td>0.849162</td>\n",
       "      <td>0.826816</td>\n",
       "      <td>0.831461</td>\n",
       "      <td>0.803371</td>\n",
       "      <td>0.870056</td>\n",
       "      <td>0.836139</td>\n",
       "      <td>0.022337</td>\n",
       "      <td>1</td>\n",
       "    </tr>\n",
       "    <tr>\n",
       "      <th>1</th>\n",
       "      <td>0.00457822</td>\n",
       "      <td>{'gamma': 0.004578223207895638}</td>\n",
       "      <td>0.849162</td>\n",
       "      <td>0.826816</td>\n",
       "      <td>0.831461</td>\n",
       "      <td>0.803371</td>\n",
       "      <td>0.870056</td>\n",
       "      <td>0.836139</td>\n",
       "      <td>0.022337</td>\n",
       "      <td>1</td>\n",
       "    </tr>\n",
       "    <tr>\n",
       "      <th>2</th>\n",
       "      <td>0.0736858</td>\n",
       "      <td>{'gamma': 0.07368577362395162}</td>\n",
       "      <td>0.849162</td>\n",
       "      <td>0.826816</td>\n",
       "      <td>0.831461</td>\n",
       "      <td>0.803371</td>\n",
       "      <td>0.870056</td>\n",
       "      <td>0.836139</td>\n",
       "      <td>0.022337</td>\n",
       "      <td>1</td>\n",
       "    </tr>\n",
       "    <tr>\n",
       "      <th>3</th>\n",
       "      <td>0.00103531</td>\n",
       "      <td>{'gamma': 0.0010353059889022392}</td>\n",
       "      <td>0.849162</td>\n",
       "      <td>0.826816</td>\n",
       "      <td>0.831461</td>\n",
       "      <td>0.803371</td>\n",
       "      <td>0.870056</td>\n",
       "      <td>0.836139</td>\n",
       "      <td>0.022337</td>\n",
       "      <td>1</td>\n",
       "    </tr>\n",
       "    <tr>\n",
       "      <th>4</th>\n",
       "      <td>0.00282271</td>\n",
       "      <td>{'gamma': 0.0028227056686995385}</td>\n",
       "      <td>0.849162</td>\n",
       "      <td>0.826816</td>\n",
       "      <td>0.831461</td>\n",
       "      <td>0.803371</td>\n",
       "      <td>0.870056</td>\n",
       "      <td>0.836139</td>\n",
       "      <td>0.022337</td>\n",
       "      <td>1</td>\n",
       "    </tr>\n",
       "    <tr>\n",
       "      <th>5</th>\n",
       "      <td>0.00537915</td>\n",
       "      <td>{'gamma': 0.005379149806801916}</td>\n",
       "      <td>0.849162</td>\n",
       "      <td>0.826816</td>\n",
       "      <td>0.831461</td>\n",
       "      <td>0.803371</td>\n",
       "      <td>0.870056</td>\n",
       "      <td>0.836139</td>\n",
       "      <td>0.022337</td>\n",
       "      <td>1</td>\n",
       "    </tr>\n",
       "    <tr>\n",
       "      <th>6</th>\n",
       "      <td>0.00945409</td>\n",
       "      <td>{'gamma': 0.009454087154427781}</td>\n",
       "      <td>0.849162</td>\n",
       "      <td>0.826816</td>\n",
       "      <td>0.831461</td>\n",
       "      <td>0.803371</td>\n",
       "      <td>0.870056</td>\n",
       "      <td>0.836139</td>\n",
       "      <td>0.022337</td>\n",
       "      <td>1</td>\n",
       "    </tr>\n",
       "    <tr>\n",
       "      <th>7</th>\n",
       "      <td>0.0503078</td>\n",
       "      <td>{'gamma': 0.05030776640392198}</td>\n",
       "      <td>0.849162</td>\n",
       "      <td>0.826816</td>\n",
       "      <td>0.831461</td>\n",
       "      <td>0.803371</td>\n",
       "      <td>0.870056</td>\n",
       "      <td>0.836139</td>\n",
       "      <td>0.022337</td>\n",
       "      <td>1</td>\n",
       "    </tr>\n",
       "    <tr>\n",
       "      <th>8</th>\n",
       "      <td>0.00149891</td>\n",
       "      <td>{'gamma': 0.0014989089372106587}</td>\n",
       "      <td>0.849162</td>\n",
       "      <td>0.826816</td>\n",
       "      <td>0.831461</td>\n",
       "      <td>0.803371</td>\n",
       "      <td>0.870056</td>\n",
       "      <td>0.836139</td>\n",
       "      <td>0.022337</td>\n",
       "      <td>1</td>\n",
       "    </tr>\n",
       "    <tr>\n",
       "      <th>9</th>\n",
       "      <td>0.0409006</td>\n",
       "      <td>{'gamma': 0.040900608895357106}</td>\n",
       "      <td>0.849162</td>\n",
       "      <td>0.826816</td>\n",
       "      <td>0.831461</td>\n",
       "      <td>0.803371</td>\n",
       "      <td>0.870056</td>\n",
       "      <td>0.836139</td>\n",
       "      <td>0.022337</td>\n",
       "      <td>1</td>\n",
       "    </tr>\n",
       "  </tbody>\n",
       "</table>\n",
       "</div>"
      ],
      "text/plain": [
       "  param_gamma                            params  split0_test_score  \\\n",
       "0  0.00991963   {'gamma': 0.009919628225944364}           0.849162   \n",
       "1  0.00457822   {'gamma': 0.004578223207895638}           0.849162   \n",
       "2   0.0736858    {'gamma': 0.07368577362395162}           0.849162   \n",
       "3  0.00103531  {'gamma': 0.0010353059889022392}           0.849162   \n",
       "4  0.00282271  {'gamma': 0.0028227056686995385}           0.849162   \n",
       "5  0.00537915   {'gamma': 0.005379149806801916}           0.849162   \n",
       "6  0.00945409   {'gamma': 0.009454087154427781}           0.849162   \n",
       "7   0.0503078    {'gamma': 0.05030776640392198}           0.849162   \n",
       "8  0.00149891  {'gamma': 0.0014989089372106587}           0.849162   \n",
       "9   0.0409006   {'gamma': 0.040900608895357106}           0.849162   \n",
       "\n",
       "   split1_test_score  split2_test_score  split3_test_score  split4_test_score  \\\n",
       "0           0.826816           0.831461           0.803371           0.870056   \n",
       "1           0.826816           0.831461           0.803371           0.870056   \n",
       "2           0.826816           0.831461           0.803371           0.870056   \n",
       "3           0.826816           0.831461           0.803371           0.870056   \n",
       "4           0.826816           0.831461           0.803371           0.870056   \n",
       "5           0.826816           0.831461           0.803371           0.870056   \n",
       "6           0.826816           0.831461           0.803371           0.870056   \n",
       "7           0.826816           0.831461           0.803371           0.870056   \n",
       "8           0.826816           0.831461           0.803371           0.870056   \n",
       "9           0.826816           0.831461           0.803371           0.870056   \n",
       "\n",
       "   mean_test_score  std_test_score  rank_test_score  \n",
       "0         0.836139        0.022337                1  \n",
       "1         0.836139        0.022337                1  \n",
       "2         0.836139        0.022337                1  \n",
       "3         0.836139        0.022337                1  \n",
       "4         0.836139        0.022337                1  \n",
       "5         0.836139        0.022337                1  \n",
       "6         0.836139        0.022337                1  \n",
       "7         0.836139        0.022337                1  \n",
       "8         0.836139        0.022337                1  \n",
       "9         0.836139        0.022337                1  "
      ]
     },
     "execution_count": 67,
     "metadata": {},
     "output_type": "execute_result"
    }
   ],
   "source": [
    "results = pd.DataFrame(grid_xgb.cv_results_)\n",
    "results.iloc[:,4:].sort_values('rank_test_score')"
   ]
  },
  {
   "cell_type": "code",
   "execution_count": 68,
   "metadata": {},
   "outputs": [
    {
     "data": {
      "text/plain": [
       "{'gamma': 0.009919628225944364,\n",
       " 'max_depth': 3,\n",
       " 'min_child_weight': 1,\n",
       " 'n_estimators': 12}"
      ]
     },
     "execution_count": 68,
     "metadata": {},
     "output_type": "execute_result"
    }
   ],
   "source": [
    "xgb_best_param.update(grid_xgb.best_params_)\n",
    "xgb_best_param\n",
    "# best parameter values to be used in the stack model"
   ]
  },
  {
   "cell_type": "code",
   "execution_count": 69,
   "metadata": {},
   "outputs": [
    {
     "data": {
      "text/plain": [
       "XGBClassifier(base_score=0.5, booster='gbtree', colsample_bylevel=1,\n",
       "              colsample_bynode=1, colsample_bytree=0.8,\n",
       "              gamma=0.009919628225944364, learning_rate=0.01, max_delta_step=0,\n",
       "              max_depth=3, min_child_weight=1, missing=None, n_estimators=12,\n",
       "              n_jobs=-1, nthread=None, objective='binary:logistic',\n",
       "              random_state=42, reg_alpha=0, reg_lambda=1, scale_pos_weight=1,\n",
       "              seed=None, silent=None, subsample=0.8, verbosity=1)"
      ]
     },
     "execution_count": 69,
     "metadata": {},
     "output_type": "execute_result"
    }
   ],
   "source": [
    "# update xgb with the optimal gamma\n",
    "xgb.set_params(**xgb_best_param)"
   ]
  },
  {
   "cell_type": "markdown",
   "metadata": {},
   "source": [
    "#### 4. Tune subsample and colsample_bytree"
   ]
  },
  {
   "cell_type": "code",
   "execution_count": 70,
   "metadata": {},
   "outputs": [
    {
     "data": {
      "text/plain": [
       "GridSearchCV(cv=StratifiedKFold(n_splits=5, random_state=42, shuffle=False),\n",
       "             error_score='raise-deprecating',\n",
       "             estimator=XGBClassifier(base_score=0.5, booster='gbtree',\n",
       "                                     colsample_bylevel=1, colsample_bynode=1,\n",
       "                                     colsample_bytree=0.8,\n",
       "                                     gamma=0.009919628225944364,\n",
       "                                     learning_rate=0.01, max_delta_step=0,\n",
       "                                     max_depth=3, min_child_weight=1,\n",
       "                                     missing=None, n_estimators=12, n_jobs=-1,\n",
       "                                     nthread=None, objective='binary:logistic',\n",
       "                                     random_state=42, reg_alpha=0, reg_lambda=1,\n",
       "                                     scale_pos_weight=1, seed=None, silent=None,\n",
       "                                     subsample=0.8, verbosity=1),\n",
       "             iid='warn', n_jobs=-1,\n",
       "             param_grid={'colsample_bytree': array([0.6, 0.7, 0.8, 0.9]),\n",
       "                         'subsample': array([0.6, 0.7, 0.8, 0.9])},\n",
       "             pre_dispatch='2*n_jobs', refit=True, return_train_score=False,\n",
       "             scoring=None, verbose=0)"
      ]
     },
     "execution_count": 70,
     "metadata": {},
     "output_type": "execute_result"
    }
   ],
   "source": [
    "parameter_grid = {\n",
    "                    'subsample': np.arange(0.6, 1.0, 0.1),\n",
    "                    'colsample_bytree': np.arange(0.6, 1.0, 0.1)\n",
    "                 }\n",
    "grid_xgb = GridSearchCV(xgb, parameter_grid, cv=cv_splitter, n_jobs=-1)\n",
    "grid_xgb.fit(X_1, y)"
   ]
  },
  {
   "cell_type": "code",
   "execution_count": 71,
   "metadata": {},
   "outputs": [
    {
     "data": {
      "text/plain": [
       "{'colsample_bytree': 0.7, 'subsample': 0.7999999999999999}"
      ]
     },
     "execution_count": 71,
     "metadata": {},
     "output_type": "execute_result"
    }
   ],
   "source": [
    "grid_xgb.best_params_"
   ]
  },
  {
   "cell_type": "code",
   "execution_count": 72,
   "metadata": {},
   "outputs": [
    {
     "data": {
      "text/plain": [
       "{'colsample_bytree': 0.7,\n",
       " 'gamma': 0.009919628225944364,\n",
       " 'max_depth': 3,\n",
       " 'min_child_weight': 1,\n",
       " 'n_estimators': 12,\n",
       " 'subsample': 0.7999999999999999}"
      ]
     },
     "execution_count": 72,
     "metadata": {},
     "output_type": "execute_result"
    }
   ],
   "source": [
    "xgb_best_param.update(grid_xgb.best_params_)\n",
    "xgb_best_param\n",
    "# best parameter values to be used in the stack model"
   ]
  },
  {
   "cell_type": "code",
   "execution_count": 73,
   "metadata": {},
   "outputs": [
    {
     "data": {
      "text/plain": [
       "XGBClassifier(base_score=0.5, booster='gbtree', colsample_bylevel=1,\n",
       "              colsample_bynode=1, colsample_bytree=0.7,\n",
       "              gamma=0.009919628225944364, learning_rate=0.01, max_delta_step=0,\n",
       "              max_depth=3, min_child_weight=1, missing=None, n_estimators=12,\n",
       "              n_jobs=-1, nthread=None, objective='binary:logistic',\n",
       "              random_state=42, reg_alpha=0, reg_lambda=1, scale_pos_weight=1,\n",
       "              seed=None, silent=None, subsample=0.7999999999999999,\n",
       "              verbosity=1)"
      ]
     },
     "execution_count": 73,
     "metadata": {},
     "output_type": "execute_result"
    }
   ],
   "source": [
    "# update xgb with the optimal parameters\n",
    "xgb.set_params(**xgb_best_param)"
   ]
  },
  {
   "cell_type": "markdown",
   "metadata": {},
   "source": [
    "#### 5. Finally tune reg_alpha"
   ]
  },
  {
   "cell_type": "code",
   "execution_count": 74,
   "metadata": {},
   "outputs": [
    {
     "data": {
      "text/plain": [
       "GridSearchCV(cv=StratifiedKFold(n_splits=5, random_state=42, shuffle=False),\n",
       "             error_score='raise-deprecating',\n",
       "             estimator=XGBClassifier(base_score=0.5, booster='gbtree',\n",
       "                                     colsample_bylevel=1, colsample_bynode=1,\n",
       "                                     colsample_bytree=0.7,\n",
       "                                     gamma=0.009919628225944364,\n",
       "                                     learning_rate=0.01, max_delta_step=0,\n",
       "                                     max_depth=3, min_child_weight=1,\n",
       "                                     missing=None, n_estimators=12, n_jobs=-1,\n",
       "                                     nthread=None, objective='binary:logistic',\n",
       "                                     random_state=42, reg_alpha=0, reg_lambda=1,\n",
       "                                     scale_pos_weight=1, seed=None, silent=None,\n",
       "                                     subsample=0.7999999999999999,\n",
       "                                     verbosity=1),\n",
       "             iid='warn', n_jobs=-1,\n",
       "             param_grid={'reg_alpha': array([0.   , 0.001, 0.002, 0.003, 0.004])},\n",
       "             pre_dispatch='2*n_jobs', refit=True, return_train_score=False,\n",
       "             scoring=None, verbose=0)"
      ]
     },
     "execution_count": 74,
     "metadata": {},
     "output_type": "execute_result"
    }
   ],
   "source": [
    "parameter_grid = {\n",
    "                    'reg_alpha': np.arange(0., 0.005, 0.001),\n",
    "                 }\n",
    "grid_xgb = GridSearchCV(xgb, parameter_grid, cv=cv_splitter, n_jobs=-1)\n",
    "grid_xgb.fit(X_1, y)"
   ]
  },
  {
   "cell_type": "code",
   "execution_count": 75,
   "metadata": {},
   "outputs": [
    {
     "data": {
      "text/plain": [
       "{'reg_alpha': 0.0}"
      ]
     },
     "execution_count": 75,
     "metadata": {},
     "output_type": "execute_result"
    }
   ],
   "source": [
    "grid_xgb.best_params_"
   ]
  },
  {
   "cell_type": "code",
   "execution_count": 76,
   "metadata": {},
   "outputs": [
    {
     "data": {
      "text/html": [
       "<div>\n",
       "<style scoped>\n",
       "    .dataframe tbody tr th:only-of-type {\n",
       "        vertical-align: middle;\n",
       "    }\n",
       "\n",
       "    .dataframe tbody tr th {\n",
       "        vertical-align: top;\n",
       "    }\n",
       "\n",
       "    .dataframe thead th {\n",
       "        text-align: right;\n",
       "    }\n",
       "</style>\n",
       "<table border=\"1\" class=\"dataframe\">\n",
       "  <thead>\n",
       "    <tr style=\"text-align: right;\">\n",
       "      <th></th>\n",
       "      <th>param_reg_alpha</th>\n",
       "      <th>params</th>\n",
       "      <th>split0_test_score</th>\n",
       "      <th>split1_test_score</th>\n",
       "      <th>split2_test_score</th>\n",
       "      <th>split3_test_score</th>\n",
       "      <th>split4_test_score</th>\n",
       "      <th>mean_test_score</th>\n",
       "      <th>std_test_score</th>\n",
       "      <th>rank_test_score</th>\n",
       "    </tr>\n",
       "  </thead>\n",
       "  <tbody>\n",
       "    <tr>\n",
       "      <th>0</th>\n",
       "      <td>0</td>\n",
       "      <td>{'reg_alpha': 0.0}</td>\n",
       "      <td>0.849162</td>\n",
       "      <td>0.826816</td>\n",
       "      <td>0.831461</td>\n",
       "      <td>0.803371</td>\n",
       "      <td>0.870056</td>\n",
       "      <td>0.836139</td>\n",
       "      <td>0.022337</td>\n",
       "      <td>1</td>\n",
       "    </tr>\n",
       "    <tr>\n",
       "      <th>1</th>\n",
       "      <td>0.001</td>\n",
       "      <td>{'reg_alpha': 0.001}</td>\n",
       "      <td>0.849162</td>\n",
       "      <td>0.826816</td>\n",
       "      <td>0.831461</td>\n",
       "      <td>0.803371</td>\n",
       "      <td>0.870056</td>\n",
       "      <td>0.836139</td>\n",
       "      <td>0.022337</td>\n",
       "      <td>1</td>\n",
       "    </tr>\n",
       "    <tr>\n",
       "      <th>2</th>\n",
       "      <td>0.002</td>\n",
       "      <td>{'reg_alpha': 0.002}</td>\n",
       "      <td>0.849162</td>\n",
       "      <td>0.826816</td>\n",
       "      <td>0.831461</td>\n",
       "      <td>0.803371</td>\n",
       "      <td>0.870056</td>\n",
       "      <td>0.836139</td>\n",
       "      <td>0.022337</td>\n",
       "      <td>1</td>\n",
       "    </tr>\n",
       "    <tr>\n",
       "      <th>3</th>\n",
       "      <td>0.003</td>\n",
       "      <td>{'reg_alpha': 0.003}</td>\n",
       "      <td>0.849162</td>\n",
       "      <td>0.826816</td>\n",
       "      <td>0.831461</td>\n",
       "      <td>0.803371</td>\n",
       "      <td>0.870056</td>\n",
       "      <td>0.836139</td>\n",
       "      <td>0.022337</td>\n",
       "      <td>1</td>\n",
       "    </tr>\n",
       "    <tr>\n",
       "      <th>4</th>\n",
       "      <td>0.004</td>\n",
       "      <td>{'reg_alpha': 0.004}</td>\n",
       "      <td>0.849162</td>\n",
       "      <td>0.826816</td>\n",
       "      <td>0.831461</td>\n",
       "      <td>0.803371</td>\n",
       "      <td>0.870056</td>\n",
       "      <td>0.836139</td>\n",
       "      <td>0.022337</td>\n",
       "      <td>1</td>\n",
       "    </tr>\n",
       "  </tbody>\n",
       "</table>\n",
       "</div>"
      ],
      "text/plain": [
       "  param_reg_alpha                params  split0_test_score  split1_test_score  \\\n",
       "0               0    {'reg_alpha': 0.0}           0.849162           0.826816   \n",
       "1           0.001  {'reg_alpha': 0.001}           0.849162           0.826816   \n",
       "2           0.002  {'reg_alpha': 0.002}           0.849162           0.826816   \n",
       "3           0.003  {'reg_alpha': 0.003}           0.849162           0.826816   \n",
       "4           0.004  {'reg_alpha': 0.004}           0.849162           0.826816   \n",
       "\n",
       "   split2_test_score  split3_test_score  split4_test_score  mean_test_score  \\\n",
       "0           0.831461           0.803371           0.870056         0.836139   \n",
       "1           0.831461           0.803371           0.870056         0.836139   \n",
       "2           0.831461           0.803371           0.870056         0.836139   \n",
       "3           0.831461           0.803371           0.870056         0.836139   \n",
       "4           0.831461           0.803371           0.870056         0.836139   \n",
       "\n",
       "   std_test_score  rank_test_score  \n",
       "0        0.022337                1  \n",
       "1        0.022337                1  \n",
       "2        0.022337                1  \n",
       "3        0.022337                1  \n",
       "4        0.022337                1  "
      ]
     },
     "execution_count": 76,
     "metadata": {},
     "output_type": "execute_result"
    }
   ],
   "source": [
    "results = pd.DataFrame(grid_xgb.cv_results_)\n",
    "results.iloc[:,4:].sort_values('rank_test_score')"
   ]
  },
  {
   "cell_type": "code",
   "execution_count": 77,
   "metadata": {},
   "outputs": [
    {
     "data": {
      "text/plain": [
       "{'colsample_bytree': 0.7,\n",
       " 'gamma': 0.009919628225944364,\n",
       " 'max_depth': 3,\n",
       " 'min_child_weight': 1,\n",
       " 'n_estimators': 12,\n",
       " 'reg_alpha': 0.0,\n",
       " 'subsample': 0.7999999999999999}"
      ]
     },
     "execution_count": 77,
     "metadata": {},
     "output_type": "execute_result"
    }
   ],
   "source": [
    "xgb_best_param.update(grid_xgb.best_params_)\n",
    "xgb_best_param\n",
    "# best parameter values to be used in the stack model"
   ]
  },
  {
   "cell_type": "code",
   "execution_count": 78,
   "metadata": {},
   "outputs": [
    {
     "data": {
      "text/plain": [
       "XGBClassifier(base_score=0.5, booster='gbtree', colsample_bylevel=1,\n",
       "              colsample_bynode=1, colsample_bytree=0.7,\n",
       "              gamma=0.009919628225944364, learning_rate=0.01, max_delta_step=0,\n",
       "              max_depth=3, min_child_weight=1, missing=None, n_estimators=12,\n",
       "              n_jobs=-1, nthread=None, objective='binary:logistic',\n",
       "              random_state=42, reg_alpha=0.0, reg_lambda=1, scale_pos_weight=1,\n",
       "              seed=None, silent=None, subsample=0.7999999999999999,\n",
       "              verbosity=1)"
      ]
     },
     "execution_count": 78,
     "metadata": {},
     "output_type": "execute_result"
    }
   ],
   "source": [
    "grid_xgb.best_estimator_"
   ]
  },
  {
   "cell_type": "markdown",
   "metadata": {},
   "source": [
    "#### 6. Visualize the feature importance of the final model"
   ]
  },
  {
   "cell_type": "code",
   "execution_count": 79,
   "metadata": {},
   "outputs": [
    {
     "data": {
      "text/plain": [
       "<bound method _AxesBase.grid of <matplotlib.axes._subplots.AxesSubplot object at 0x00000175D1FB6DA0>>"
      ]
     },
     "execution_count": 79,
     "metadata": {},
     "output_type": "execute_result"
    },
    {
     "data": {
      "image/png": "[encoded data removed]",
      "text/plain": [
       "<matplotlib.figure.Figure at 0x175d1fb6438>"
      ]
     },
     "metadata": {},
     "output_type": "display_data"
    }
   ],
   "source": [
    "fig, ax = plt.subplots(figsize=(35,8))\n",
    "ax.bar(x_ax, grid_xgb.best_estimator_.feature_importances_)\n",
    "ax.grid"
   ]
  },
  {
   "cell_type": "code",
   "execution_count": 80,
   "metadata": {},
   "outputs": [
    {
     "name": "stdout",
     "output_type": "stream",
     "text": [
      "[0.84916201 0.82681564 0.83146067 0.80337079 0.8700565 ]\n",
      "Mean (xgb): 0.8361731222961166\n",
      "SD (xgb): 0.022372112803258924\n"
     ]
    }
   ],
   "source": [
    "scores_xgb = cross_val_score(grid_xgb.best_estimator_, X_1, y, cv=cv_splitter, n_jobs=-1)\n",
    "print(scores_xgb)\n",
    "print('Mean (xgb): '+str(scores_xgb.mean()))\n",
    "print('SD (xgb): '+str(scores_xgb.std()))"
   ]
  },
  {
   "cell_type": "markdown",
   "metadata": {},
   "source": [
    "### 5. Fifth Model: Multinomial Naive Bayes"
   ]
  },
  {
   "cell_type": "code",
   "execution_count": 81,
   "metadata": {},
   "outputs": [
    {
     "data": {
      "text/plain": [
       "GridSearchCV(cv=StratifiedKFold(n_splits=5, random_state=42, shuffle=False),\n",
       "             error_score='raise-deprecating',\n",
       "             estimator=MultinomialNB(alpha=1.0, class_prior=None,\n",
       "                                     fit_prior=True),\n",
       "             iid='warn', n_jobs=-1,\n",
       "             param_grid={'alpha': array([0.1, 0.2, 0.3, 0.4, 0.5, 0.6, 0.7, 0.8, 0.9])},\n",
       "             pre_dispatch='2*n_jobs', refit=True, return_train_score=False,\n",
       "             scoring=None, verbose=0)"
      ]
     },
     "execution_count": 81,
     "metadata": {},
     "output_type": "execute_result"
    }
   ],
   "source": [
    "mnb = MultinomialNB()\n",
    "parameters = {'alpha':np.arange(0.1, 1, 0.1)}\n",
    "grid_mnb = GridSearchCV(mnb, param_grid=parameters, cv=cv_splitter, n_jobs=-1)\n",
    "grid_mnb.fit(X_1, y)"
   ]
  },
  {
   "cell_type": "code",
   "execution_count": 82,
   "metadata": {},
   "outputs": [
    {
     "data": {
      "text/plain": [
       "{'alpha': 0.1}"
      ]
     },
     "execution_count": 82,
     "metadata": {},
     "output_type": "execute_result"
    }
   ],
   "source": [
    "grid_mnb.best_params_"
   ]
  },
  {
   "cell_type": "code",
   "execution_count": 83,
   "metadata": {},
   "outputs": [
    {
     "data": {
      "text/html": [
       "<div>\n",
       "<style scoped>\n",
       "    .dataframe tbody tr th:only-of-type {\n",
       "        vertical-align: middle;\n",
       "    }\n",
       "\n",
       "    .dataframe tbody tr th {\n",
       "        vertical-align: top;\n",
       "    }\n",
       "\n",
       "    .dataframe thead th {\n",
       "        text-align: right;\n",
       "    }\n",
       "</style>\n",
       "<table border=\"1\" class=\"dataframe\">\n",
       "  <thead>\n",
       "    <tr style=\"text-align: right;\">\n",
       "      <th></th>\n",
       "      <th>mean_fit_time</th>\n",
       "      <th>std_fit_time</th>\n",
       "      <th>mean_score_time</th>\n",
       "      <th>std_score_time</th>\n",
       "      <th>param_alpha</th>\n",
       "      <th>params</th>\n",
       "      <th>split0_test_score</th>\n",
       "      <th>split1_test_score</th>\n",
       "      <th>split2_test_score</th>\n",
       "      <th>split3_test_score</th>\n",
       "      <th>split4_test_score</th>\n",
       "      <th>mean_test_score</th>\n",
       "      <th>std_test_score</th>\n",
       "      <th>rank_test_score</th>\n",
       "    </tr>\n",
       "  </thead>\n",
       "  <tbody>\n",
       "    <tr>\n",
       "      <th>0</th>\n",
       "      <td>0.056027</td>\n",
       "      <td>0.026405</td>\n",
       "      <td>0.009085</td>\n",
       "      <td>0.006874</td>\n",
       "      <td>0.1</td>\n",
       "      <td>{'alpha': 0.1}</td>\n",
       "      <td>0.681564</td>\n",
       "      <td>0.77095</td>\n",
       "      <td>0.820225</td>\n",
       "      <td>0.808989</td>\n",
       "      <td>0.819209</td>\n",
       "      <td>0.780022</td>\n",
       "      <td>0.052532</td>\n",
       "      <td>1</td>\n",
       "    </tr>\n",
       "    <tr>\n",
       "      <th>1</th>\n",
       "      <td>0.002170</td>\n",
       "      <td>0.000815</td>\n",
       "      <td>0.000440</td>\n",
       "      <td>0.000542</td>\n",
       "      <td>0.2</td>\n",
       "      <td>{'alpha': 0.2}</td>\n",
       "      <td>0.681564</td>\n",
       "      <td>0.77095</td>\n",
       "      <td>0.820225</td>\n",
       "      <td>0.808989</td>\n",
       "      <td>0.819209</td>\n",
       "      <td>0.780022</td>\n",
       "      <td>0.052532</td>\n",
       "      <td>1</td>\n",
       "    </tr>\n",
       "    <tr>\n",
       "      <th>2</th>\n",
       "      <td>0.001824</td>\n",
       "      <td>0.001101</td>\n",
       "      <td>0.000414</td>\n",
       "      <td>0.000508</td>\n",
       "      <td>0.3</td>\n",
       "      <td>{'alpha': 0.30000000000000004}</td>\n",
       "      <td>0.681564</td>\n",
       "      <td>0.77095</td>\n",
       "      <td>0.820225</td>\n",
       "      <td>0.808989</td>\n",
       "      <td>0.819209</td>\n",
       "      <td>0.780022</td>\n",
       "      <td>0.052532</td>\n",
       "      <td>1</td>\n",
       "    </tr>\n",
       "    <tr>\n",
       "      <th>3</th>\n",
       "      <td>0.001397</td>\n",
       "      <td>0.000489</td>\n",
       "      <td>0.000591</td>\n",
       "      <td>0.000727</td>\n",
       "      <td>0.4</td>\n",
       "      <td>{'alpha': 0.4}</td>\n",
       "      <td>0.681564</td>\n",
       "      <td>0.77095</td>\n",
       "      <td>0.820225</td>\n",
       "      <td>0.808989</td>\n",
       "      <td>0.819209</td>\n",
       "      <td>0.780022</td>\n",
       "      <td>0.052532</td>\n",
       "      <td>1</td>\n",
       "    </tr>\n",
       "    <tr>\n",
       "      <th>4</th>\n",
       "      <td>0.001536</td>\n",
       "      <td>0.001219</td>\n",
       "      <td>0.001002</td>\n",
       "      <td>0.001554</td>\n",
       "      <td>0.5</td>\n",
       "      <td>{'alpha': 0.5}</td>\n",
       "      <td>0.681564</td>\n",
       "      <td>0.77095</td>\n",
       "      <td>0.820225</td>\n",
       "      <td>0.808989</td>\n",
       "      <td>0.819209</td>\n",
       "      <td>0.780022</td>\n",
       "      <td>0.052532</td>\n",
       "      <td>1</td>\n",
       "    </tr>\n",
       "    <tr>\n",
       "      <th>5</th>\n",
       "      <td>0.002269</td>\n",
       "      <td>0.002061</td>\n",
       "      <td>0.000000</td>\n",
       "      <td>0.000000</td>\n",
       "      <td>0.6</td>\n",
       "      <td>{'alpha': 0.6}</td>\n",
       "      <td>0.681564</td>\n",
       "      <td>0.77095</td>\n",
       "      <td>0.820225</td>\n",
       "      <td>0.808989</td>\n",
       "      <td>0.819209</td>\n",
       "      <td>0.780022</td>\n",
       "      <td>0.052532</td>\n",
       "      <td>1</td>\n",
       "    </tr>\n",
       "    <tr>\n",
       "      <th>6</th>\n",
       "      <td>0.002806</td>\n",
       "      <td>0.001941</td>\n",
       "      <td>0.000000</td>\n",
       "      <td>0.000000</td>\n",
       "      <td>0.7</td>\n",
       "      <td>{'alpha': 0.7000000000000001}</td>\n",
       "      <td>0.681564</td>\n",
       "      <td>0.77095</td>\n",
       "      <td>0.820225</td>\n",
       "      <td>0.808989</td>\n",
       "      <td>0.819209</td>\n",
       "      <td>0.780022</td>\n",
       "      <td>0.052532</td>\n",
       "      <td>1</td>\n",
       "    </tr>\n",
       "    <tr>\n",
       "      <th>7</th>\n",
       "      <td>0.001595</td>\n",
       "      <td>0.001954</td>\n",
       "      <td>0.000800</td>\n",
       "      <td>0.001601</td>\n",
       "      <td>0.8</td>\n",
       "      <td>{'alpha': 0.8}</td>\n",
       "      <td>0.681564</td>\n",
       "      <td>0.77095</td>\n",
       "      <td>0.820225</td>\n",
       "      <td>0.808989</td>\n",
       "      <td>0.819209</td>\n",
       "      <td>0.780022</td>\n",
       "      <td>0.052532</td>\n",
       "      <td>1</td>\n",
       "    </tr>\n",
       "    <tr>\n",
       "      <th>8</th>\n",
       "      <td>0.002019</td>\n",
       "      <td>0.001799</td>\n",
       "      <td>0.000833</td>\n",
       "      <td>0.001665</td>\n",
       "      <td>0.9</td>\n",
       "      <td>{'alpha': 0.9}</td>\n",
       "      <td>0.681564</td>\n",
       "      <td>0.77095</td>\n",
       "      <td>0.820225</td>\n",
       "      <td>0.808989</td>\n",
       "      <td>0.819209</td>\n",
       "      <td>0.780022</td>\n",
       "      <td>0.052532</td>\n",
       "      <td>1</td>\n",
       "    </tr>\n",
       "  </tbody>\n",
       "</table>\n",
       "</div>"
      ],
      "text/plain": [
       "   mean_fit_time  std_fit_time  mean_score_time  std_score_time param_alpha  \\\n",
       "0       0.056027      0.026405         0.009085        0.006874         0.1   \n",
       "1       0.002170      0.000815         0.000440        0.000542         0.2   \n",
       "2       0.001824      0.001101         0.000414        0.000508         0.3   \n",
       "3       0.001397      0.000489         0.000591        0.000727         0.4   \n",
       "4       0.001536      0.001219         0.001002        0.001554         0.5   \n",
       "5       0.002269      0.002061         0.000000        0.000000         0.6   \n",
       "6       0.002806      0.001941         0.000000        0.000000         0.7   \n",
       "7       0.001595      0.001954         0.000800        0.001601         0.8   \n",
       "8       0.002019      0.001799         0.000833        0.001665         0.9   \n",
       "\n",
       "                           params  split0_test_score  split1_test_score  \\\n",
       "0                  {'alpha': 0.1}           0.681564            0.77095   \n",
       "1                  {'alpha': 0.2}           0.681564            0.77095   \n",
       "2  {'alpha': 0.30000000000000004}           0.681564            0.77095   \n",
       "3                  {'alpha': 0.4}           0.681564            0.77095   \n",
       "4                  {'alpha': 0.5}           0.681564            0.77095   \n",
       "5                  {'alpha': 0.6}           0.681564            0.77095   \n",
       "6   {'alpha': 0.7000000000000001}           0.681564            0.77095   \n",
       "7                  {'alpha': 0.8}           0.681564            0.77095   \n",
       "8                  {'alpha': 0.9}           0.681564            0.77095   \n",
       "\n",
       "   split2_test_score  split3_test_score  split4_test_score  mean_test_score  \\\n",
       "0           0.820225           0.808989           0.819209         0.780022   \n",
       "1           0.820225           0.808989           0.819209         0.780022   \n",
       "2           0.820225           0.808989           0.819209         0.780022   \n",
       "3           0.820225           0.808989           0.819209         0.780022   \n",
       "4           0.820225           0.808989           0.819209         0.780022   \n",
       "5           0.820225           0.808989           0.819209         0.780022   \n",
       "6           0.820225           0.808989           0.819209         0.780022   \n",
       "7           0.820225           0.808989           0.819209         0.780022   \n",
       "8           0.820225           0.808989           0.819209         0.780022   \n",
       "\n",
       "   std_test_score  rank_test_score  \n",
       "0        0.052532                1  \n",
       "1        0.052532                1  \n",
       "2        0.052532                1  \n",
       "3        0.052532                1  \n",
       "4        0.052532                1  \n",
       "5        0.052532                1  \n",
       "6        0.052532                1  \n",
       "7        0.052532                1  \n",
       "8        0.052532                1  "
      ]
     },
     "execution_count": 83,
     "metadata": {},
     "output_type": "execute_result"
    }
   ],
   "source": [
    "pd.DataFrame(grid_mnb.cv_results_)"
   ]
  },
  {
   "cell_type": "code",
   "execution_count": 84,
   "metadata": {},
   "outputs": [
    {
     "data": {
      "text/plain": [
       "{'alpha': 0.1}"
      ]
     },
     "execution_count": 84,
     "metadata": {},
     "output_type": "execute_result"
    }
   ],
   "source": [
    "mnb_best_param = grid_mnb.best_params_\n",
    "mnb_best_param"
   ]
  },
  {
   "cell_type": "code",
   "execution_count": 85,
   "metadata": {},
   "outputs": [
    {
     "data": {
      "text/plain": [
       "MultinomialNB(alpha=0.1, class_prior=None, fit_prior=True)"
      ]
     },
     "execution_count": 85,
     "metadata": {},
     "output_type": "execute_result"
    }
   ],
   "source": [
    "grid_mnb.best_estimator_"
   ]
  },
  {
   "cell_type": "code",
   "execution_count": 86,
   "metadata": {},
   "outputs": [
    {
     "name": "stdout",
     "output_type": "stream",
     "text": [
      "[0.68156425 0.77094972 0.82022472 0.80898876 0.81920904]\n",
      "Mean (mnb): 0.7801872978349074\n",
      "SD (mnb): 0.052472955141460026\n"
     ]
    }
   ],
   "source": [
    "scores_mnb = cross_val_score(grid_mnb.best_estimator_, X_1, y, cv=cv_splitter, n_jobs=-1)\n",
    "print(scores_mnb)\n",
    "print('Mean (mnb): '+str(scores_mnb.mean()))\n",
    "print('SD (mnb): '+str(scores_mnb.std()))"
   ]
  },
  {
   "cell_type": "markdown",
   "metadata": {},
   "source": [
    "### 6. Sixth Model: K Nearest Neighbor"
   ]
  },
  {
   "cell_type": "code",
   "execution_count": 87,
   "metadata": {},
   "outputs": [
    {
     "data": {
      "text/plain": [
       "GridSearchCV(cv=StratifiedKFold(n_splits=5, random_state=42, shuffle=False),\n",
       "             error_score='raise-deprecating',\n",
       "             estimator=KNeighborsClassifier(algorithm='auto', leaf_size=30,\n",
       "                                            metric='minkowski',\n",
       "                                            metric_params=None, n_jobs=None,\n",
       "                                            n_neighbors=5, p=2,\n",
       "                                            weights='uniform'),\n",
       "             iid='warn', n_jobs=-1,\n",
       "             param_grid={'leaf_size': array([10, 20, 30, 40, 50]),\n",
       "                         'metric': ['minkowski', 'manhattan'],\n",
       "                         'n_neighbors': array([ 9, 11, 13, 15, 17]),\n",
       "                         'weights': ['uniform', 'distance']},\n",
       "             pre_dispatch='2*n_jobs', refit=True, return_train_score=False,\n",
       "             scoring=None, verbose=0)"
      ]
     },
     "execution_count": 87,
     "metadata": {},
     "output_type": "execute_result"
    }
   ],
   "source": [
    "knn = KNeighborsClassifier()\n",
    "parameter_grid = {\n",
    "                'n_neighbors': np.arange(9, 19, 2),\n",
    "                'weights': ['uniform', 'distance'],\n",
    "                'metric': ['minkowski', 'manhattan'],\n",
    "                'leaf_size': np.arange(10, 60, 10)\n",
    "                 }\n",
    "grid_knn = GridSearchCV(knn, parameter_grid, cv=cv_splitter, n_jobs=-1)\n",
    "grid_knn.fit(X_1, y)"
   ]
  },
  {
   "cell_type": "code",
   "execution_count": 88,
   "metadata": {},
   "outputs": [
    {
     "data": {
      "text/plain": [
       "{'leaf_size': 20,\n",
       " 'metric': 'minkowski',\n",
       " 'n_neighbors': 11,\n",
       " 'weights': 'distance'}"
      ]
     },
     "execution_count": 88,
     "metadata": {},
     "output_type": "execute_result"
    }
   ],
   "source": [
    "grid_knn.best_params_"
   ]
  },
  {
   "cell_type": "code",
   "execution_count": 89,
   "metadata": {},
   "outputs": [
    {
     "data": {
      "text/html": [
       "<div>\n",
       "<style scoped>\n",
       "    .dataframe tbody tr th:only-of-type {\n",
       "        vertical-align: middle;\n",
       "    }\n",
       "\n",
       "    .dataframe tbody tr th {\n",
       "        vertical-align: top;\n",
       "    }\n",
       "\n",
       "    .dataframe thead th {\n",
       "        text-align: right;\n",
       "    }\n",
       "</style>\n",
       "<table border=\"1\" class=\"dataframe\">\n",
       "  <thead>\n",
       "    <tr style=\"text-align: right;\">\n",
       "      <th></th>\n",
       "      <th>param_leaf_size</th>\n",
       "      <th>param_metric</th>\n",
       "      <th>param_n_neighbors</th>\n",
       "      <th>param_weights</th>\n",
       "      <th>params</th>\n",
       "      <th>split0_test_score</th>\n",
       "      <th>split1_test_score</th>\n",
       "      <th>split2_test_score</th>\n",
       "      <th>split3_test_score</th>\n",
       "      <th>split4_test_score</th>\n",
       "      <th>mean_test_score</th>\n",
       "      <th>std_test_score</th>\n",
       "      <th>rank_test_score</th>\n",
       "    </tr>\n",
       "  </thead>\n",
       "  <tbody>\n",
       "    <tr>\n",
       "      <th>35</th>\n",
       "      <td>20</td>\n",
       "      <td>manhattan</td>\n",
       "      <td>13</td>\n",
       "      <td>distance</td>\n",
       "      <td>{'leaf_size': 20, 'metric': 'manhattan', 'n_ne...</td>\n",
       "      <td>0.837989</td>\n",
       "      <td>0.787709</td>\n",
       "      <td>0.837079</td>\n",
       "      <td>0.808989</td>\n",
       "      <td>0.864407</td>\n",
       "      <td>0.827160</td>\n",
       "      <td>0.026409</td>\n",
       "      <td>1</td>\n",
       "    </tr>\n",
       "    <tr>\n",
       "      <th>95</th>\n",
       "      <td>50</td>\n",
       "      <td>manhattan</td>\n",
       "      <td>13</td>\n",
       "      <td>distance</td>\n",
       "      <td>{'leaf_size': 50, 'metric': 'manhattan', 'n_ne...</td>\n",
       "      <td>0.837989</td>\n",
       "      <td>0.787709</td>\n",
       "      <td>0.837079</td>\n",
       "      <td>0.808989</td>\n",
       "      <td>0.864407</td>\n",
       "      <td>0.827160</td>\n",
       "      <td>0.026409</td>\n",
       "      <td>1</td>\n",
       "    </tr>\n",
       "    <tr>\n",
       "      <th>45</th>\n",
       "      <td>30</td>\n",
       "      <td>minkowski</td>\n",
       "      <td>13</td>\n",
       "      <td>distance</td>\n",
       "      <td>{'leaf_size': 30, 'metric': 'minkowski', 'n_ne...</td>\n",
       "      <td>0.837989</td>\n",
       "      <td>0.787709</td>\n",
       "      <td>0.837079</td>\n",
       "      <td>0.808989</td>\n",
       "      <td>0.864407</td>\n",
       "      <td>0.827160</td>\n",
       "      <td>0.026409</td>\n",
       "      <td>1</td>\n",
       "    </tr>\n",
       "    <tr>\n",
       "      <th>25</th>\n",
       "      <td>20</td>\n",
       "      <td>minkowski</td>\n",
       "      <td>13</td>\n",
       "      <td>distance</td>\n",
       "      <td>{'leaf_size': 20, 'metric': 'minkowski', 'n_ne...</td>\n",
       "      <td>0.837989</td>\n",
       "      <td>0.787709</td>\n",
       "      <td>0.837079</td>\n",
       "      <td>0.808989</td>\n",
       "      <td>0.864407</td>\n",
       "      <td>0.827160</td>\n",
       "      <td>0.026409</td>\n",
       "      <td>1</td>\n",
       "    </tr>\n",
       "    <tr>\n",
       "      <th>55</th>\n",
       "      <td>30</td>\n",
       "      <td>manhattan</td>\n",
       "      <td>13</td>\n",
       "      <td>distance</td>\n",
       "      <td>{'leaf_size': 30, 'metric': 'manhattan', 'n_ne...</td>\n",
       "      <td>0.837989</td>\n",
       "      <td>0.787709</td>\n",
       "      <td>0.837079</td>\n",
       "      <td>0.808989</td>\n",
       "      <td>0.864407</td>\n",
       "      <td>0.827160</td>\n",
       "      <td>0.026409</td>\n",
       "      <td>1</td>\n",
       "    </tr>\n",
       "    <tr>\n",
       "      <th>23</th>\n",
       "      <td>20</td>\n",
       "      <td>minkowski</td>\n",
       "      <td>11</td>\n",
       "      <td>distance</td>\n",
       "      <td>{'leaf_size': 20, 'metric': 'minkowski', 'n_ne...</td>\n",
       "      <td>0.837989</td>\n",
       "      <td>0.787709</td>\n",
       "      <td>0.837079</td>\n",
       "      <td>0.808989</td>\n",
       "      <td>0.864407</td>\n",
       "      <td>0.827160</td>\n",
       "      <td>0.026409</td>\n",
       "      <td>1</td>\n",
       "    </tr>\n",
       "    <tr>\n",
       "      <th>85</th>\n",
       "      <td>50</td>\n",
       "      <td>minkowski</td>\n",
       "      <td>13</td>\n",
       "      <td>distance</td>\n",
       "      <td>{'leaf_size': 50, 'metric': 'minkowski', 'n_ne...</td>\n",
       "      <td>0.837989</td>\n",
       "      <td>0.787709</td>\n",
       "      <td>0.837079</td>\n",
       "      <td>0.808989</td>\n",
       "      <td>0.864407</td>\n",
       "      <td>0.827160</td>\n",
       "      <td>0.026409</td>\n",
       "      <td>1</td>\n",
       "    </tr>\n",
       "    <tr>\n",
       "      <th>65</th>\n",
       "      <td>40</td>\n",
       "      <td>minkowski</td>\n",
       "      <td>13</td>\n",
       "      <td>distance</td>\n",
       "      <td>{'leaf_size': 40, 'metric': 'minkowski', 'n_ne...</td>\n",
       "      <td>0.837989</td>\n",
       "      <td>0.787709</td>\n",
       "      <td>0.837079</td>\n",
       "      <td>0.808989</td>\n",
       "      <td>0.864407</td>\n",
       "      <td>0.827160</td>\n",
       "      <td>0.026409</td>\n",
       "      <td>1</td>\n",
       "    </tr>\n",
       "    <tr>\n",
       "      <th>33</th>\n",
       "      <td>20</td>\n",
       "      <td>manhattan</td>\n",
       "      <td>11</td>\n",
       "      <td>distance</td>\n",
       "      <td>{'leaf_size': 20, 'metric': 'manhattan', 'n_ne...</td>\n",
       "      <td>0.837989</td>\n",
       "      <td>0.787709</td>\n",
       "      <td>0.837079</td>\n",
       "      <td>0.808989</td>\n",
       "      <td>0.864407</td>\n",
       "      <td>0.827160</td>\n",
       "      <td>0.026409</td>\n",
       "      <td>1</td>\n",
       "    </tr>\n",
       "    <tr>\n",
       "      <th>75</th>\n",
       "      <td>40</td>\n",
       "      <td>manhattan</td>\n",
       "      <td>13</td>\n",
       "      <td>distance</td>\n",
       "      <td>{'leaf_size': 40, 'metric': 'manhattan', 'n_ne...</td>\n",
       "      <td>0.837989</td>\n",
       "      <td>0.787709</td>\n",
       "      <td>0.837079</td>\n",
       "      <td>0.808989</td>\n",
       "      <td>0.864407</td>\n",
       "      <td>0.827160</td>\n",
       "      <td>0.026409</td>\n",
       "      <td>1</td>\n",
       "    </tr>\n",
       "    <tr>\n",
       "      <th>41</th>\n",
       "      <td>30</td>\n",
       "      <td>minkowski</td>\n",
       "      <td>9</td>\n",
       "      <td>distance</td>\n",
       "      <td>{'leaf_size': 30, 'metric': 'minkowski', 'n_ne...</td>\n",
       "      <td>0.837989</td>\n",
       "      <td>0.782123</td>\n",
       "      <td>0.837079</td>\n",
       "      <td>0.808989</td>\n",
       "      <td>0.864407</td>\n",
       "      <td>0.826038</td>\n",
       "      <td>0.028125</td>\n",
       "      <td>11</td>\n",
       "    </tr>\n",
       "    <tr>\n",
       "      <th>51</th>\n",
       "      <td>30</td>\n",
       "      <td>manhattan</td>\n",
       "      <td>9</td>\n",
       "      <td>distance</td>\n",
       "      <td>{'leaf_size': 30, 'metric': 'manhattan', 'n_ne...</td>\n",
       "      <td>0.837989</td>\n",
       "      <td>0.782123</td>\n",
       "      <td>0.837079</td>\n",
       "      <td>0.808989</td>\n",
       "      <td>0.864407</td>\n",
       "      <td>0.826038</td>\n",
       "      <td>0.028125</td>\n",
       "      <td>11</td>\n",
       "    </tr>\n",
       "    <tr>\n",
       "      <th>61</th>\n",
       "      <td>40</td>\n",
       "      <td>minkowski</td>\n",
       "      <td>9</td>\n",
       "      <td>distance</td>\n",
       "      <td>{'leaf_size': 40, 'metric': 'minkowski', 'n_ne...</td>\n",
       "      <td>0.837989</td>\n",
       "      <td>0.782123</td>\n",
       "      <td>0.837079</td>\n",
       "      <td>0.808989</td>\n",
       "      <td>0.864407</td>\n",
       "      <td>0.826038</td>\n",
       "      <td>0.028125</td>\n",
       "      <td>11</td>\n",
       "    </tr>\n",
       "    <tr>\n",
       "      <th>15</th>\n",
       "      <td>10</td>\n",
       "      <td>manhattan</td>\n",
       "      <td>13</td>\n",
       "      <td>distance</td>\n",
       "      <td>{'leaf_size': 10, 'metric': 'manhattan', 'n_ne...</td>\n",
       "      <td>0.832402</td>\n",
       "      <td>0.787709</td>\n",
       "      <td>0.837079</td>\n",
       "      <td>0.808989</td>\n",
       "      <td>0.864407</td>\n",
       "      <td>0.826038</td>\n",
       "      <td>0.026041</td>\n",
       "      <td>11</td>\n",
       "    </tr>\n",
       "    <tr>\n",
       "      <th>71</th>\n",
       "      <td>40</td>\n",
       "      <td>manhattan</td>\n",
       "      <td>9</td>\n",
       "      <td>distance</td>\n",
       "      <td>{'leaf_size': 40, 'metric': 'manhattan', 'n_ne...</td>\n",
       "      <td>0.837989</td>\n",
       "      <td>0.782123</td>\n",
       "      <td>0.837079</td>\n",
       "      <td>0.808989</td>\n",
       "      <td>0.864407</td>\n",
       "      <td>0.826038</td>\n",
       "      <td>0.028125</td>\n",
       "      <td>11</td>\n",
       "    </tr>\n",
       "    <tr>\n",
       "      <th>11</th>\n",
       "      <td>10</td>\n",
       "      <td>manhattan</td>\n",
       "      <td>9</td>\n",
       "      <td>distance</td>\n",
       "      <td>{'leaf_size': 10, 'metric': 'manhattan', 'n_ne...</td>\n",
       "      <td>0.832402</td>\n",
       "      <td>0.787709</td>\n",
       "      <td>0.837079</td>\n",
       "      <td>0.808989</td>\n",
       "      <td>0.864407</td>\n",
       "      <td>0.826038</td>\n",
       "      <td>0.026041</td>\n",
       "      <td>11</td>\n",
       "    </tr>\n",
       "    <tr>\n",
       "      <th>1</th>\n",
       "      <td>10</td>\n",
       "      <td>minkowski</td>\n",
       "      <td>9</td>\n",
       "      <td>distance</td>\n",
       "      <td>{'leaf_size': 10, 'metric': 'minkowski', 'n_ne...</td>\n",
       "      <td>0.832402</td>\n",
       "      <td>0.787709</td>\n",
       "      <td>0.837079</td>\n",
       "      <td>0.808989</td>\n",
       "      <td>0.864407</td>\n",
       "      <td>0.826038</td>\n",
       "      <td>0.026041</td>\n",
       "      <td>11</td>\n",
       "    </tr>\n",
       "    <tr>\n",
       "      <th>13</th>\n",
       "      <td>10</td>\n",
       "      <td>manhattan</td>\n",
       "      <td>11</td>\n",
       "      <td>distance</td>\n",
       "      <td>{'leaf_size': 10, 'metric': 'manhattan', 'n_ne...</td>\n",
       "      <td>0.832402</td>\n",
       "      <td>0.787709</td>\n",
       "      <td>0.837079</td>\n",
       "      <td>0.808989</td>\n",
       "      <td>0.864407</td>\n",
       "      <td>0.826038</td>\n",
       "      <td>0.026041</td>\n",
       "      <td>11</td>\n",
       "    </tr>\n",
       "    <tr>\n",
       "      <th>5</th>\n",
       "      <td>10</td>\n",
       "      <td>minkowski</td>\n",
       "      <td>13</td>\n",
       "      <td>distance</td>\n",
       "      <td>{'leaf_size': 10, 'metric': 'minkowski', 'n_ne...</td>\n",
       "      <td>0.832402</td>\n",
       "      <td>0.787709</td>\n",
       "      <td>0.837079</td>\n",
       "      <td>0.808989</td>\n",
       "      <td>0.864407</td>\n",
       "      <td>0.826038</td>\n",
       "      <td>0.026041</td>\n",
       "      <td>11</td>\n",
       "    </tr>\n",
       "    <tr>\n",
       "      <th>3</th>\n",
       "      <td>10</td>\n",
       "      <td>minkowski</td>\n",
       "      <td>11</td>\n",
       "      <td>distance</td>\n",
       "      <td>{'leaf_size': 10, 'metric': 'minkowski', 'n_ne...</td>\n",
       "      <td>0.832402</td>\n",
       "      <td>0.787709</td>\n",
       "      <td>0.837079</td>\n",
       "      <td>0.808989</td>\n",
       "      <td>0.864407</td>\n",
       "      <td>0.826038</td>\n",
       "      <td>0.026041</td>\n",
       "      <td>11</td>\n",
       "    </tr>\n",
       "    <tr>\n",
       "      <th>91</th>\n",
       "      <td>50</td>\n",
       "      <td>manhattan</td>\n",
       "      <td>9</td>\n",
       "      <td>distance</td>\n",
       "      <td>{'leaf_size': 50, 'metric': 'manhattan', 'n_ne...</td>\n",
       "      <td>0.821229</td>\n",
       "      <td>0.782123</td>\n",
       "      <td>0.837079</td>\n",
       "      <td>0.808989</td>\n",
       "      <td>0.864407</td>\n",
       "      <td>0.822671</td>\n",
       "      <td>0.027489</td>\n",
       "      <td>21</td>\n",
       "    </tr>\n",
       "    <tr>\n",
       "      <th>73</th>\n",
       "      <td>40</td>\n",
       "      <td>manhattan</td>\n",
       "      <td>11</td>\n",
       "      <td>distance</td>\n",
       "      <td>{'leaf_size': 40, 'metric': 'manhattan', 'n_ne...</td>\n",
       "      <td>0.837989</td>\n",
       "      <td>0.765363</td>\n",
       "      <td>0.837079</td>\n",
       "      <td>0.808989</td>\n",
       "      <td>0.864407</td>\n",
       "      <td>0.822671</td>\n",
       "      <td>0.033643</td>\n",
       "      <td>21</td>\n",
       "    </tr>\n",
       "    <tr>\n",
       "      <th>81</th>\n",
       "      <td>50</td>\n",
       "      <td>minkowski</td>\n",
       "      <td>9</td>\n",
       "      <td>distance</td>\n",
       "      <td>{'leaf_size': 50, 'metric': 'minkowski', 'n_ne...</td>\n",
       "      <td>0.821229</td>\n",
       "      <td>0.782123</td>\n",
       "      <td>0.837079</td>\n",
       "      <td>0.808989</td>\n",
       "      <td>0.864407</td>\n",
       "      <td>0.822671</td>\n",
       "      <td>0.027489</td>\n",
       "      <td>21</td>\n",
       "    </tr>\n",
       "    <tr>\n",
       "      <th>63</th>\n",
       "      <td>40</td>\n",
       "      <td>minkowski</td>\n",
       "      <td>11</td>\n",
       "      <td>distance</td>\n",
       "      <td>{'leaf_size': 40, 'metric': 'minkowski', 'n_ne...</td>\n",
       "      <td>0.837989</td>\n",
       "      <td>0.765363</td>\n",
       "      <td>0.837079</td>\n",
       "      <td>0.808989</td>\n",
       "      <td>0.864407</td>\n",
       "      <td>0.822671</td>\n",
       "      <td>0.033643</td>\n",
       "      <td>21</td>\n",
       "    </tr>\n",
       "    <tr>\n",
       "      <th>83</th>\n",
       "      <td>50</td>\n",
       "      <td>minkowski</td>\n",
       "      <td>11</td>\n",
       "      <td>distance</td>\n",
       "      <td>{'leaf_size': 50, 'metric': 'minkowski', 'n_ne...</td>\n",
       "      <td>0.837989</td>\n",
       "      <td>0.765363</td>\n",
       "      <td>0.837079</td>\n",
       "      <td>0.808989</td>\n",
       "      <td>0.864407</td>\n",
       "      <td>0.822671</td>\n",
       "      <td>0.033643</td>\n",
       "      <td>21</td>\n",
       "    </tr>\n",
       "    <tr>\n",
       "      <th>53</th>\n",
       "      <td>30</td>\n",
       "      <td>manhattan</td>\n",
       "      <td>11</td>\n",
       "      <td>distance</td>\n",
       "      <td>{'leaf_size': 30, 'metric': 'manhattan', 'n_ne...</td>\n",
       "      <td>0.837989</td>\n",
       "      <td>0.765363</td>\n",
       "      <td>0.837079</td>\n",
       "      <td>0.808989</td>\n",
       "      <td>0.864407</td>\n",
       "      <td>0.822671</td>\n",
       "      <td>0.033643</td>\n",
       "      <td>21</td>\n",
       "    </tr>\n",
       "    <tr>\n",
       "      <th>93</th>\n",
       "      <td>50</td>\n",
       "      <td>manhattan</td>\n",
       "      <td>11</td>\n",
       "      <td>distance</td>\n",
       "      <td>{'leaf_size': 50, 'metric': 'manhattan', 'n_ne...</td>\n",
       "      <td>0.837989</td>\n",
       "      <td>0.765363</td>\n",
       "      <td>0.837079</td>\n",
       "      <td>0.808989</td>\n",
       "      <td>0.864407</td>\n",
       "      <td>0.822671</td>\n",
       "      <td>0.033643</td>\n",
       "      <td>21</td>\n",
       "    </tr>\n",
       "    <tr>\n",
       "      <th>43</th>\n",
       "      <td>30</td>\n",
       "      <td>minkowski</td>\n",
       "      <td>11</td>\n",
       "      <td>distance</td>\n",
       "      <td>{'leaf_size': 30, 'metric': 'minkowski', 'n_ne...</td>\n",
       "      <td>0.837989</td>\n",
       "      <td>0.765363</td>\n",
       "      <td>0.837079</td>\n",
       "      <td>0.808989</td>\n",
       "      <td>0.864407</td>\n",
       "      <td>0.822671</td>\n",
       "      <td>0.033643</td>\n",
       "      <td>21</td>\n",
       "    </tr>\n",
       "    <tr>\n",
       "      <th>37</th>\n",
       "      <td>20</td>\n",
       "      <td>manhattan</td>\n",
       "      <td>15</td>\n",
       "      <td>distance</td>\n",
       "      <td>{'leaf_size': 20, 'metric': 'manhattan', 'n_ne...</td>\n",
       "      <td>0.810056</td>\n",
       "      <td>0.787709</td>\n",
       "      <td>0.837079</td>\n",
       "      <td>0.808989</td>\n",
       "      <td>0.864407</td>\n",
       "      <td>0.821549</td>\n",
       "      <td>0.026480</td>\n",
       "      <td>29</td>\n",
       "    </tr>\n",
       "    <tr>\n",
       "      <th>39</th>\n",
       "      <td>20</td>\n",
       "      <td>manhattan</td>\n",
       "      <td>17</td>\n",
       "      <td>distance</td>\n",
       "      <td>{'leaf_size': 20, 'metric': 'manhattan', 'n_ne...</td>\n",
       "      <td>0.810056</td>\n",
       "      <td>0.787709</td>\n",
       "      <td>0.837079</td>\n",
       "      <td>0.808989</td>\n",
       "      <td>0.864407</td>\n",
       "      <td>0.821549</td>\n",
       "      <td>0.026480</td>\n",
       "      <td>29</td>\n",
       "    </tr>\n",
       "    <tr>\n",
       "      <th>...</th>\n",
       "      <td>...</td>\n",
       "      <td>...</td>\n",
       "      <td>...</td>\n",
       "      <td>...</td>\n",
       "      <td>...</td>\n",
       "      <td>...</td>\n",
       "      <td>...</td>\n",
       "      <td>...</td>\n",
       "      <td>...</td>\n",
       "      <td>...</td>\n",
       "      <td>...</td>\n",
       "      <td>...</td>\n",
       "      <td>...</td>\n",
       "    </tr>\n",
       "    <tr>\n",
       "      <th>82</th>\n",
       "      <td>50</td>\n",
       "      <td>minkowski</td>\n",
       "      <td>11</td>\n",
       "      <td>uniform</td>\n",
       "      <td>{'leaf_size': 50, 'metric': 'minkowski', 'n_ne...</td>\n",
       "      <td>0.837989</td>\n",
       "      <td>0.759777</td>\n",
       "      <td>0.825843</td>\n",
       "      <td>0.808989</td>\n",
       "      <td>0.836158</td>\n",
       "      <td>0.813692</td>\n",
       "      <td>0.028927</td>\n",
       "      <td>71</td>\n",
       "    </tr>\n",
       "    <tr>\n",
       "      <th>92</th>\n",
       "      <td>50</td>\n",
       "      <td>manhattan</td>\n",
       "      <td>11</td>\n",
       "      <td>uniform</td>\n",
       "      <td>{'leaf_size': 50, 'metric': 'manhattan', 'n_ne...</td>\n",
       "      <td>0.837989</td>\n",
       "      <td>0.759777</td>\n",
       "      <td>0.825843</td>\n",
       "      <td>0.808989</td>\n",
       "      <td>0.836158</td>\n",
       "      <td>0.813692</td>\n",
       "      <td>0.028927</td>\n",
       "      <td>71</td>\n",
       "    </tr>\n",
       "    <tr>\n",
       "      <th>4</th>\n",
       "      <td>10</td>\n",
       "      <td>minkowski</td>\n",
       "      <td>13</td>\n",
       "      <td>uniform</td>\n",
       "      <td>{'leaf_size': 10, 'metric': 'minkowski', 'n_ne...</td>\n",
       "      <td>0.832402</td>\n",
       "      <td>0.782123</td>\n",
       "      <td>0.820225</td>\n",
       "      <td>0.808989</td>\n",
       "      <td>0.819209</td>\n",
       "      <td>0.812570</td>\n",
       "      <td>0.016979</td>\n",
       "      <td>73</td>\n",
       "    </tr>\n",
       "    <tr>\n",
       "      <th>14</th>\n",
       "      <td>10</td>\n",
       "      <td>manhattan</td>\n",
       "      <td>13</td>\n",
       "      <td>uniform</td>\n",
       "      <td>{'leaf_size': 10, 'metric': 'manhattan', 'n_ne...</td>\n",
       "      <td>0.832402</td>\n",
       "      <td>0.782123</td>\n",
       "      <td>0.820225</td>\n",
       "      <td>0.808989</td>\n",
       "      <td>0.819209</td>\n",
       "      <td>0.812570</td>\n",
       "      <td>0.016979</td>\n",
       "      <td>73</td>\n",
       "    </tr>\n",
       "    <tr>\n",
       "      <th>72</th>\n",
       "      <td>40</td>\n",
       "      <td>manhattan</td>\n",
       "      <td>11</td>\n",
       "      <td>uniform</td>\n",
       "      <td>{'leaf_size': 40, 'metric': 'manhattan', 'n_ne...</td>\n",
       "      <td>0.837989</td>\n",
       "      <td>0.748603</td>\n",
       "      <td>0.825843</td>\n",
       "      <td>0.808989</td>\n",
       "      <td>0.836158</td>\n",
       "      <td>0.811448</td>\n",
       "      <td>0.033149</td>\n",
       "      <td>75</td>\n",
       "    </tr>\n",
       "    <tr>\n",
       "      <th>42</th>\n",
       "      <td>30</td>\n",
       "      <td>minkowski</td>\n",
       "      <td>11</td>\n",
       "      <td>uniform</td>\n",
       "      <td>{'leaf_size': 30, 'metric': 'minkowski', 'n_ne...</td>\n",
       "      <td>0.837989</td>\n",
       "      <td>0.748603</td>\n",
       "      <td>0.825843</td>\n",
       "      <td>0.808989</td>\n",
       "      <td>0.836158</td>\n",
       "      <td>0.811448</td>\n",
       "      <td>0.033149</td>\n",
       "      <td>75</td>\n",
       "    </tr>\n",
       "    <tr>\n",
       "      <th>52</th>\n",
       "      <td>30</td>\n",
       "      <td>manhattan</td>\n",
       "      <td>11</td>\n",
       "      <td>uniform</td>\n",
       "      <td>{'leaf_size': 30, 'metric': 'manhattan', 'n_ne...</td>\n",
       "      <td>0.837989</td>\n",
       "      <td>0.748603</td>\n",
       "      <td>0.825843</td>\n",
       "      <td>0.808989</td>\n",
       "      <td>0.836158</td>\n",
       "      <td>0.811448</td>\n",
       "      <td>0.033149</td>\n",
       "      <td>75</td>\n",
       "    </tr>\n",
       "    <tr>\n",
       "      <th>34</th>\n",
       "      <td>20</td>\n",
       "      <td>manhattan</td>\n",
       "      <td>13</td>\n",
       "      <td>uniform</td>\n",
       "      <td>{'leaf_size': 20, 'metric': 'manhattan', 'n_ne...</td>\n",
       "      <td>0.821229</td>\n",
       "      <td>0.782123</td>\n",
       "      <td>0.825843</td>\n",
       "      <td>0.808989</td>\n",
       "      <td>0.819209</td>\n",
       "      <td>0.811448</td>\n",
       "      <td>0.015702</td>\n",
       "      <td>75</td>\n",
       "    </tr>\n",
       "    <tr>\n",
       "      <th>62</th>\n",
       "      <td>40</td>\n",
       "      <td>minkowski</td>\n",
       "      <td>11</td>\n",
       "      <td>uniform</td>\n",
       "      <td>{'leaf_size': 40, 'metric': 'minkowski', 'n_ne...</td>\n",
       "      <td>0.837989</td>\n",
       "      <td>0.748603</td>\n",
       "      <td>0.825843</td>\n",
       "      <td>0.808989</td>\n",
       "      <td>0.836158</td>\n",
       "      <td>0.811448</td>\n",
       "      <td>0.033149</td>\n",
       "      <td>75</td>\n",
       "    </tr>\n",
       "    <tr>\n",
       "      <th>24</th>\n",
       "      <td>20</td>\n",
       "      <td>minkowski</td>\n",
       "      <td>13</td>\n",
       "      <td>uniform</td>\n",
       "      <td>{'leaf_size': 20, 'metric': 'minkowski', 'n_ne...</td>\n",
       "      <td>0.821229</td>\n",
       "      <td>0.782123</td>\n",
       "      <td>0.825843</td>\n",
       "      <td>0.808989</td>\n",
       "      <td>0.819209</td>\n",
       "      <td>0.811448</td>\n",
       "      <td>0.015702</td>\n",
       "      <td>75</td>\n",
       "    </tr>\n",
       "    <tr>\n",
       "      <th>26</th>\n",
       "      <td>20</td>\n",
       "      <td>minkowski</td>\n",
       "      <td>15</td>\n",
       "      <td>uniform</td>\n",
       "      <td>{'leaf_size': 20, 'metric': 'minkowski', 'n_ne...</td>\n",
       "      <td>0.815642</td>\n",
       "      <td>0.770950</td>\n",
       "      <td>0.831461</td>\n",
       "      <td>0.803371</td>\n",
       "      <td>0.819209</td>\n",
       "      <td>0.808081</td>\n",
       "      <td>0.020657</td>\n",
       "      <td>81</td>\n",
       "    </tr>\n",
       "    <tr>\n",
       "      <th>36</th>\n",
       "      <td>20</td>\n",
       "      <td>manhattan</td>\n",
       "      <td>15</td>\n",
       "      <td>uniform</td>\n",
       "      <td>{'leaf_size': 20, 'metric': 'manhattan', 'n_ne...</td>\n",
       "      <td>0.815642</td>\n",
       "      <td>0.770950</td>\n",
       "      <td>0.831461</td>\n",
       "      <td>0.803371</td>\n",
       "      <td>0.819209</td>\n",
       "      <td>0.808081</td>\n",
       "      <td>0.020657</td>\n",
       "      <td>81</td>\n",
       "    </tr>\n",
       "    <tr>\n",
       "      <th>6</th>\n",
       "      <td>10</td>\n",
       "      <td>minkowski</td>\n",
       "      <td>15</td>\n",
       "      <td>uniform</td>\n",
       "      <td>{'leaf_size': 10, 'metric': 'minkowski', 'n_ne...</td>\n",
       "      <td>0.810056</td>\n",
       "      <td>0.770950</td>\n",
       "      <td>0.825843</td>\n",
       "      <td>0.808989</td>\n",
       "      <td>0.819209</td>\n",
       "      <td>0.806958</td>\n",
       "      <td>0.019087</td>\n",
       "      <td>83</td>\n",
       "    </tr>\n",
       "    <tr>\n",
       "      <th>16</th>\n",
       "      <td>10</td>\n",
       "      <td>manhattan</td>\n",
       "      <td>15</td>\n",
       "      <td>uniform</td>\n",
       "      <td>{'leaf_size': 10, 'metric': 'manhattan', 'n_ne...</td>\n",
       "      <td>0.810056</td>\n",
       "      <td>0.770950</td>\n",
       "      <td>0.825843</td>\n",
       "      <td>0.808989</td>\n",
       "      <td>0.819209</td>\n",
       "      <td>0.806958</td>\n",
       "      <td>0.019087</td>\n",
       "      <td>83</td>\n",
       "    </tr>\n",
       "    <tr>\n",
       "      <th>18</th>\n",
       "      <td>10</td>\n",
       "      <td>manhattan</td>\n",
       "      <td>17</td>\n",
       "      <td>uniform</td>\n",
       "      <td>{'leaf_size': 10, 'metric': 'manhattan', 'n_ne...</td>\n",
       "      <td>0.793296</td>\n",
       "      <td>0.776536</td>\n",
       "      <td>0.825843</td>\n",
       "      <td>0.803371</td>\n",
       "      <td>0.819209</td>\n",
       "      <td>0.803591</td>\n",
       "      <td>0.017769</td>\n",
       "      <td>85</td>\n",
       "    </tr>\n",
       "    <tr>\n",
       "      <th>8</th>\n",
       "      <td>10</td>\n",
       "      <td>minkowski</td>\n",
       "      <td>17</td>\n",
       "      <td>uniform</td>\n",
       "      <td>{'leaf_size': 10, 'metric': 'minkowski', 'n_ne...</td>\n",
       "      <td>0.793296</td>\n",
       "      <td>0.776536</td>\n",
       "      <td>0.825843</td>\n",
       "      <td>0.803371</td>\n",
       "      <td>0.819209</td>\n",
       "      <td>0.803591</td>\n",
       "      <td>0.017769</td>\n",
       "      <td>85</td>\n",
       "    </tr>\n",
       "    <tr>\n",
       "      <th>38</th>\n",
       "      <td>20</td>\n",
       "      <td>manhattan</td>\n",
       "      <td>17</td>\n",
       "      <td>uniform</td>\n",
       "      <td>{'leaf_size': 20, 'metric': 'manhattan', 'n_ne...</td>\n",
       "      <td>0.798883</td>\n",
       "      <td>0.776536</td>\n",
       "      <td>0.814607</td>\n",
       "      <td>0.803371</td>\n",
       "      <td>0.819209</td>\n",
       "      <td>0.802469</td>\n",
       "      <td>0.014932</td>\n",
       "      <td>87</td>\n",
       "    </tr>\n",
       "    <tr>\n",
       "      <th>28</th>\n",
       "      <td>20</td>\n",
       "      <td>minkowski</td>\n",
       "      <td>17</td>\n",
       "      <td>uniform</td>\n",
       "      <td>{'leaf_size': 20, 'metric': 'minkowski', 'n_ne...</td>\n",
       "      <td>0.798883</td>\n",
       "      <td>0.776536</td>\n",
       "      <td>0.814607</td>\n",
       "      <td>0.803371</td>\n",
       "      <td>0.819209</td>\n",
       "      <td>0.802469</td>\n",
       "      <td>0.014932</td>\n",
       "      <td>87</td>\n",
       "    </tr>\n",
       "    <tr>\n",
       "      <th>58</th>\n",
       "      <td>30</td>\n",
       "      <td>manhattan</td>\n",
       "      <td>17</td>\n",
       "      <td>uniform</td>\n",
       "      <td>{'leaf_size': 30, 'metric': 'manhattan', 'n_ne...</td>\n",
       "      <td>0.798883</td>\n",
       "      <td>0.765363</td>\n",
       "      <td>0.808989</td>\n",
       "      <td>0.808989</td>\n",
       "      <td>0.813559</td>\n",
       "      <td>0.799102</td>\n",
       "      <td>0.017586</td>\n",
       "      <td>89</td>\n",
       "    </tr>\n",
       "    <tr>\n",
       "      <th>46</th>\n",
       "      <td>30</td>\n",
       "      <td>minkowski</td>\n",
       "      <td>15</td>\n",
       "      <td>uniform</td>\n",
       "      <td>{'leaf_size': 30, 'metric': 'minkowski', 'n_ne...</td>\n",
       "      <td>0.798883</td>\n",
       "      <td>0.748603</td>\n",
       "      <td>0.825843</td>\n",
       "      <td>0.803371</td>\n",
       "      <td>0.819209</td>\n",
       "      <td>0.799102</td>\n",
       "      <td>0.027187</td>\n",
       "      <td>89</td>\n",
       "    </tr>\n",
       "    <tr>\n",
       "      <th>48</th>\n",
       "      <td>30</td>\n",
       "      <td>minkowski</td>\n",
       "      <td>17</td>\n",
       "      <td>uniform</td>\n",
       "      <td>{'leaf_size': 30, 'metric': 'minkowski', 'n_ne...</td>\n",
       "      <td>0.798883</td>\n",
       "      <td>0.765363</td>\n",
       "      <td>0.808989</td>\n",
       "      <td>0.808989</td>\n",
       "      <td>0.813559</td>\n",
       "      <td>0.799102</td>\n",
       "      <td>0.017586</td>\n",
       "      <td>89</td>\n",
       "    </tr>\n",
       "    <tr>\n",
       "      <th>98</th>\n",
       "      <td>50</td>\n",
       "      <td>manhattan</td>\n",
       "      <td>17</td>\n",
       "      <td>uniform</td>\n",
       "      <td>{'leaf_size': 50, 'metric': 'manhattan', 'n_ne...</td>\n",
       "      <td>0.798883</td>\n",
       "      <td>0.765363</td>\n",
       "      <td>0.808989</td>\n",
       "      <td>0.808989</td>\n",
       "      <td>0.813559</td>\n",
       "      <td>0.799102</td>\n",
       "      <td>0.017586</td>\n",
       "      <td>89</td>\n",
       "    </tr>\n",
       "    <tr>\n",
       "      <th>76</th>\n",
       "      <td>40</td>\n",
       "      <td>manhattan</td>\n",
       "      <td>15</td>\n",
       "      <td>uniform</td>\n",
       "      <td>{'leaf_size': 40, 'metric': 'manhattan', 'n_ne...</td>\n",
       "      <td>0.798883</td>\n",
       "      <td>0.748603</td>\n",
       "      <td>0.825843</td>\n",
       "      <td>0.803371</td>\n",
       "      <td>0.819209</td>\n",
       "      <td>0.799102</td>\n",
       "      <td>0.027187</td>\n",
       "      <td>89</td>\n",
       "    </tr>\n",
       "    <tr>\n",
       "      <th>68</th>\n",
       "      <td>40</td>\n",
       "      <td>minkowski</td>\n",
       "      <td>17</td>\n",
       "      <td>uniform</td>\n",
       "      <td>{'leaf_size': 40, 'metric': 'minkowski', 'n_ne...</td>\n",
       "      <td>0.798883</td>\n",
       "      <td>0.765363</td>\n",
       "      <td>0.808989</td>\n",
       "      <td>0.808989</td>\n",
       "      <td>0.813559</td>\n",
       "      <td>0.799102</td>\n",
       "      <td>0.017586</td>\n",
       "      <td>89</td>\n",
       "    </tr>\n",
       "    <tr>\n",
       "      <th>66</th>\n",
       "      <td>40</td>\n",
       "      <td>minkowski</td>\n",
       "      <td>15</td>\n",
       "      <td>uniform</td>\n",
       "      <td>{'leaf_size': 40, 'metric': 'minkowski', 'n_ne...</td>\n",
       "      <td>0.798883</td>\n",
       "      <td>0.748603</td>\n",
       "      <td>0.825843</td>\n",
       "      <td>0.803371</td>\n",
       "      <td>0.819209</td>\n",
       "      <td>0.799102</td>\n",
       "      <td>0.027187</td>\n",
       "      <td>89</td>\n",
       "    </tr>\n",
       "    <tr>\n",
       "      <th>56</th>\n",
       "      <td>30</td>\n",
       "      <td>manhattan</td>\n",
       "      <td>15</td>\n",
       "      <td>uniform</td>\n",
       "      <td>{'leaf_size': 30, 'metric': 'manhattan', 'n_ne...</td>\n",
       "      <td>0.798883</td>\n",
       "      <td>0.748603</td>\n",
       "      <td>0.825843</td>\n",
       "      <td>0.803371</td>\n",
       "      <td>0.819209</td>\n",
       "      <td>0.799102</td>\n",
       "      <td>0.027187</td>\n",
       "      <td>89</td>\n",
       "    </tr>\n",
       "    <tr>\n",
       "      <th>88</th>\n",
       "      <td>50</td>\n",
       "      <td>minkowski</td>\n",
       "      <td>17</td>\n",
       "      <td>uniform</td>\n",
       "      <td>{'leaf_size': 50, 'metric': 'minkowski', 'n_ne...</td>\n",
       "      <td>0.798883</td>\n",
       "      <td>0.765363</td>\n",
       "      <td>0.808989</td>\n",
       "      <td>0.808989</td>\n",
       "      <td>0.813559</td>\n",
       "      <td>0.799102</td>\n",
       "      <td>0.017586</td>\n",
       "      <td>89</td>\n",
       "    </tr>\n",
       "    <tr>\n",
       "      <th>78</th>\n",
       "      <td>40</td>\n",
       "      <td>manhattan</td>\n",
       "      <td>17</td>\n",
       "      <td>uniform</td>\n",
       "      <td>{'leaf_size': 40, 'metric': 'manhattan', 'n_ne...</td>\n",
       "      <td>0.798883</td>\n",
       "      <td>0.765363</td>\n",
       "      <td>0.808989</td>\n",
       "      <td>0.808989</td>\n",
       "      <td>0.813559</td>\n",
       "      <td>0.799102</td>\n",
       "      <td>0.017586</td>\n",
       "      <td>89</td>\n",
       "    </tr>\n",
       "    <tr>\n",
       "      <th>86</th>\n",
       "      <td>50</td>\n",
       "      <td>minkowski</td>\n",
       "      <td>15</td>\n",
       "      <td>uniform</td>\n",
       "      <td>{'leaf_size': 50, 'metric': 'minkowski', 'n_ne...</td>\n",
       "      <td>0.798883</td>\n",
       "      <td>0.748603</td>\n",
       "      <td>0.808989</td>\n",
       "      <td>0.803371</td>\n",
       "      <td>0.819209</td>\n",
       "      <td>0.795735</td>\n",
       "      <td>0.024586</td>\n",
       "      <td>99</td>\n",
       "    </tr>\n",
       "    <tr>\n",
       "      <th>96</th>\n",
       "      <td>50</td>\n",
       "      <td>manhattan</td>\n",
       "      <td>15</td>\n",
       "      <td>uniform</td>\n",
       "      <td>{'leaf_size': 50, 'metric': 'manhattan', 'n_ne...</td>\n",
       "      <td>0.798883</td>\n",
       "      <td>0.748603</td>\n",
       "      <td>0.808989</td>\n",
       "      <td>0.803371</td>\n",
       "      <td>0.819209</td>\n",
       "      <td>0.795735</td>\n",
       "      <td>0.024586</td>\n",
       "      <td>99</td>\n",
       "    </tr>\n",
       "  </tbody>\n",
       "</table>\n",
       "<p>100 rows × 13 columns</p>\n",
       "</div>"
      ],
      "text/plain": [
       "   param_leaf_size param_metric param_n_neighbors param_weights  \\\n",
       "35              20    manhattan                13      distance   \n",
       "95              50    manhattan                13      distance   \n",
       "45              30    minkowski                13      distance   \n",
       "25              20    minkowski                13      distance   \n",
       "55              30    manhattan                13      distance   \n",
       "23              20    minkowski                11      distance   \n",
       "85              50    minkowski                13      distance   \n",
       "65              40    minkowski                13      distance   \n",
       "33              20    manhattan                11      distance   \n",
       "75              40    manhattan                13      distance   \n",
       "41              30    minkowski                 9      distance   \n",
       "51              30    manhattan                 9      distance   \n",
       "61              40    minkowski                 9      distance   \n",
       "15              10    manhattan                13      distance   \n",
       "71              40    manhattan                 9      distance   \n",
       "11              10    manhattan                 9      distance   \n",
       "1               10    minkowski                 9      distance   \n",
       "13              10    manhattan                11      distance   \n",
       "5               10    minkowski                13      distance   \n",
       "3               10    minkowski                11      distance   \n",
       "91              50    manhattan                 9      distance   \n",
       "73              40    manhattan                11      distance   \n",
       "81              50    minkowski                 9      distance   \n",
       "63              40    minkowski                11      distance   \n",
       "83              50    minkowski                11      distance   \n",
       "53              30    manhattan                11      distance   \n",
       "93              50    manhattan                11      distance   \n",
       "43              30    minkowski                11      distance   \n",
       "37              20    manhattan                15      distance   \n",
       "39              20    manhattan                17      distance   \n",
       "..             ...          ...               ...           ...   \n",
       "82              50    minkowski                11       uniform   \n",
       "92              50    manhattan                11       uniform   \n",
       "4               10    minkowski                13       uniform   \n",
       "14              10    manhattan                13       uniform   \n",
       "72              40    manhattan                11       uniform   \n",
       "42              30    minkowski                11       uniform   \n",
       "52              30    manhattan                11       uniform   \n",
       "34              20    manhattan                13       uniform   \n",
       "62              40    minkowski                11       uniform   \n",
       "24              20    minkowski                13       uniform   \n",
       "26              20    minkowski                15       uniform   \n",
       "36              20    manhattan                15       uniform   \n",
       "6               10    minkowski                15       uniform   \n",
       "16              10    manhattan                15       uniform   \n",
       "18              10    manhattan                17       uniform   \n",
       "8               10    minkowski                17       uniform   \n",
       "38              20    manhattan                17       uniform   \n",
       "28              20    minkowski                17       uniform   \n",
       "58              30    manhattan                17       uniform   \n",
       "46              30    minkowski                15       uniform   \n",
       "48              30    minkowski                17       uniform   \n",
       "98              50    manhattan                17       uniform   \n",
       "76              40    manhattan                15       uniform   \n",
       "68              40    minkowski                17       uniform   \n",
       "66              40    minkowski                15       uniform   \n",
       "56              30    manhattan                15       uniform   \n",
       "88              50    minkowski                17       uniform   \n",
       "78              40    manhattan                17       uniform   \n",
       "86              50    minkowski                15       uniform   \n",
       "96              50    manhattan                15       uniform   \n",
       "\n",
       "                                               params  split0_test_score  \\\n",
       "35  {'leaf_size': 20, 'metric': 'manhattan', 'n_ne...           0.837989   \n",
       "95  {'leaf_size': 50, 'metric': 'manhattan', 'n_ne...           0.837989   \n",
       "45  {'leaf_size': 30, 'metric': 'minkowski', 'n_ne...           0.837989   \n",
       "25  {'leaf_size': 20, 'metric': 'minkowski', 'n_ne...           0.837989   \n",
       "55  {'leaf_size': 30, 'metric': 'manhattan', 'n_ne...           0.837989   \n",
       "23  {'leaf_size': 20, 'metric': 'minkowski', 'n_ne...           0.837989   \n",
       "85  {'leaf_size': 50, 'metric': 'minkowski', 'n_ne...           0.837989   \n",
       "65  {'leaf_size': 40, 'metric': 'minkowski', 'n_ne...           0.837989   \n",
       "33  {'leaf_size': 20, 'metric': 'manhattan', 'n_ne...           0.837989   \n",
       "75  {'leaf_size': 40, 'metric': 'manhattan', 'n_ne...           0.837989   \n",
       "41  {'leaf_size': 30, 'metric': 'minkowski', 'n_ne...           0.837989   \n",
       "51  {'leaf_size': 30, 'metric': 'manhattan', 'n_ne...           0.837989   \n",
       "61  {'leaf_size': 40, 'metric': 'minkowski', 'n_ne...           0.837989   \n",
       "15  {'leaf_size': 10, 'metric': 'manhattan', 'n_ne...           0.832402   \n",
       "71  {'leaf_size': 40, 'metric': 'manhattan', 'n_ne...           0.837989   \n",
       "11  {'leaf_size': 10, 'metric': 'manhattan', 'n_ne...           0.832402   \n",
       "1   {'leaf_size': 10, 'metric': 'minkowski', 'n_ne...           0.832402   \n",
       "13  {'leaf_size': 10, 'metric': 'manhattan', 'n_ne...           0.832402   \n",
       "5   {'leaf_size': 10, 'metric': 'minkowski', 'n_ne...           0.832402   \n",
       "3   {'leaf_size': 10, 'metric': 'minkowski', 'n_ne...           0.832402   \n",
       "91  {'leaf_size': 50, 'metric': 'manhattan', 'n_ne...           0.821229   \n",
       "73  {'leaf_size': 40, 'metric': 'manhattan', 'n_ne...           0.837989   \n",
       "81  {'leaf_size': 50, 'metric': 'minkowski', 'n_ne...           0.821229   \n",
       "63  {'leaf_size': 40, 'metric': 'minkowski', 'n_ne...           0.837989   \n",
       "83  {'leaf_size': 50, 'metric': 'minkowski', 'n_ne...           0.837989   \n",
       "53  {'leaf_size': 30, 'metric': 'manhattan', 'n_ne...           0.837989   \n",
       "93  {'leaf_size': 50, 'metric': 'manhattan', 'n_ne...           0.837989   \n",
       "43  {'leaf_size': 30, 'metric': 'minkowski', 'n_ne...           0.837989   \n",
       "37  {'leaf_size': 20, 'metric': 'manhattan', 'n_ne...           0.810056   \n",
       "39  {'leaf_size': 20, 'metric': 'manhattan', 'n_ne...           0.810056   \n",
       "..                                                ...                ...   \n",
       "82  {'leaf_size': 50, 'metric': 'minkowski', 'n_ne...           0.837989   \n",
       "92  {'leaf_size': 50, 'metric': 'manhattan', 'n_ne...           0.837989   \n",
       "4   {'leaf_size': 10, 'metric': 'minkowski', 'n_ne...           0.832402   \n",
       "14  {'leaf_size': 10, 'metric': 'manhattan', 'n_ne...           0.832402   \n",
       "72  {'leaf_size': 40, 'metric': 'manhattan', 'n_ne...           0.837989   \n",
       "42  {'leaf_size': 30, 'metric': 'minkowski', 'n_ne...           0.837989   \n",
       "52  {'leaf_size': 30, 'metric': 'manhattan', 'n_ne...           0.837989   \n",
       "34  {'leaf_size': 20, 'metric': 'manhattan', 'n_ne...           0.821229   \n",
       "62  {'leaf_size': 40, 'metric': 'minkowski', 'n_ne...           0.837989   \n",
       "24  {'leaf_size': 20, 'metric': 'minkowski', 'n_ne...           0.821229   \n",
       "26  {'leaf_size': 20, 'metric': 'minkowski', 'n_ne...           0.815642   \n",
       "36  {'leaf_size': 20, 'metric': 'manhattan', 'n_ne...           0.815642   \n",
       "6   {'leaf_size': 10, 'metric': 'minkowski', 'n_ne...           0.810056   \n",
       "16  {'leaf_size': 10, 'metric': 'manhattan', 'n_ne...           0.810056   \n",
       "18  {'leaf_size': 10, 'metric': 'manhattan', 'n_ne...           0.793296   \n",
       "8   {'leaf_size': 10, 'metric': 'minkowski', 'n_ne...           0.793296   \n",
       "38  {'leaf_size': 20, 'metric': 'manhattan', 'n_ne...           0.798883   \n",
       "28  {'leaf_size': 20, 'metric': 'minkowski', 'n_ne...           0.798883   \n",
       "58  {'leaf_size': 30, 'metric': 'manhattan', 'n_ne...           0.798883   \n",
       "46  {'leaf_size': 30, 'metric': 'minkowski', 'n_ne...           0.798883   \n",
       "48  {'leaf_size': 30, 'metric': 'minkowski', 'n_ne...           0.798883   \n",
       "98  {'leaf_size': 50, 'metric': 'manhattan', 'n_ne...           0.798883   \n",
       "76  {'leaf_size': 40, 'metric': 'manhattan', 'n_ne...           0.798883   \n",
       "68  {'leaf_size': 40, 'metric': 'minkowski', 'n_ne...           0.798883   \n",
       "66  {'leaf_size': 40, 'metric': 'minkowski', 'n_ne...           0.798883   \n",
       "56  {'leaf_size': 30, 'metric': 'manhattan', 'n_ne...           0.798883   \n",
       "88  {'leaf_size': 50, 'metric': 'minkowski', 'n_ne...           0.798883   \n",
       "78  {'leaf_size': 40, 'metric': 'manhattan', 'n_ne...           0.798883   \n",
       "86  {'leaf_size': 50, 'metric': 'minkowski', 'n_ne...           0.798883   \n",
       "96  {'leaf_size': 50, 'metric': 'manhattan', 'n_ne...           0.798883   \n",
       "\n",
       "    split1_test_score  split2_test_score  split3_test_score  \\\n",
       "35           0.787709           0.837079           0.808989   \n",
       "95           0.787709           0.837079           0.808989   \n",
       "45           0.787709           0.837079           0.808989   \n",
       "25           0.787709           0.837079           0.808989   \n",
       "55           0.787709           0.837079           0.808989   \n",
       "23           0.787709           0.837079           0.808989   \n",
       "85           0.787709           0.837079           0.808989   \n",
       "65           0.787709           0.837079           0.808989   \n",
       "33           0.787709           0.837079           0.808989   \n",
       "75           0.787709           0.837079           0.808989   \n",
       "41           0.782123           0.837079           0.808989   \n",
       "51           0.782123           0.837079           0.808989   \n",
       "61           0.782123           0.837079           0.808989   \n",
       "15           0.787709           0.837079           0.808989   \n",
       "71           0.782123           0.837079           0.808989   \n",
       "11           0.787709           0.837079           0.808989   \n",
       "1            0.787709           0.837079           0.808989   \n",
       "13           0.787709           0.837079           0.808989   \n",
       "5            0.787709           0.837079           0.808989   \n",
       "3            0.787709           0.837079           0.808989   \n",
       "91           0.782123           0.837079           0.808989   \n",
       "73           0.765363           0.837079           0.808989   \n",
       "81           0.782123           0.837079           0.808989   \n",
       "63           0.765363           0.837079           0.808989   \n",
       "83           0.765363           0.837079           0.808989   \n",
       "53           0.765363           0.837079           0.808989   \n",
       "93           0.765363           0.837079           0.808989   \n",
       "43           0.765363           0.837079           0.808989   \n",
       "37           0.787709           0.837079           0.808989   \n",
       "39           0.787709           0.837079           0.808989   \n",
       "..                ...                ...                ...   \n",
       "82           0.759777           0.825843           0.808989   \n",
       "92           0.759777           0.825843           0.808989   \n",
       "4            0.782123           0.820225           0.808989   \n",
       "14           0.782123           0.820225           0.808989   \n",
       "72           0.748603           0.825843           0.808989   \n",
       "42           0.748603           0.825843           0.808989   \n",
       "52           0.748603           0.825843           0.808989   \n",
       "34           0.782123           0.825843           0.808989   \n",
       "62           0.748603           0.825843           0.808989   \n",
       "24           0.782123           0.825843           0.808989   \n",
       "26           0.770950           0.831461           0.803371   \n",
       "36           0.770950           0.831461           0.803371   \n",
       "6            0.770950           0.825843           0.808989   \n",
       "16           0.770950           0.825843           0.808989   \n",
       "18           0.776536           0.825843           0.803371   \n",
       "8            0.776536           0.825843           0.803371   \n",
       "38           0.776536           0.814607           0.803371   \n",
       "28           0.776536           0.814607           0.803371   \n",
       "58           0.765363           0.808989           0.808989   \n",
       "46           0.748603           0.825843           0.803371   \n",
       "48           0.765363           0.808989           0.808989   \n",
       "98           0.765363           0.808989           0.808989   \n",
       "76           0.748603           0.825843           0.803371   \n",
       "68           0.765363           0.808989           0.808989   \n",
       "66           0.748603           0.825843           0.803371   \n",
       "56           0.748603           0.825843           0.803371   \n",
       "88           0.765363           0.808989           0.808989   \n",
       "78           0.765363           0.808989           0.808989   \n",
       "86           0.748603           0.808989           0.803371   \n",
       "96           0.748603           0.808989           0.803371   \n",
       "\n",
       "    split4_test_score  mean_test_score  std_test_score  rank_test_score  \n",
       "35           0.864407         0.827160        0.026409                1  \n",
       "95           0.864407         0.827160        0.026409                1  \n",
       "45           0.864407         0.827160        0.026409                1  \n",
       "25           0.864407         0.827160        0.026409                1  \n",
       "55           0.864407         0.827160        0.026409                1  \n",
       "23           0.864407         0.827160        0.026409                1  \n",
       "85           0.864407         0.827160        0.026409                1  \n",
       "65           0.864407         0.827160        0.026409                1  \n",
       "33           0.864407         0.827160        0.026409                1  \n",
       "75           0.864407         0.827160        0.026409                1  \n",
       "41           0.864407         0.826038        0.028125               11  \n",
       "51           0.864407         0.826038        0.028125               11  \n",
       "61           0.864407         0.826038        0.028125               11  \n",
       "15           0.864407         0.826038        0.026041               11  \n",
       "71           0.864407         0.826038        0.028125               11  \n",
       "11           0.864407         0.826038        0.026041               11  \n",
       "1            0.864407         0.826038        0.026041               11  \n",
       "13           0.864407         0.826038        0.026041               11  \n",
       "5            0.864407         0.826038        0.026041               11  \n",
       "3            0.864407         0.826038        0.026041               11  \n",
       "91           0.864407         0.822671        0.027489               21  \n",
       "73           0.864407         0.822671        0.033643               21  \n",
       "81           0.864407         0.822671        0.027489               21  \n",
       "63           0.864407         0.822671        0.033643               21  \n",
       "83           0.864407         0.822671        0.033643               21  \n",
       "53           0.864407         0.822671        0.033643               21  \n",
       "93           0.864407         0.822671        0.033643               21  \n",
       "43           0.864407         0.822671        0.033643               21  \n",
       "37           0.864407         0.821549        0.026480               29  \n",
       "39           0.864407         0.821549        0.026480               29  \n",
       "..                ...              ...             ...              ...  \n",
       "82           0.836158         0.813692        0.028927               71  \n",
       "92           0.836158         0.813692        0.028927               71  \n",
       "4            0.819209         0.812570        0.016979               73  \n",
       "14           0.819209         0.812570        0.016979               73  \n",
       "72           0.836158         0.811448        0.033149               75  \n",
       "42           0.836158         0.811448        0.033149               75  \n",
       "52           0.836158         0.811448        0.033149               75  \n",
       "34           0.819209         0.811448        0.015702               75  \n",
       "62           0.836158         0.811448        0.033149               75  \n",
       "24           0.819209         0.811448        0.015702               75  \n",
       "26           0.819209         0.808081        0.020657               81  \n",
       "36           0.819209         0.808081        0.020657               81  \n",
       "6            0.819209         0.806958        0.019087               83  \n",
       "16           0.819209         0.806958        0.019087               83  \n",
       "18           0.819209         0.803591        0.017769               85  \n",
       "8            0.819209         0.803591        0.017769               85  \n",
       "38           0.819209         0.802469        0.014932               87  \n",
       "28           0.819209         0.802469        0.014932               87  \n",
       "58           0.813559         0.799102        0.017586               89  \n",
       "46           0.819209         0.799102        0.027187               89  \n",
       "48           0.813559         0.799102        0.017586               89  \n",
       "98           0.813559         0.799102        0.017586               89  \n",
       "76           0.819209         0.799102        0.027187               89  \n",
       "68           0.813559         0.799102        0.017586               89  \n",
       "66           0.819209         0.799102        0.027187               89  \n",
       "56           0.819209         0.799102        0.027187               89  \n",
       "88           0.813559         0.799102        0.017586               89  \n",
       "78           0.813559         0.799102        0.017586               89  \n",
       "86           0.819209         0.795735        0.024586               99  \n",
       "96           0.819209         0.795735        0.024586               99  \n",
       "\n",
       "[100 rows x 13 columns]"
      ]
     },
     "execution_count": 89,
     "metadata": {},
     "output_type": "execute_result"
    }
   ],
   "source": [
    "results = pd.DataFrame(grid_knn.cv_results_)\n",
    "results.iloc[:,4:].sort_values('rank_test_score')"
   ]
  },
  {
   "cell_type": "code",
   "execution_count": 90,
   "metadata": {},
   "outputs": [
    {
     "data": {
      "text/plain": [
       "{'leaf_size': 20,\n",
       " 'metric': 'minkowski',\n",
       " 'n_neighbors': 11,\n",
       " 'weights': 'distance'}"
      ]
     },
     "execution_count": 90,
     "metadata": {},
     "output_type": "execute_result"
    }
   ],
   "source": [
    "knn_best_param = grid_knn.best_params_\n",
    "knn_best_param"
   ]
  },
  {
   "cell_type": "code",
   "execution_count": 91,
   "metadata": {},
   "outputs": [
    {
     "data": {
      "text/plain": [
       "KNeighborsClassifier(algorithm='auto', leaf_size=20, metric='minkowski',\n",
       "                     metric_params=None, n_jobs=None, n_neighbors=11, p=2,\n",
       "                     weights='distance')"
      ]
     },
     "execution_count": 91,
     "metadata": {},
     "output_type": "execute_result"
    }
   ],
   "source": [
    "grid_knn.best_estimator_"
   ]
  },
  {
   "cell_type": "code",
   "execution_count": 92,
   "metadata": {},
   "outputs": [
    {
     "name": "stdout",
     "output_type": "stream",
     "text": [
      "[0.83798883 0.7877095  0.83707865 0.80898876 0.86440678]\n",
      "Mean (knn): 0.8272345038827401\n",
      "SD (knn): 0.02641769849631551\n"
     ]
    }
   ],
   "source": [
    "scores_knn = cross_val_score(grid_knn.best_estimator_, X_1, y, cv=cv_splitter, n_jobs=-1)\n",
    "print(scores_knn)\n",
    "print('Mean (knn): '+str(scores_knn.mean()))\n",
    "print('SD (knn): '+str(scores_knn.std()))"
   ]
  },
  {
   "cell_type": "markdown",
   "metadata": {},
   "source": [
    "### 7. Compare Results of the above 5 Models"
   ]
  },
  {
   "cell_type": "code",
   "execution_count": 135,
   "metadata": {},
   "outputs": [],
   "source": [
    "cross_val_results = pd.Series([scores_logis, scores_random, scores_gradient, \n",
    "                       scores_xgb, scores_mnb, scores_knn], \n",
    "            index=['Logistic', 'Random Forrest', 'Gradirnt Boost', 'XGBoost', 'MN Bayes', 'Knn'])"
   ]
  },
  {
   "cell_type": "code",
   "execution_count": 146,
   "metadata": {},
   "outputs": [
    {
     "data": {
      "text/plain": [
       "Text(0.5,0.98,'Mean of Cross-Validation Scores')"
      ]
     },
     "execution_count": 146,
     "metadata": {},
     "output_type": "execute_result"
    },
    {
     "data": {
      "image/png": "[encoded data removed]",
      "text/plain": [
       "<matplotlib.figure.Figure at 0x175d4da5da0>"
      ]
     },
     "metadata": {},
     "output_type": "display_data"
    }
   ],
   "source": [
    "fig, ax = plt.subplots(figsize=(8, 5))\n",
    "sns.barplot(x=cross_val_results.index, y=cross_val_results.apply(np.mean))\n",
    "ax.set_ylim(0.77, 0.85)\n",
    "ax.set_yticks(np.arange(0.77, 0.85, step=0.01))\n",
    "fig.suptitle('Mean of Cross-Validation Scores')"
   ]
  },
  {
   "cell_type": "code",
   "execution_count": 143,
   "metadata": {},
   "outputs": [
    {
     "data": {
      "text/plain": [
       "Text(0.5,0.98,'Standard Deviation of Cross-Validation Scores')"
      ]
     },
     "execution_count": 143,
     "metadata": {},
     "output_type": "execute_result"
    },
    {
     "data": {
      "image/png": "[encoded data removed]",
      "text/plain": [
       "<matplotlib.figure.Figure at 0x175d4ca2b70>"
      ]
     },
     "metadata": {},
     "output_type": "display_data"
    }
   ],
   "source": [
    "fig, ax = plt.subplots(figsize=(8, 5))\n",
    "sns.barplot(x=cross_val_results.index, y=cross_val_results.apply(np.std))\n",
    "ax.set_ylim(0.01, 0.06)\n",
    "ax.set_yticks(np.arange(0.01, 0.06, step=0.005))\n",
    "fig.suptitle('Standard Deviation of Cross-Validation Scores')"
   ]
  },
  {
   "cell_type": "markdown",
   "metadata": {},
   "source": [
    "### 8. Seventh Model: Stackiing\n",
    "#### (1) In stacking, kFold cross-validated predictions of 1st-level models are used as input (where the 1st-level models become the new features) for training by a 2nd-level model. \n",
    "#### (2) Cross-validated 1st-level models are also used to predict (not train) on the test data set and the outcome (with 1st-level models as the new features) are used as input to the final prediction by the 2nd-level model.   \n",
    "#### (3) Some discussions and code can be found at https://www.kaggle.com/arthurtok/introduction-to-ensembling-stacking-in-python, https://www.kdnuggets.com/2017/02/stacking-models-imropved-predictions.html."
   ]
  },
  {
   "cell_type": "markdown",
   "metadata": {},
   "source": [
    "#### 1. First test data need to be processed and encoded in the same way as train data (Cross-validated 1st-level models will predict (not train) on the data and the outcome becomes input to the final prediction of the 2nd-level model).    "
   ]
  },
  {
   "cell_type": "code",
   "execution_count": 93,
   "metadata": {},
   "outputs": [
    {
     "data": {
      "text/html": [
       "<div>\n",
       "<style scoped>\n",
       "    .dataframe tbody tr th:only-of-type {\n",
       "        vertical-align: middle;\n",
       "    }\n",
       "\n",
       "    .dataframe tbody tr th {\n",
       "        vertical-align: top;\n",
       "    }\n",
       "\n",
       "    .dataframe thead th {\n",
       "        text-align: right;\n",
       "    }\n",
       "</style>\n",
       "<table border=\"1\" class=\"dataframe\">\n",
       "  <thead>\n",
       "    <tr style=\"text-align: right;\">\n",
       "      <th></th>\n",
       "      <th>PassengerId</th>\n",
       "      <th>Pclass</th>\n",
       "      <th>Name</th>\n",
       "      <th>Sex</th>\n",
       "      <th>Age</th>\n",
       "      <th>SibSp</th>\n",
       "      <th>Parch</th>\n",
       "      <th>Ticket</th>\n",
       "      <th>Fare</th>\n",
       "      <th>Cabin</th>\n",
       "      <th>Embarked</th>\n",
       "    </tr>\n",
       "  </thead>\n",
       "  <tbody>\n",
       "    <tr>\n",
       "      <th>0</th>\n",
       "      <td>892</td>\n",
       "      <td>3</td>\n",
       "      <td>Kelly, Mr. James</td>\n",
       "      <td>male</td>\n",
       "      <td>34.5</td>\n",
       "      <td>0</td>\n",
       "      <td>0</td>\n",
       "      <td>330911</td>\n",
       "      <td>7.8292</td>\n",
       "      <td>NaN</td>\n",
       "      <td>Q</td>\n",
       "    </tr>\n",
       "    <tr>\n",
       "      <th>1</th>\n",
       "      <td>893</td>\n",
       "      <td>3</td>\n",
       "      <td>Wilkes, Mrs. James (Ellen Needs)</td>\n",
       "      <td>female</td>\n",
       "      <td>47.0</td>\n",
       "      <td>1</td>\n",
       "      <td>0</td>\n",
       "      <td>363272</td>\n",
       "      <td>7.0000</td>\n",
       "      <td>NaN</td>\n",
       "      <td>S</td>\n",
       "    </tr>\n",
       "    <tr>\n",
       "      <th>2</th>\n",
       "      <td>894</td>\n",
       "      <td>2</td>\n",
       "      <td>Myles, Mr. Thomas Francis</td>\n",
       "      <td>male</td>\n",
       "      <td>62.0</td>\n",
       "      <td>0</td>\n",
       "      <td>0</td>\n",
       "      <td>240276</td>\n",
       "      <td>9.6875</td>\n",
       "      <td>NaN</td>\n",
       "      <td>Q</td>\n",
       "    </tr>\n",
       "    <tr>\n",
       "      <th>3</th>\n",
       "      <td>895</td>\n",
       "      <td>3</td>\n",
       "      <td>Wirz, Mr. Albert</td>\n",
       "      <td>male</td>\n",
       "      <td>27.0</td>\n",
       "      <td>0</td>\n",
       "      <td>0</td>\n",
       "      <td>315154</td>\n",
       "      <td>8.6625</td>\n",
       "      <td>NaN</td>\n",
       "      <td>S</td>\n",
       "    </tr>\n",
       "    <tr>\n",
       "      <th>4</th>\n",
       "      <td>896</td>\n",
       "      <td>3</td>\n",
       "      <td>Hirvonen, Mrs. Alexander (Helga E Lindqvist)</td>\n",
       "      <td>female</td>\n",
       "      <td>22.0</td>\n",
       "      <td>1</td>\n",
       "      <td>1</td>\n",
       "      <td>3101298</td>\n",
       "      <td>12.2875</td>\n",
       "      <td>NaN</td>\n",
       "      <td>S</td>\n",
       "    </tr>\n",
       "  </tbody>\n",
       "</table>\n",
       "</div>"
      ],
      "text/plain": [
       "   PassengerId  Pclass                                          Name     Sex  \\\n",
       "0          892       3                              Kelly, Mr. James    male   \n",
       "1          893       3              Wilkes, Mrs. James (Ellen Needs)  female   \n",
       "2          894       2                     Myles, Mr. Thomas Francis    male   \n",
       "3          895       3                              Wirz, Mr. Albert    male   \n",
       "4          896       3  Hirvonen, Mrs. Alexander (Helga E Lindqvist)  female   \n",
       "\n",
       "    Age  SibSp  Parch   Ticket     Fare Cabin Embarked  \n",
       "0  34.5      0      0   330911   7.8292   NaN        Q  \n",
       "1  47.0      1      0   363272   7.0000   NaN        S  \n",
       "2  62.0      0      0   240276   9.6875   NaN        Q  \n",
       "3  27.0      0      0   315154   8.6625   NaN        S  \n",
       "4  22.0      1      1  3101298  12.2875   NaN        S  "
      ]
     },
     "execution_count": 93,
     "metadata": {},
     "output_type": "execute_result"
    }
   ],
   "source": [
    "data_test = pd.read_csv('test.csv')\n",
    "passenger_id = data_test['PassengerId']\n",
    "num_row_test = data_test.shape[0]\n",
    "data_test.head()"
   ]
  },
  {
   "cell_type": "code",
   "execution_count": 94,
   "metadata": {},
   "outputs": [
    {
     "name": "stdout",
     "output_type": "stream",
     "text": [
      "<class 'pandas.core.frame.DataFrame'>\n",
      "RangeIndex: 418 entries, 0 to 417\n",
      "Data columns (total 11 columns):\n",
      "PassengerId    418 non-null int64\n",
      "Pclass         418 non-null int64\n",
      "Name           418 non-null object\n",
      "Sex            418 non-null object\n",
      "Age            332 non-null float64\n",
      "SibSp          418 non-null int64\n",
      "Parch          418 non-null int64\n",
      "Ticket         418 non-null object\n",
      "Fare           417 non-null float64\n",
      "Cabin          91 non-null object\n",
      "Embarked       418 non-null object\n",
      "dtypes: float64(2), int64(4), object(5)\n",
      "memory usage: 36.0+ KB\n"
     ]
    }
   ],
   "source": [
    "data_test.info()"
   ]
  },
  {
   "cell_type": "code",
   "execution_count": 95,
   "metadata": {},
   "outputs": [
    {
     "data": {
      "text/html": [
       "<div>\n",
       "<style scoped>\n",
       "    .dataframe tbody tr th:only-of-type {\n",
       "        vertical-align: middle;\n",
       "    }\n",
       "\n",
       "    .dataframe tbody tr th {\n",
       "        vertical-align: top;\n",
       "    }\n",
       "\n",
       "    .dataframe thead th {\n",
       "        text-align: right;\n",
       "    }\n",
       "</style>\n",
       "<table border=\"1\" class=\"dataframe\">\n",
       "  <thead>\n",
       "    <tr style=\"text-align: right;\">\n",
       "      <th></th>\n",
       "      <th>Pclass</th>\n",
       "      <th>Sex</th>\n",
       "      <th>Fare</th>\n",
       "      <th>SibSp_Parch</th>\n",
       "      <th>Name_Master</th>\n",
       "      <th>Fem_Hfare_Pcl3</th>\n",
       "    </tr>\n",
       "  </thead>\n",
       "  <tbody>\n",
       "    <tr>\n",
       "      <th>0</th>\n",
       "      <td>3</td>\n",
       "      <td>male</td>\n",
       "      <td>10.5_below</td>\n",
       "      <td>0</td>\n",
       "      <td>No</td>\n",
       "      <td>No</td>\n",
       "    </tr>\n",
       "    <tr>\n",
       "      <th>1</th>\n",
       "      <td>3</td>\n",
       "      <td>female</td>\n",
       "      <td>10.5_below</td>\n",
       "      <td>4_below</td>\n",
       "      <td>No</td>\n",
       "      <td>No</td>\n",
       "    </tr>\n",
       "    <tr>\n",
       "      <th>2</th>\n",
       "      <td>2</td>\n",
       "      <td>male</td>\n",
       "      <td>10.5_below</td>\n",
       "      <td>0</td>\n",
       "      <td>No</td>\n",
       "      <td>No</td>\n",
       "    </tr>\n",
       "    <tr>\n",
       "      <th>3</th>\n",
       "      <td>3</td>\n",
       "      <td>male</td>\n",
       "      <td>10.5_below</td>\n",
       "      <td>0</td>\n",
       "      <td>No</td>\n",
       "      <td>No</td>\n",
       "    </tr>\n",
       "    <tr>\n",
       "      <th>4</th>\n",
       "      <td>3</td>\n",
       "      <td>female</td>\n",
       "      <td>10.5_to_75</td>\n",
       "      <td>4_below</td>\n",
       "      <td>No</td>\n",
       "      <td>No</td>\n",
       "    </tr>\n",
       "  </tbody>\n",
       "</table>\n",
       "</div>"
      ],
      "text/plain": [
       "   Pclass     Sex        Fare SibSp_Parch Name_Master Fem_Hfare_Pcl3\n",
       "0       3    male  10.5_below           0          No             No\n",
       "1       3  female  10.5_below     4_below          No             No\n",
       "2       2    male  10.5_below           0          No             No\n",
       "3       3    male  10.5_below           0          No             No\n",
       "4       3  female  10.5_to_75     4_below          No             No"
      ]
     },
     "execution_count": 95,
     "metadata": {},
     "output_type": "execute_result"
    }
   ],
   "source": [
    "data_transform(data_test)\n",
    "data_test.head()"
   ]
  },
  {
   "cell_type": "code",
   "execution_count": 96,
   "metadata": {},
   "outputs": [
    {
     "data": {
      "text/plain": [
       "[array([0., 0., 1., 0., 1., 1., 0., 0., 1., 0., 0., 1., 0., 1., 0.]),\n",
       " array([0., 0., 1., 1., 0., 1., 0., 0., 0., 0., 1., 1., 0., 1., 0.]),\n",
       " array([0., 1., 0., 0., 1., 1., 0., 0., 1., 0., 0., 1., 0., 1., 0.]),\n",
       " array([0., 0., 1., 0., 1., 1., 0., 0., 1., 0., 0., 1., 0., 1., 0.]),\n",
       " array([0., 0., 1., 1., 0., 0., 1., 0., 0., 0., 1., 1., 0., 1., 0.])]"
      ]
     },
     "execution_count": 96,
     "metadata": {},
     "output_type": "execute_result"
    }
   ],
   "source": [
    "X_test = ohe.transform(data_test).toarray()\n",
    "list(X_test)[:5]"
   ]
  },
  {
   "cell_type": "markdown",
   "metadata": {},
   "source": [
    "#### 2. Define 1st-level models (using the optimal hyperparameters previously) "
   ]
  },
  {
   "cell_type": "code",
   "execution_count": 97,
   "metadata": {},
   "outputs": [
    {
     "data": {
      "text/plain": [
       "LogisticRegression(C=0.33233042062267915, class_weight=None, dual=False,\n",
       "                   fit_intercept=True, intercept_scaling=1, l1_ratio=None,\n",
       "                   max_iter=100, multi_class='warn', n_jobs=None, penalty='l2',\n",
       "                   random_state=42, solver='liblinear', tol=0.0001, verbose=0,\n",
       "                   warm_start=False)"
      ]
     },
     "execution_count": 97,
     "metadata": {},
     "output_type": "execute_result"
    }
   ],
   "source": [
    "logis = LogisticRegression(solver='liblinear', random_state=42)\n",
    "logis.set_params(**logis_best_param)"
   ]
  },
  {
   "cell_type": "code",
   "execution_count": 98,
   "metadata": {},
   "outputs": [
    {
     "data": {
      "text/plain": [
       "RandomForestClassifier(bootstrap=False, class_weight=None, criterion='gini',\n",
       "                       max_depth=None, max_features=3, max_leaf_nodes=None,\n",
       "                       min_impurity_decrease=0.0, min_impurity_split=None,\n",
       "                       min_samples_leaf=1, min_samples_split=4,\n",
       "                       min_weight_fraction_leaf=0.0, n_estimators=655,\n",
       "                       n_jobs=None, oob_score=False, random_state=42, verbose=0,\n",
       "                       warm_start=False)"
      ]
     },
     "execution_count": 98,
     "metadata": {},
     "output_type": "execute_result"
    }
   ],
   "source": [
    "rf = RandomForestClassifier(random_state=42)\n",
    "rf.set_params(**random_forest_best_param)"
   ]
  },
  {
   "cell_type": "code",
   "execution_count": 99,
   "metadata": {},
   "outputs": [
    {
     "data": {
      "text/plain": [
       "GradientBoostingClassifier(criterion='friedman_mse', init=None,\n",
       "                           learning_rate=0.002, loss='deviance', max_depth=3,\n",
       "                           max_features=3, max_leaf_nodes=None,\n",
       "                           min_impurity_decrease=0.0, min_impurity_split=None,\n",
       "                           min_samples_leaf=1, min_samples_split=2,\n",
       "                           min_weight_fraction_leaf=0.0, n_estimators=2500,\n",
       "                           n_iter_no_change=None, presort='auto',\n",
       "                           random_state=42, subsample=0.6, tol=0.0001,\n",
       "                           validation_fraction=0.1, verbose=0,\n",
       "                           warm_start=False)"
      ]
     },
     "execution_count": 99,
     "metadata": {},
     "output_type": "execute_result"
    }
   ],
   "source": [
    "gb = GradientBoostingClassifier(random_state=42)\n",
    "gb.set_params(**gradient_best_param)"
   ]
  },
  {
   "cell_type": "code",
   "execution_count": 100,
   "metadata": {},
   "outputs": [
    {
     "data": {
      "text/plain": [
       "XGBClassifier(base_score=0.5, booster='gbtree', colsample_bylevel=1,\n",
       "              colsample_bynode=1, colsample_bytree=0.7,\n",
       "              gamma=0.009919628225944364, learning_rate=0.01, max_delta_step=0,\n",
       "              max_depth=3, min_child_weight=1, missing=None, n_estimators=12,\n",
       "              n_jobs=-1, nthread=None, objective='binary:logistic',\n",
       "              random_state=42, reg_alpha=0.0, reg_lambda=1, scale_pos_weight=1,\n",
       "              seed=None, silent=None, subsample=0.7999999999999999,\n",
       "              verbosity=1)"
      ]
     },
     "execution_count": 100,
     "metadata": {},
     "output_type": "execute_result"
    }
   ],
   "source": [
    "xgb = XGBClassifier(learning_rate=0.01, n_jobs=-1, random_state=42)\n",
    "xgb.set_params(**xgb_best_param)"
   ]
  },
  {
   "cell_type": "code",
   "execution_count": 101,
   "metadata": {},
   "outputs": [
    {
     "data": {
      "text/plain": [
       "MultinomialNB(alpha=0.1, class_prior=None, fit_prior=True)"
      ]
     },
     "execution_count": 101,
     "metadata": {},
     "output_type": "execute_result"
    }
   ],
   "source": [
    "mnb = MultinomialNB()\n",
    "mnb.set_params(**mnb_best_param)"
   ]
  },
  {
   "cell_type": "code",
   "execution_count": 102,
   "metadata": {},
   "outputs": [
    {
     "data": {
      "text/plain": [
       "KNeighborsClassifier(algorithm='auto', leaf_size=20, metric='minkowski',\n",
       "                     metric_params=None, n_jobs=None, n_neighbors=11, p=2,\n",
       "                     weights='distance')"
      ]
     },
     "execution_count": 102,
     "metadata": {},
     "output_type": "execute_result"
    }
   ],
   "source": [
    "knn = KNeighborsClassifier()\n",
    "knn.set_params(**knn_best_param)"
   ]
  },
  {
   "cell_type": "markdown",
   "metadata": {},
   "source": [
    "#### 3. Prepare 2nd-level training and test data"
   ]
  },
  {
   "cell_type": "code",
   "execution_count": 103,
   "metadata": {},
   "outputs": [],
   "source": [
    "folds = 5\n",
    "skf = StratifiedKFold(n_splits=folds, random_state=42)"
   ]
  },
  {
   "cell_type": "code",
   "execution_count": 104,
   "metadata": {},
   "outputs": [],
   "source": [
    "def get_oof(clf_, X_1_, y_, X_test_, folds_):\n",
    "    \"\"\" Obtain out-of-fold predictions of a model on train and test data sets. \n",
    "    \n",
    "    Parameters:\n",
    "    ----------\n",
    "    clf_: sklearn classifier\n",
    "            a 1st-level model\n",
    "    X_1_: numpy array\n",
    "            train data with shape (891, 15)\n",
    "    y_: pandas series\n",
    "            train data labels with a shape (891,)\n",
    "    X_test_: numpy array\n",
    "            test data with shape (418, 15)\n",
    "    folds: int\n",
    "            number of folds in stratified K-fold cross validator\n",
    "    \n",
    "    Returns:\n",
    "    --------\n",
    "    X_train_oof: numpy array\n",
    "            2nd-level train data: out-of-fold predictions of clf_ with shape (891,)\n",
    "    X_test_oof: numpy array\n",
    "            2nd-level test data: mean of out-of-fold predictions of clf_ on test data with \n",
    "            shape (418,)\n",
    "    \"\"\"\n",
    "\n",
    "    X_train_oof = np.zeros((X_1_.shape[0],))    # 2nd-level train data with shape (891,)\n",
    "    X_test_oof = np.zeros((X_test_.shape[0],))  # 2nd-level test data with shape (418,)\n",
    "    X_test_oof_folds = np.zeros((folds_, X_test_.shape[0]))  \n",
    "    # with shape (5, 418), a temporary array holding out-of-fold predictions of clf_ on test data \n",
    "\n",
    "    for i, (train_index, valid_index) in enumerate(skf.split(X_1_, y_)):  \n",
    "        # i: out-of-fold group index (e.g. 0)\n",
    "        # train_index: numpy array holding all train X_1_ and y_ row indices (e.g. from 179-890) \n",
    "        # valid_index: numpy array holding all valid X_1_ and y_ row indices (e.g. from 1-178)\n",
    "\n",
    "        X_train_folds = X_1_[train_index]        # select data for train folds\n",
    "        y_train_folds = y_[train_index]          # select labels for train folds \n",
    "        clf_.fit(X_train_folds, y_train_folds)   # train clf_ on train folds\n",
    "        \n",
    "        X_train_valid_fold = X_1_[valid_index]   # select data for valid (out-of-fold) fold\n",
    "        X_train_oof[valid_index] = clf_.predict(X_train_valid_fold)  \n",
    "        # clf_ predicts on valid fold and save to 2nd-level train data\n",
    "\n",
    "        X_test_oof_folds[i, :] = clf_.predict(X_test_)\n",
    "        # clf_ predicts on the entire set of test data and save the results to the i-th row in the\n",
    "        # temporary array X_test_oof_folds\n",
    "\n",
    "    X_test_oof = X_test_oof_folds.mean(axis=0)  \n",
    "    # calculate the mean of out-of-fold predcitons by collapsing in the 0-th axid (with 5 rows) \n",
    "    \n",
    "    return X_train_oof, X_test_oof"
   ]
  },
  {
   "cell_type": "code",
   "execution_count": 105,
   "metadata": {},
   "outputs": [],
   "source": [
    "# construct 2nd-level train and test data\n",
    "clfs = [logis, rf, gb, xgb, mnb, knn]\n",
    "X_train_oof_final = np.zeros((X_1.shape[0], len(clfs)))       # with shape (891, 5)\n",
    "X_test_oof_final = np.zeros((X_test.shape[0], len(clfs)))     # with shape (418, 5)\n",
    "\n",
    "for i, clf in enumerate(clfs):\n",
    "    clf_train_off, clf_test_off = get_oof(clf, X_1, y, X_test, folds)\n",
    "    X_train_oof_final[:, i] = clf_train_off\n",
    "    X_test_oof_final[:, i] = clf_test_off"
   ]
  },
  {
   "cell_type": "code",
   "execution_count": 106,
   "metadata": {},
   "outputs": [
    {
     "data": {
      "text/plain": [
       "(891, 6)"
      ]
     },
     "execution_count": 106,
     "metadata": {},
     "output_type": "execute_result"
    }
   ],
   "source": [
    "X_train_oof_final.shape"
   ]
  },
  {
   "cell_type": "code",
   "execution_count": 107,
   "metadata": {},
   "outputs": [
    {
     "data": {
      "text/plain": [
       "array([0., 1., 1., 1., 0., 0., 0., 0., 1., 1., 1., 1., 0., 0., 1., 1., 0.,\n",
       "       0., 1., 1., 0., 0., 1., 0., 0., 0., 0., 0., 1., 0., 0., 1., 1., 0.,\n",
       "       1., 0., 0., 0., 1., 1., 1., 1., 0., 1., 1., 0., 0., 1., 0., 1., 0.,\n",
       "       0., 1., 1., 0., 0., 1., 0., 1., 0., 0., 1., 1., 0., 0., 1., 1., 0.,\n",
       "       0., 0., 0., 0., 0., 0., 0., 0., 0., 0., 1., 1., 0., 0., 1., 0., 1.,\n",
       "       1., 0., 0., 1., 0., 0., 0., 0., 0., 0., 0., 0., 0., 1., 0., 1., 0.,\n",
       "       1., 0., 0., 0., 1., 0., 0., 0., 0., 1., 0., 1., 1., 0., 0., 0., 1.,\n",
       "       0., 0., 0., 0., 1., 1., 1., 0., 0., 1., 0., 0., 0., 1., 1., 0., 0.,\n",
       "       1., 0., 0., 0., 1., 1., 1., 0., 0., 0., 0., 0., 0., 0., 0., 1., 0.,\n",
       "       0., 0., 0., 1., 0., 0., 0., 0., 1., 0., 0., 0., 1., 1., 0., 0., 0.,\n",
       "       0., 0., 1., 0., 0., 0., 0., 1., 0., 0., 0., 0., 0., 1., 1., 0., 1.,\n",
       "       0., 0., 0., 1., 0., 1., 1., 1., 1., 0., 0., 1., 1., 0., 0., 0., 0.,\n",
       "       0., 1., 0., 0., 1., 0., 0., 1., 0., 0., 0., 1., 1., 0., 1., 0., 0.,\n",
       "       0., 0., 0., 0., 0., 0., 0., 0., 0., 1., 0., 0., 0., 0., 1., 0., 1.,\n",
       "       0., 0., 1., 1., 0., 0., 0., 0., 1., 1., 0., 0., 0., 1., 0., 0., 1.,\n",
       "       1., 1., 1., 1., 1., 0., 0., 0., 0., 1., 0., 0., 0., 1., 1., 0., 0.,\n",
       "       1., 0., 1., 1., 1., 0., 0., 1., 0., 0., 0., 0., 0., 0., 0., 0., 0.,\n",
       "       1., 1., 1., 0., 1., 0., 0., 0., 1., 0., 1., 1., 0., 0., 1., 0., 1.,\n",
       "       1., 1., 0., 1., 1., 1., 1., 0., 0., 1., 1., 0., 1., 1., 0., 0., 1.,\n",
       "       1., 0., 1., 0., 1., 1., 1., 1., 0., 0., 0., 1., 0., 0., 1., 0., 0.,\n",
       "       1., 1., 0., 0., 0., 1., 1., 1., 1., 0., 0., 0., 0., 0., 0., 0., 1.,\n",
       "       1., 1., 1., 0., 0., 1., 0., 0., 0., 1., 1., 1., 1., 0., 0., 0., 0.,\n",
       "       0., 1., 1., 0., 0., 0., 1., 1., 0., 1., 0., 0., 0., 1., 0., 1., 0.,\n",
       "       0., 0., 1., 1., 0., 1., 0., 0., 1., 0., 0., 1., 0., 1., 0., 0., 1.,\n",
       "       0., 0., 0., 0., 1., 0., 0., 1., 1., 1., 0., 0., 0., 0., 0., 1., 0.,\n",
       "       0., 1., 1., 0., 0., 0., 1., 1., 0., 0., 1., 0., 0., 0., 0., 1., 0.,\n",
       "       0., 1., 0., 1., 1., 0., 1., 0., 0., 0., 0., 0., 0., 0., 0., 1., 1.,\n",
       "       0., 0., 0., 0., 0., 0., 0., 0., 0., 0., 1., 0., 0., 1., 1., 1., 0.,\n",
       "       0., 0., 0., 1., 0., 0., 0., 1., 0., 0., 1., 0., 0., 1., 0., 0., 0.,\n",
       "       0., 0., 0., 1., 0., 1., 0., 0., 1., 1., 1., 1., 0., 1., 0., 0., 0.,\n",
       "       0., 0., 0., 1., 0., 0., 1., 0., 1., 0., 1., 0., 0., 1., 0., 0., 1.,\n",
       "       0., 0., 0., 1., 0., 0., 1., 1., 1., 0., 1., 0., 1., 1., 0., 0., 0.,\n",
       "       0., 0., 1., 0., 0., 1., 0., 0., 0., 0., 1., 0., 1., 0., 1., 1., 0.,\n",
       "       0., 0., 0., 1., 0., 0., 0., 0., 0., 0., 1., 0., 1., 0., 0., 1., 1.,\n",
       "       1., 0., 1., 1., 0., 0., 0., 1., 0., 0., 0., 0., 0., 1., 0., 1., 0.,\n",
       "       0., 1., 0., 0., 0., 1., 0., 0., 0., 0., 0., 0., 0., 1., 1., 0., 0.,\n",
       "       1., 0., 0., 1., 0., 1., 1., 0., 0., 0., 0., 0., 0., 0., 0., 1., 0.,\n",
       "       0., 0., 0., 0., 0., 0., 1., 0., 0., 0., 0., 0., 1., 0., 0., 1., 0.,\n",
       "       0., 0., 0., 1., 0., 1., 0., 1., 1., 0., 0., 1., 0., 0., 0., 0., 0.,\n",
       "       0., 0., 0., 0., 0., 0., 1., 1., 0., 0., 0., 0., 0., 0., 1., 0., 0.,\n",
       "       1., 0., 0., 0., 0., 0., 0., 0., 0., 1., 0., 1., 0., 0., 0., 0., 0.,\n",
       "       1., 0., 0., 1., 0., 1., 0., 0., 0., 1., 0., 1., 1., 1., 0., 0., 0.,\n",
       "       0., 0., 1., 1., 0., 0., 1., 0., 0., 0., 0., 0., 1., 1., 0., 1., 1.,\n",
       "       0., 0., 0., 0., 0., 0., 0., 0., 0., 0., 0., 1., 0., 0., 0., 0., 1.,\n",
       "       0., 0., 1., 1., 0., 0., 1., 1., 0., 0., 0., 1., 0., 0., 0., 1., 0.,\n",
       "       1., 0., 1., 0., 0., 0., 0., 1., 0., 1., 0., 0., 1., 0., 1., 1., 1.,\n",
       "       0., 0., 0., 0., 1., 0., 1., 0., 0., 0., 0., 0., 0., 0., 1., 1., 0.,\n",
       "       0., 0., 1., 1., 0., 0., 0., 0., 1., 0., 1., 0., 0., 0., 0., 0., 0.,\n",
       "       1., 0., 0., 0., 1., 0., 0., 1., 0., 0., 0., 1., 0., 1., 1., 1., 0.,\n",
       "       0., 0., 1., 0., 0., 0., 0., 0., 0., 1., 0., 0., 0., 0., 0., 0., 1.,\n",
       "       0., 0., 1., 1., 1., 1., 1., 0., 1., 0., 0., 0., 1., 0., 0., 1., 1.,\n",
       "       0., 0., 1., 0., 1., 0., 0., 1., 1., 0., 0., 0., 1., 1., 0., 1., 0.,\n",
       "       0., 0., 0., 1., 1., 0., 0.])"
      ]
     },
     "execution_count": 107,
     "metadata": {},
     "output_type": "execute_result"
    }
   ],
   "source": [
    "X_train_oof_final[:,0]"
   ]
  },
  {
   "cell_type": "code",
   "execution_count": 108,
   "metadata": {},
   "outputs": [
    {
     "data": {
      "text/plain": [
       "array([0. , 1. , 0. , 0. , 1. , 0. , 1. , 0. , 1. , 0. , 0. , 0. , 1. ,\n",
       "       0. , 1. , 1. , 0. , 0. , 1. , 1. , 0. , 0.4, 1. , 0. , 1. , 0. ,\n",
       "       1. , 0. , 0. , 0. , 0. , 0. , 1. , 1. , 0. , 0. , 1. , 1. , 0. ,\n",
       "       0. , 0. , 0. , 0. , 1. , 1. , 0. , 0. , 0. , 1. , 1. , 0. , 0. ,\n",
       "       1. , 1. , 0. , 0. , 0. , 0. , 0. , 1. , 0. , 0. , 0. , 1. , 1. ,\n",
       "       1. , 1. , 0. , 0. , 1. , 1. , 0. , 1. , 0. , 1. , 0. , 0. , 1. ,\n",
       "       0. , 1. , 1. , 0.2, 0. , 0. , 0. , 0. , 1. , 1. , 1. , 1. , 1. ,\n",
       "       0. , 1. , 0. , 0. , 0. , 1. , 0. , 1. , 0. , 1. , 0. , 0. , 0. ,\n",
       "       1. , 0. , 0. , 0. , 0. , 0. , 0. , 1. , 1. , 1. , 1. , 0. , 0. ,\n",
       "       1. , 0. , 1. , 1. , 0. , 1. , 0. , 0. , 1. , 0. , 1. , 0. , 0. ,\n",
       "       0. , 0. , 0. , 0. , 0. , 0. , 0. , 0. , 1. , 0. , 0. , 1. , 0. ,\n",
       "       0. , 0. , 0. , 0. , 0. , 0. , 0. , 1. , 0. , 0. , 1. , 0. , 0. ,\n",
       "       1. , 1. , 0. , 1. , 1. , 1. , 1. , 0. , 0. , 1. , 0. , 0. , 1. ,\n",
       "       1. , 0. , 0. , 0. , 0. , 0. , 1. , 1. , 0. , 1. , 1. , 0. , 0.2,\n",
       "       1. , 0. , 1. , 0. , 1. , 0. , 0. , 0. , 0. , 0. , 1. , 0. , 1. ,\n",
       "       0. , 1. , 1. , 0. , 1. , 1. , 1. , 0.2, 1. , 0. , 0. , 1. , 0. ,\n",
       "       1. , 0. , 0. , 0. , 0. , 1. , 0. , 0. , 1. , 0.2, 1. , 0. , 1. ,\n",
       "       0. , 1. , 0. , 1. , 1. , 0. , 1. , 0. , 0. , 0. , 1. , 0. , 0. ,\n",
       "       0. , 0. , 0.2, 0. , 1. , 1. , 1. , 1. , 0.2, 0. , 1. , 0. , 1. ,\n",
       "       0. , 1. , 1. , 1. , 0. , 0.2, 0. , 0. , 0. , 0. , 0. , 1. , 0. ,\n",
       "       0. , 0. , 1. , 1. , 0. , 0. , 0. , 0. , 1. , 0. , 0. , 0. , 1. ,\n",
       "       1. , 0. , 1. , 0. , 0. , 0. , 0. , 1. , 1. , 1. , 1. , 1. , 0. ,\n",
       "       0. , 0.2, 0. , 0. , 0. , 1. , 0. , 0.2, 0. , 0. , 1. , 0. , 0. ,\n",
       "       0. , 0. , 0. , 0. , 0. , 1. , 1. , 0.2, 0.4, 0.2, 1. , 0. , 0. ,\n",
       "       0. , 1. , 1. , 1. , 0.2, 0. , 0. , 0. , 0. , 0. , 0. , 0. , 1. ,\n",
       "       0. , 1. , 0. , 0. , 0. , 1. , 0. , 0. , 1. , 0. , 0. , 0. , 0. ,\n",
       "       0. , 0.4, 0. , 0. , 0. , 1. , 1. , 1. , 0. , 1. , 0. , 1. , 1. ,\n",
       "       0. , 0. , 0. , 1. , 0. , 1. , 0. , 0. , 1. , 0. , 1. , 1. , 0. ,\n",
       "       1. , 0. , 0. , 0. , 1. , 0. , 0. , 1. , 0. , 0. , 1. , 1. , 1. ,\n",
       "       0. , 0. , 0. , 0. , 0. , 1. , 1. , 0. , 1. , 0. , 0. , 0. , 0. ,\n",
       "       0. , 1. , 1. , 0. , 0. , 1. , 0. , 1. , 0. , 0. , 1. , 0. , 1. ,\n",
       "       0. , 0. , 0. , 0. , 0.2, 1. , 1. , 1. , 1. , 1. , 0. , 1. , 0. ,\n",
       "       0. , 1. ])"
      ]
     },
     "execution_count": 108,
     "metadata": {},
     "output_type": "execute_result"
    }
   ],
   "source": [
    "X_test_oof_final[:, 0]"
   ]
  },
  {
   "cell_type": "markdown",
   "metadata": {},
   "source": [
    "#### 4. Perform the final level 2 modeling using random forest"
   ]
  },
  {
   "cell_type": "code",
   "execution_count": 148,
   "metadata": {},
   "outputs": [
    {
     "data": {
      "text/plain": [
       "array([3, 2, 3, 5, 1, 1, 5, 3, 1, 3, 1, 1, 2, 1, 1, 1, 1, 3, 1, 1, 5, 1,\n",
       "       2, 1, 1, 2, 1, 3, 1, 1, 1, 6, 2, 1, 4, 1, 2, 1, 1, 2, 3, 2, 2, 1,\n",
       "       1, 1, 1, 4, 3, 1, 3, 1, 1, 3, 4, 4, 1, 1, 3, 4, 1, 2, 1, 1, 4, 5,\n",
       "       2, 4, 3, 1, 3, 5, 2, 5, 1, 4, 2, 1, 2, 1, 2, 3, 5, 1, 1, 1, 4, 3,\n",
       "       1, 3, 2, 4, 1, 1, 1, 1, 3, 2, 2, 1, 1, 1, 1, 1, 2, 3, 6, 2, 2, 2,\n",
       "       1, 2, 2, 6, 2, 3, 2, 1, 4, 3, 4, 1, 5, 1, 3, 6, 1, 1, 2, 1, 1, 2,\n",
       "       1, 3, 1, 5, 1, 1, 4, 1, 2, 5, 1, 2, 2, 4, 1, 1, 3, 3, 2, 3, 1, 2,\n",
       "       3, 1, 6, 3, 1, 3, 1, 4, 4, 1, 4, 3, 4, 6, 1, 1, 1, 1, 2, 3, 3, 4,\n",
       "       2, 5, 1, 6, 3, 1, 1, 3, 2, 3, 3, 2, 1, 1, 1, 4, 2, 1, 2, 3, 1, 2,\n",
       "       2, 1])"
      ]
     },
     "execution_count": 148,
     "metadata": {},
     "output_type": "execute_result"
    }
   ],
   "source": [
    "# set max_features normal distribution sample array\n",
    "num_feature = X_train_oof_final.shape[1]  # 6 features\n",
    "max_feature = norm.rvs(np.sqrt(num_feature), 2, size=200, random_state=42).astype(int)\n",
    "max_feature[max_feature <= 0] = 1\n",
    "max_feature[max_feature > num_feature] = num_feature\n",
    "max_feature"
   ]
  },
  {
   "cell_type": "code",
   "execution_count": 149,
   "metadata": {},
   "outputs": [
    {
     "data": {
      "text/plain": [
       "array([4, 3, 5, 7, 3, 3, 7, 5, 3, 5, 3, 3, 4, 2, 2, 2, 2, 4, 2, 2, 6, 3,\n",
       "       4, 2, 2, 4, 2, 4, 2, 3, 2, 7, 3, 2, 5, 2, 4, 2, 2, 4, 5, 4, 3, 3,\n",
       "       2, 2, 3, 6, 4, 2, 4, 3, 2, 5, 6, 5, 2, 3, 4, 5, 3, 3, 2, 2, 5, 6,\n",
       "       3, 6, 4, 2, 4, 7, 3, 7, 2, 5, 4, 3, 4, 2, 3, 4, 6, 2, 2, 2, 5, 4,\n",
       "       2, 5, 4, 5, 2, 3, 3, 2, 4, 4, 4, 3, 2, 3, 3, 2, 3, 4, 7, 4, 4, 3,\n",
       "       2, 3, 4, 8, 3, 4, 3, 2, 6, 5, 5, 2, 6, 2, 5, 8, 2, 2, 4, 2, 2, 4,\n",
       "       2, 4, 2, 7, 2, 3, 5, 2, 4, 6, 2, 4, 4, 5, 2, 2, 5, 4, 4, 4, 2, 4,\n",
       "       4, 2, 7, 4, 2, 5, 2, 5, 6, 2, 5, 4, 5, 7, 3, 2, 2, 2, 3, 4, 4, 5,\n",
       "       4, 6, 3, 9, 5, 2, 2, 4, 3, 5, 4, 3, 2, 2, 3, 5, 4, 2, 4, 4, 2, 4,\n",
       "       4, 2])"
      ]
     },
     "execution_count": 149,
     "metadata": {},
     "output_type": "execute_result"
    }
   ],
   "source": [
    "# set min_samples_split normal distribution sample array\n",
    "min_sample_split = norm.rvs(4, 2, size=200, random_state=42).astype(int)\n",
    "min_sample_split[min_sample_split <= 1] = 2\n",
    "min_sample_split"
   ]
  },
  {
   "cell_type": "code",
   "execution_count": 150,
   "metadata": {},
   "outputs": [
    {
     "data": {
      "text/plain": [
       "RandomizedSearchCV(cv=StratifiedKFold(n_splits=5, random_state=42, shuffle=False),\n",
       "                   error_score='raise-deprecating',\n",
       "                   estimator=RandomForestClassifier(bootstrap=True,\n",
       "                                                    class_weight=None,\n",
       "                                                    criterion='gini',\n",
       "                                                    max_depth=None,\n",
       "                                                    max_features='auto',\n",
       "                                                    max_leaf_nodes=None,\n",
       "                                                    min_impurity_decrease=0.0,\n",
       "                                                    min_impurity_split=None,\n",
       "                                                    min_samples_leaf=1,\n",
       "                                                    min_samples_split=2,\n",
       "                                                    min_weight_...\n",
       "       440, 445, 450, 455, 460, 465, 470, 475, 480, 485, 490, 495, 500,\n",
       "       505, 510, 515, 520, 525, 530, 535, 540, 545, 550, 555, 560, 565,\n",
       "       570, 575, 580, 585, 590, 595, 600, 605, 610, 615, 620, 625, 630,\n",
       "       635, 640, 645, 650, 655, 660, 665, 670, 675, 680, 685, 690, 695,\n",
       "       700, 705, 710, 715, 720, 725, 730, 735, 740, 745, 750, 755, 760,\n",
       "       765, 770, 775, 780, 785, 790, 795])},\n",
       "                   pre_dispatch='2*n_jobs', random_state=42, refit=True,\n",
       "                   return_train_score=False, scoring=None, verbose=0)"
      ]
     },
     "execution_count": 150,
     "metadata": {},
     "output_type": "execute_result"
    }
   ],
   "source": [
    "# Use the 2 previously defined normal distribution sample arrays 'max_feature' and \n",
    "# 'min_sample_split' \n",
    "rf = RandomForestClassifier(random_state=42)\n",
    "parameter_grid = {\n",
    "                 'n_estimators': np.arange(50, 800, step=5),\n",
    "                 'max_features': max_feature,\n",
    "                 'min_samples_split': min_sample_split,\n",
    "                 'min_samples_leaf': np.arange(1, 5, 1),\n",
    "                 'bootstrap': [True, False]\n",
    "                 }\n",
    "grid_random_stack = RandomizedSearchCV(rf, parameter_grid, n_iter=100, cv= cv_splitter, \n",
    "                                 random_state=42, refit=True, n_jobs=-1)\n",
    "grid_random_stack.fit(X_train_oof_final, y)"
   ]
  },
  {
   "cell_type": "code",
   "execution_count": 152,
   "metadata": {},
   "outputs": [
    {
     "data": {
      "text/plain": [
       "{'bootstrap': True,\n",
       " 'max_features': 2,\n",
       " 'min_samples_leaf': 3,\n",
       " 'min_samples_split': 3,\n",
       " 'n_estimators': 75}"
      ]
     },
     "execution_count": 152,
     "metadata": {},
     "output_type": "execute_result"
    }
   ],
   "source": [
    "random_forest_stack_best_param = grid_random_stack.best_params_  \n",
    "random_forest_stack_best_param"
   ]
  },
  {
   "cell_type": "code",
   "execution_count": 154,
   "metadata": {},
   "outputs": [
    {
     "data": {
      "text/plain": [
       "5"
      ]
     },
     "execution_count": 154,
     "metadata": {},
     "output_type": "execute_result"
    }
   ],
   "source": [
    "grid_random_stack.n_splits_"
   ]
  },
  {
   "cell_type": "code",
   "execution_count": 156,
   "metadata": {},
   "outputs": [
    {
     "data": {
      "text/plain": [
       "RandomForestClassifier(bootstrap=True, class_weight=None, criterion='gini',\n",
       "                       max_depth=None, max_features=2, max_leaf_nodes=None,\n",
       "                       min_impurity_decrease=0.0, min_impurity_split=None,\n",
       "                       min_samples_leaf=3, min_samples_split=3,\n",
       "                       min_weight_fraction_leaf=0.0, n_estimators=75,\n",
       "                       n_jobs=None, oob_score=False, random_state=42, verbose=0,\n",
       "                       warm_start=False)"
      ]
     },
     "execution_count": 156,
     "metadata": {},
     "output_type": "execute_result"
    }
   ],
   "source": [
    "grid_random_stack.best_estimator_"
   ]
  },
  {
   "cell_type": "code",
   "execution_count": 160,
   "metadata": {},
   "outputs": [],
   "source": [
    "x_clfs = ['Logistic', 'Random Forrest', 'Gradirnt Boost', 'XGBoost', 'MN Bayes', 'Knn']"
   ]
  },
  {
   "cell_type": "code",
   "execution_count": 168,
   "metadata": {},
   "outputs": [
    {
     "data": {
      "text/plain": [
       "array([0.06661485, 0.25789244, 0.26530306, 0.29144188, 0.03102381,\n",
       "       0.08772397])"
      ]
     },
     "execution_count": 168,
     "metadata": {},
     "output_type": "execute_result"
    }
   ],
   "source": [
    "grid_random_stack.best_estimator_.feature_importances_"
   ]
  },
  {
   "cell_type": "code",
   "execution_count": 172,
   "metadata": {},
   "outputs": [
    {
     "data": {
      "text/plain": [
       "Text(0.5,0.98,'Feature Importance in Stack Model')"
      ]
     },
     "execution_count": 172,
     "metadata": {},
     "output_type": "execute_result"
    },
    {
     "data": {
      "image/png": "[encoded data removed]",
      "text/plain": [
       "<matplotlib.figure.Figure at 0x175d6a622e8>"
      ]
     },
     "metadata": {},
     "output_type": "display_data"
    }
   ],
   "source": [
    "fig, ax = plt.subplots(figsize=(8, 4))\n",
    "ax.bar(x_clfs, grid_random_stack.best_estimator_.feature_importances_)\n",
    "ax.grid\n",
    "fig.suptitle('Feature Importance in Stack Model')"
   ]
  },
  {
   "cell_type": "code",
   "execution_count": 170,
   "metadata": {},
   "outputs": [
    {
     "name": "stdout",
     "output_type": "stream",
     "text": [
      "[0.8547486  0.83798883 0.83707865 0.80898876 0.8700565 ]\n",
      "Mean (random): 0.8417722686146151\n",
      "SD (random): 0.020393555315705667\n"
     ]
    }
   ],
   "source": [
    "scores_random_stack = cross_val_score(grid_random_stack.best_estimator_, X_train_oof_final, y, cv=cv_splitter, n_jobs=-1)\n",
    "print(scores_random_stack)\n",
    "print('Mean (random): '+str(scores_random_stack.mean()))\n",
    "print('SD (random): '+str(scores_random_stack.std()))"
   ]
  },
  {
   "cell_type": "markdown",
   "metadata": {},
   "source": [
    "### 9. Compare results of all 7 models"
   ]
  },
  {
   "cell_type": "code",
   "execution_count": 173,
   "metadata": {},
   "outputs": [],
   "source": [
    "cross_val_results_all = pd.Series([scores_logis, scores_random, scores_gradient, \n",
    "                       scores_xgb, scores_mnb, scores_knn, scores_random_stack], \n",
    "            index=['Logistic', 'Random Forrest', 'Gradirnt Boost', 'XGBoost', 'MN Bayes', 'Knn', \n",
    "                   'Stack'])"
   ]
  },
  {
   "cell_type": "code",
   "execution_count": 180,
   "metadata": {},
   "outputs": [
    {
     "data": {
      "text/plain": [
       "Text(0.5,0.98,'Mean of Cross-Validation Scores')"
      ]
     },
     "execution_count": 180,
     "metadata": {},
     "output_type": "execute_result"
    },
    {
     "data": {
      "image/png": "[encoded data removed]",
      "text/plain": [
       "<matplotlib.figure.Figure at 0x175d73e9908>"
      ]
     },
     "metadata": {},
     "output_type": "display_data"
    }
   ],
   "source": [
    "fig, ax = plt.subplots(figsize=(10, 5))\n",
    "sns.barplot(x=cross_val_results_all.index, y=cross_val_results_all.apply(np.mean))\n",
    "ax.set_ylim(0.77, 0.85)\n",
    "ax.set_yticks(np.arange(0.77, 0.85, step=0.01))\n",
    "fig.suptitle('Mean of Cross-Validation Scores')"
   ]
  },
  {
   "cell_type": "code",
   "execution_count": 181,
   "metadata": {},
   "outputs": [
    {
     "data": {
      "text/plain": [
       "Text(0.5,0.98,'Standard Deviation of Cross-Validation Scores')"
      ]
     },
     "execution_count": 181,
     "metadata": {},
     "output_type": "execute_result"
    },
    {
     "data": {
      "image/png": "[encoded data removed]",
      "text/plain": [
       "<matplotlib.figure.Figure at 0x175d5f06240>"
      ]
     },
     "metadata": {},
     "output_type": "display_data"
    }
   ],
   "source": [
    "fig, ax = plt.subplots(figsize=(10, 5))\n",
    "sns.barplot(x=cross_val_results_all.index, y=cross_val_results_all.apply(np.std))\n",
    "ax.set_ylim(0.01, 0.06)\n",
    "ax.set_yticks(np.arange(0.01, 0.06, step=0.005))\n",
    "fig.suptitle('Standard Deviation of Cross-Validation Scores')"
   ]
  },
  {
   "cell_type": "markdown",
   "metadata": {},
   "source": [
    "## Model Predictions"
   ]
  },
  {
   "cell_type": "markdown",
   "metadata": {},
   "source": [
    "### 1. Logistic regression"
   ]
  },
  {
   "cell_type": "code",
   "execution_count": null,
   "metadata": {},
   "outputs": [],
   "source": [
    "y_test_predict_logis = grid_logis.predict(X_test)\n",
    "submission_logis_2 = pd.DataFrame({'PassengerId': passenger_id, 'Survived': y_test_predict_logis})\n",
    "\n",
    "existing_file = glob.glob('submission_logis_2.csv')\n",
    "assert (not existing_file), 'File already existed.'\n",
    "submission_logis_2.to_csv('submission_logis_2.csv', index=False)\n",
    "# (This submission got a public score of 0.794)"
   ]
  },
  {
   "cell_type": "markdown",
   "metadata": {},
   "source": [
    "### 2. Random forrest"
   ]
  },
  {
   "cell_type": "code",
   "execution_count": null,
   "metadata": {},
   "outputs": [],
   "source": [
    "y_test_predict_random = grid_random.predict(X_test)\n",
    "submission_random_2 = pd.DataFrame({'PassengerId': passenger_id, \n",
    "                                    'Survived': y_test_predict_random})\n",
    "\n",
    "existing_file = glob.glob('submission_random_2.csv')\n",
    "assert (not existing_file), 'File already existed.'\n",
    "submission_random_2.to_csv('submission_random_2.csv', index=False)\n",
    "# (This submission got a public score of 0.799)"
   ]
  },
  {
   "cell_type": "markdown",
   "metadata": {},
   "source": [
    "### 3. Gradient boosting"
   ]
  },
  {
   "cell_type": "code",
   "execution_count": null,
   "metadata": {},
   "outputs": [],
   "source": [
    "y_test_predict_gradient = grid_gradient.predict(X_test)\n",
    "submission_gradient_2 = pd.DataFrame({'PassengerId': passenger_id, \n",
    "                                      'Survived': y_test_predict_gradient})\n",
    "\n",
    "existing_file = glob.glob('submission_gradient_2.csv')\n",
    "assert (not existing_file), 'File already existed.'\n",
    "submission_gradient_2.to_csv('submission_gradient_2.csv', index=False)\n",
    "# (This submission got a public score of 0.794)"
   ]
  },
  {
   "cell_type": "markdown",
   "metadata": {},
   "source": [
    "### 4. XGboost"
   ]
  },
  {
   "cell_type": "code",
   "execution_count": null,
   "metadata": {},
   "outputs": [],
   "source": [
    "y_test_predict_xgb = grid_xgb.predict(X_test)\n",
    "submission_xgb_2 = pd.DataFrame({'PassengerId': passenger_id, 'Survived': y_test_predict_xgb})\n",
    "\n",
    "existing_file = glob.glob('submission_xgb_2.csv')\n",
    "assert (not existing_file), 'File already existed.'\n",
    "submission_xgb_2.to_csv('submission_xgb_2.csv', index=False)\n",
    "# (This submission got a public score of 0.794)"
   ]
  },
  {
   "cell_type": "markdown",
   "metadata": {},
   "source": [
    "### 5. Multinomial Naive Bayes"
   ]
  },
  {
   "cell_type": "code",
   "execution_count": null,
   "metadata": {},
   "outputs": [],
   "source": [
    "y_test_predict_mnb = grid_mnb.predict(X_test)\n",
    "submission_mnb_2 = pd.DataFrame({'PassengerId': passenger_id, 'Survived': y_test_predict_mnb})\n",
    "\n",
    "existing_file = glob.glob('submission_mnb_2.csv')\n",
    "assert (not existing_file), 'File already existed.'\n",
    "submission_mnb_2.to_csv('submission_mnb_2.csv', index=False)\n",
    "# (This submission got a public score of 0.746)"
   ]
  },
  {
   "cell_type": "markdown",
   "metadata": {},
   "source": [
    "### 6. K Neareat Neighbors"
   ]
  },
  {
   "cell_type": "code",
   "execution_count": null,
   "metadata": {},
   "outputs": [],
   "source": [
    "y_test_predict_knn = grid_knn.predict(X_test)\n",
    "submission_knn_2 = pd.DataFrame({'PassengerId': passenger_id, 'Survived': y_test_predict_knn})\n",
    "\n",
    "existing_file = glob.glob('submission_knn_2.csv')\n",
    "assert (not existing_file), 'File already existed.'\n",
    "submission_knn_2.to_csv('submission_knn_2.csv', index=False)\n",
    "# (This submission got a public score of 0.789)"
   ]
  },
  {
   "cell_type": "markdown",
   "metadata": {},
   "source": [
    "### 7. Stack"
   ]
  },
  {
   "cell_type": "code",
   "execution_count": null,
   "metadata": {},
   "outputs": [],
   "source": [
    "y_test_predict_random_stack = grid_random_stack.predict(X_test_oof_final)\n",
    "submission_stack_2 = pd.DataFrame({'PassengerId': passenger_id, \n",
    "                                   'Survived':y_test_predict_random_stack})\n",
    "\n",
    "existing_file = glob.glob('submission_stack_2.csv')\n",
    "assert (not existing_file), 'File already existed.'\n",
    "submission_stack_2.to_csv('submission_stack_2.csv', index=False)\n",
    "# (This submission got a public score of 0.799)"
   ]
  },
  {
   "cell_type": "markdown",
   "metadata": {},
   "source": [
    "### 8. Finally perform a majority vote using all 7 model predictions"
   ]
  },
  {
   "cell_type": "code",
   "execution_count": null,
   "metadata": {},
   "outputs": [],
   "source": [
    "predict_array = np.array([y_test_predict_logis, y_test_predict_random, y_test_predict_gradient, \n",
    "                    y_test_predict_xgb, y_test_predict_mnb, y_test_predict_knn, \n",
    "                    y_test_predict_random_stack])"
   ]
  },
  {
   "cell_type": "code",
   "execution_count": null,
   "metadata": {},
   "outputs": [],
   "source": [
    "vote_df = pd.DataFrame(predict_array, index=['Logistic', 'Random Forrest', 'Gradirnt Boost', \n",
    "                                           'XGBoost', 'MN Bayes', 'Knn', 'Stack'])"
   ]
  },
  {
   "cell_type": "code",
   "execution_count": null,
   "metadata": {},
   "outputs": [],
   "source": [
    "y_test_predict_vote = np.array(vote_df.mode(axis=0))[0]"
   ]
  },
  {
   "cell_type": "code",
   "execution_count": null,
   "metadata": {},
   "outputs": [],
   "source": [
    "submission_vote_2 = pd.DataFrame({'PassengerId': passenger_id, 'Survived': y_test_predict_vote})\n",
    "\n",
    "existing_file = glob.glob('submission_vote_2.csv')\n",
    "assert (not existing_file), 'File already existed.'\n",
    "submission_vote_2.to_csv('submission_vote_2.csv', index=False)\n",
    "# (This submission got a public score of 0.799)"
   ]
  },
  {
   "cell_type": "markdown",
   "metadata": {},
   "source": [
    "### 9. Public score comparison"
   ]
  },
  {
   "cell_type": "code",
   "execution_count": null,
   "metadata": {},
   "outputs": [],
   "source": [
    "fig, ax = plt.subplots(figsize=(11, 5))\n",
    "ax.set_ylim(0.735, 0.805)\n",
    "ax.set_yticks(np.arange(0.735, 0.805, step=0.01))\n",
    "sns.barplot(x=['Logistic', 'Random Forrest', 'Gradirnt Boost', 'XGBoost', 'MN Bayes', 'Knn', \n",
    "           'Stack', 'Vote'], y=[0.794, 0.799, 0.794, 0.794, 0.746, 0.789, 0.799, 0.799])"
   ]
  },
  {
   "cell_type": "code",
   "execution_count": 22,
   "metadata": {},
   "outputs": [
    {
     "data": {
      "text/plain": [
       "'C:\\\\Users\\\\tony3\\\\OneDrive\\\\Documents\\\\Titanic'"
      ]
     },
     "execution_count": 22,
     "metadata": {},
     "output_type": "execute_result"
    }
   ],
   "source": [
    "pwd"
   ]
  },
  {
   "cell_type": "code",
   "execution_count": 27,
   "metadata": {},
   "outputs": [
    {
     "data": {
      "text/plain": [
       "array([0, 1, 0, 0, 1, 0, 1, 0, 1, 0, 0, 0, 1, 0, 1, 1, 0, 0, 1, 1, 0, 1,\n",
       "       1, 0, 1, 0, 1, 0, 0, 0, 0, 0, 1, 1, 0, 0, 1, 1, 0, 0, 0, 0, 0, 1,\n",
       "       1, 0, 0, 0, 1, 1, 0, 0, 1, 1, 0, 0, 0, 0, 0, 1, 0, 0, 0, 1, 0, 1,\n",
       "       1, 0, 0, 1, 1, 0, 1, 0, 1, 0, 0, 1, 0, 1, 1, 0, 0, 0, 0, 0, 1, 1,\n",
       "       1, 1, 1, 0, 1, 0, 0, 0, 1, 0, 1, 0, 1, 0, 0, 0, 1, 0, 0, 0, 0, 0,\n",
       "       0, 1, 1, 1, 1, 0, 0, 1, 0, 1, 1, 0, 1, 0, 0, 1, 0, 1, 0, 0, 0, 0,\n",
       "       0, 0, 0, 0, 0, 0, 1, 0, 0, 1, 0, 0, 0, 0, 0, 0, 0, 0, 1, 0, 0, 1,\n",
       "       0, 0, 1, 1, 0, 1, 1, 1, 1, 0, 0, 1, 0, 0, 1, 1, 0, 0, 0, 0, 0, 1,\n",
       "       1, 0, 1, 1, 0, 0, 1, 0, 1, 0, 1, 0, 0, 0, 0, 0, 1, 0, 1, 0, 1, 1,\n",
       "       0, 1, 1, 1, 0, 1, 0, 0, 1, 0, 1, 0, 0, 0, 0, 1, 0, 0, 1, 0, 1, 0,\n",
       "       1, 0, 1, 0, 1, 1, 0, 1, 0, 0, 0, 1, 0, 0, 0, 0, 0, 0, 1, 1, 1, 1,\n",
       "       0, 0, 1, 0, 1, 0, 1, 1, 1, 0, 0, 0, 0, 0, 0, 0, 1, 0, 0, 0, 1, 1,\n",
       "       0, 0, 0, 0, 1, 0, 0, 0, 1, 1, 0, 1, 0, 0, 0, 0, 1, 1, 1, 1, 1, 0,\n",
       "       0, 0, 0, 0, 0, 1, 0, 0, 0, 0, 1, 0, 0, 0, 0, 0, 0, 0, 1, 1, 0, 1,\n",
       "       0, 1, 0, 0, 0, 1, 1, 1, 0, 0, 0, 0, 0, 0, 0, 0, 1, 0, 1, 0, 0, 0,\n",
       "       1, 0, 0, 1, 0, 0, 0, 0, 0, 1, 0, 0, 0, 1, 1, 1, 0, 1, 0, 1, 1, 0,\n",
       "       0, 0, 1, 0, 1, 0, 0, 1, 0, 1, 1, 0, 1, 0, 0, 0, 1, 0, 0, 1, 0, 0,\n",
       "       1, 1, 1, 0, 0, 0, 0, 0, 1, 1, 0, 1, 0, 0, 0, 0, 0, 1, 1, 0, 0, 1,\n",
       "       0, 1, 0, 0, 1, 0, 1, 0, 0, 0, 0, 0, 1, 1, 1, 1, 1, 0, 1, 0, 0, 1],\n",
       "      dtype=int64)"
      ]
     },
     "execution_count": 27,
     "metadata": {},
     "output_type": "execute_result"
    }
   ],
   "source": [
    "test = pd.read_csv('submission_xgb_2_Kaggle.csv')\n",
    "test_array = np.array(test['Survived'])\n",
    "test_array"
   ]
  },
  {
   "cell_type": "code",
   "execution_count": 28,
   "metadata": {},
   "outputs": [
    {
     "data": {
      "text/plain": [
       "[]"
      ]
     },
     "execution_count": 28,
     "metadata": {},
     "output_type": "execute_result"
    }
   ],
   "source": [
    "# compare with Kaggle with submission_xgb_2.csv\n",
    "p = np.equal([0, 1, 0, 0, 1, 0, 1, 0, 1, 0, 0, 0, 1, 0, 1, 1, 0, 0, 1, 1, 0, 1,\n",
    "       1, 0, 1, 0, 1, 0, 0, 0, 0, 0, 1, 1, 0, 0, 1, 1, 0, 0, 0, 0, 0, 1,\n",
    "       1, 0, 0, 0, 1, 1, 0, 0, 1, 1, 0, 0, 0, 0, 0, 1, 0, 0, 0, 1, 0, 1,\n",
    "       1, 0, 0, 1, 1, 0, 1, 0, 1, 0, 0, 1, 0, 1, 1, 0, 0, 0, 0, 0, 1, 1,\n",
    "       1, 1, 1, 0, 1, 0, 0, 0, 1, 0, 1, 0, 1, 0, 0, 0, 1, 0, 0, 0, 0, 0,\n",
    "       0, 1, 1, 1, 1, 0, 0, 1, 0, 1, 1, 0, 1, 0, 0, 1, 0, 1, 0, 0, 0, 0,\n",
    "       0, 0, 0, 0, 0, 0, 1, 0, 0, 1, 0, 0, 0, 0, 0, 0, 0, 0, 1, 0, 0, 1,\n",
    "       0, 0, 1, 1, 0, 1, 1, 1, 1, 0, 0, 1, 0, 0, 1, 1, 0, 0, 0, 0, 0, 1,\n",
    "       1, 0, 1, 1, 0, 0, 1, 0, 1, 0, 1, 0, 0, 0, 0, 0, 1, 0, 1, 0, 1, 1,\n",
    "       0, 1, 1, 1, 0, 1, 0, 0, 1, 0, 1, 0, 0, 0, 0, 1, 0, 0, 1, 0, 1, 0,\n",
    "       1, 0, 1, 0, 1, 1, 0, 1, 0, 0, 0, 1, 0, 0, 0, 0, 0, 0, 1, 1, 1, 1,\n",
    "       0, 0, 1, 0, 1, 0, 1, 1, 1, 0, 0, 0, 0, 0, 0, 0, 1, 0, 0, 0, 1, 1,\n",
    "       0, 0, 0, 0, 1, 0, 0, 0, 1, 1, 0, 1, 0, 0, 0, 0, 1, 1, 1, 1, 1, 0,\n",
    "       0, 0, 0, 0, 0, 1, 0, 0, 0, 0, 1, 0, 0, 0, 0, 0, 0, 0, 1, 1, 0, 1,\n",
    "       0, 1, 0, 0, 0, 1, 1, 1, 0, 0, 0, 0, 0, 0, 0, 0, 1, 0, 1, 0, 0, 0,\n",
    "       1, 0, 0, 1, 0, 0, 0, 0, 0, 1, 0, 0, 0, 1, 1, 1, 0, 1, 0, 1, 1, 0,\n",
    "       0, 0, 1, 0, 1, 0, 0, 1, 0, 1, 1, 0, 1, 0, 0, 0, 1, 0, 0, 1, 0, 0,\n",
    "       1, 1, 1, 0, 0, 0, 0, 0, 1, 1, 0, 1, 0, 0, 0, 0, 0, 1, 1, 0, 0, 1,\n",
    "       0, 1, 0, 0, 1, 0, 1, 0, 0, 0, 0, 0, 1, 1, 1, 1, 1, 0, 1, 0, 0, 1], \n",
    "            [0, 1, 0, 0, 1, 0, 1, 0, 1, 0, 0, 0, 1, 0, 1, 1, 0, 0, 1, 1, 0, 1,\n",
    "       1, 0, 1, 0, 1, 0, 0, 0, 0, 0, 1, 1, 0, 0, 1, 1, 0, 0, 0, 0, 0, 1,\n",
    "       1, 0, 0, 0, 1, 1, 0, 0, 1, 1, 0, 0, 0, 0, 0, 1, 0, 0, 0, 1, 0, 1,\n",
    "       1, 0, 0, 1, 1, 0, 1, 0, 1, 0, 0, 1, 0, 1, 1, 0, 0, 0, 0, 0, 1, 1,\n",
    "       1, 1, 1, 0, 1, 0, 0, 0, 1, 0, 1, 0, 1, 0, 0, 0, 1, 0, 0, 0, 0, 0,\n",
    "       0, 1, 1, 1, 1, 0, 0, 1, 0, 1, 1, 0, 1, 0, 0, 1, 0, 1, 0, 0, 0, 0,\n",
    "       0, 0, 0, 0, 0, 0, 1, 0, 0, 1, 0, 0, 0, 0, 0, 0, 0, 0, 1, 0, 0, 1,\n",
    "       0, 0, 1, 1, 0, 1, 1, 1, 1, 0, 0, 1, 0, 0, 1, 1, 0, 0, 0, 0, 0, 1,\n",
    "       1, 0, 1, 1, 0, 0, 1, 0, 1, 0, 1, 0, 0, 0, 0, 0, 1, 0, 1, 0, 1, 1,\n",
    "       0, 1, 1, 1, 0, 1, 0, 0, 1, 0, 1, 0, 0, 0, 0, 1, 0, 0, 1, 0, 1, 0,\n",
    "       1, 0, 1, 0, 1, 1, 0, 1, 0, 0, 0, 1, 0, 0, 0, 0, 0, 0, 1, 1, 1, 1,\n",
    "       0, 0, 1, 0, 1, 0, 1, 1, 1, 0, 0, 0, 0, 0, 0, 0, 1, 0, 0, 0, 1, 1,\n",
    "       0, 0, 0, 0, 1, 0, 0, 0, 1, 1, 0, 1, 0, 0, 0, 0, 1, 1, 1, 1, 1, 0,\n",
    "       0, 0, 0, 0, 0, 1, 0, 0, 0, 0, 1, 0, 0, 0, 0, 0, 0, 0, 1, 1, 0, 1,\n",
    "       0, 1, 0, 0, 0, 1, 1, 1, 0, 0, 0, 0, 0, 0, 0, 0, 1, 0, 1, 0, 0, 0,\n",
    "       1, 0, 0, 1, 0, 0, 0, 0, 0, 1, 0, 0, 0, 1, 1, 1, 0, 1, 0, 1, 1, 0,\n",
    "       0, 0, 1, 0, 1, 0, 0, 1, 0, 1, 1, 0, 1, 0, 0, 0, 1, 0, 0, 1, 0, 0,\n",
    "       1, 1, 1, 0, 0, 0, 0, 0, 1, 1, 0, 1, 0, 0, 0, 0, 0, 1, 1, 0, 0, 1,\n",
    "       0, 1, 0, 0, 1, 0, 1, 0, 0, 0, 0, 0, 1, 1, 1, 1, 1, 0, 1, 0, 0, 1])\n",
    "[i for i in p if ~i]"
   ]
  },
  {
   "cell_type": "code",
   "execution_count": null,
   "metadata": {},
   "outputs": [],
   "source": []
  }
 ],
 "metadata": {
  "kernelspec": {
   "display_name": "Python 3",
   "language": "python",
   "name": "python3"
  },
  "language_info": {
   "codemirror_mode": {
    "name": "ipython",
    "version": 3
   },
   "file_extension": ".py",
   "mimetype": "text/x-python",
   "name": "python",
   "nbconvert_exporter": "python",
   "pygments_lexer": "ipython3",
   "version": "3.6.4"
  }
 },
 "nbformat": 4,
 "nbformat_minor": 2
}
